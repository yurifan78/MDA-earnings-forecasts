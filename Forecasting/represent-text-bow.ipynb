{
 "cells": [
  {
   "cell_type": "code",
   "execution_count": 1,
   "metadata": {
    "collapsed": true,
    "ExecuteTime": {
     "start_time": "2023-08-05T16:01:48.427999Z",
     "end_time": "2023-08-05T16:01:49.376973Z"
    }
   },
   "outputs": [
    {
     "name": "stdout",
     "output_type": "stream",
     "text": [
      "Intel MKL WARNING: Support of Intel(R) Streaming SIMD Extensions 4.2 (Intel(R) SSE4.2) enabled only processors has been deprecated. Intel oneAPI Math Kernel Library 2025.0 will require Intel(R) Advanced Vector Extensions (Intel(R) AVX) instructions.\n",
      "Intel MKL WARNING: Support of Intel(R) Streaming SIMD Extensions 4.2 (Intel(R) SSE4.2) enabled only processors has been deprecated. Intel oneAPI Math Kernel Library 2025.0 will require Intel(R) Advanced Vector Extensions (Intel(R) AVX) instructions.\n"
     ]
    }
   ],
   "source": [
    "import pandas as pd\n",
    "from collections import defaultdict"
   ]
  },
  {
   "cell_type": "code",
   "execution_count": 2,
   "outputs": [],
   "source": [
    "df = pd.read_pickle('datasets/features-label-text-represented.pkl')"
   ],
   "metadata": {
    "collapsed": false,
    "ExecuteTime": {
     "start_time": "2023-08-05T16:01:54.579341Z",
     "end_time": "2023-08-05T16:03:07.161716Z"
    }
   }
  },
  {
   "cell_type": "code",
   "execution_count": 3,
   "outputs": [
    {
     "data": {
      "text/plain": "(43290, 11)"
     },
     "execution_count": 3,
     "metadata": {},
     "output_type": "execute_result"
    }
   ],
   "source": [
    "df.shape"
   ],
   "metadata": {
    "collapsed": false,
    "ExecuteTime": {
     "start_time": "2023-08-05T16:03:43.191611Z",
     "end_time": "2023-08-05T16:03:43.198383Z"
    }
   }
  },
  {
   "cell_type": "code",
   "execution_count": 4,
   "outputs": [
    {
     "data": {
      "text/plain": "    CIK file_id  year       roe     opinc    nopinc  \\\n0  1750       3  2005  0.095362  0.131652 -0.015174   \n1  1750       4  2006  0.127945  0.149182 -0.022282   \n2  1750       7  2009  0.063607  0.105913 -0.030043   \n3  1750       8  2010  0.088296  0.136418 -0.040048   \n4  1750       9  2011  0.079613  0.138888 -0.026679   \n\n                                 preprocessed_item_7  token_count  \\\n0  [direct, labor, overhead, sales, structure, sy...         2120   \n1  [date, statements, reflect, occurrence, antici...         3219   \n2  [unanticipated, events, general, overview, rep...         3364   \n3  [unanticipated, events, general, overview, rep...         3045   \n4  [unanticipated, events, general, overview, rep...         2503   \n\n   roe_next_year      tone                                        text_vector  \n0       0.127945 -0.000472  [0.90494365, 0.074863456, -0.22782834, 0.33961...  \n1       0.139220  0.000000  [0.9111878, 0.08885506, -0.31519878, 0.4127013...  \n2       0.088296  0.000000  [0.7394947, 0.017999234, -0.41983142, 0.052898...  \n3       0.079613 -0.000328  [0.9311413, 0.0732959, -0.42346224, 0.16167574...  \n4       0.061607 -0.000799  [0.8763539, 0.0571177, -0.4936092, 0.20794152,...  ",
      "text/html": "<div>\n<style scoped>\n    .dataframe tbody tr th:only-of-type {\n        vertical-align: middle;\n    }\n\n    .dataframe tbody tr th {\n        vertical-align: top;\n    }\n\n    .dataframe thead th {\n        text-align: right;\n    }\n</style>\n<table border=\"1\" class=\"dataframe\">\n  <thead>\n    <tr style=\"text-align: right;\">\n      <th></th>\n      <th>CIK</th>\n      <th>file_id</th>\n      <th>year</th>\n      <th>roe</th>\n      <th>opinc</th>\n      <th>nopinc</th>\n      <th>preprocessed_item_7</th>\n      <th>token_count</th>\n      <th>roe_next_year</th>\n      <th>tone</th>\n      <th>text_vector</th>\n    </tr>\n  </thead>\n  <tbody>\n    <tr>\n      <th>0</th>\n      <td>1750</td>\n      <td>3</td>\n      <td>2005</td>\n      <td>0.095362</td>\n      <td>0.131652</td>\n      <td>-0.015174</td>\n      <td>[direct, labor, overhead, sales, structure, sy...</td>\n      <td>2120</td>\n      <td>0.127945</td>\n      <td>-0.000472</td>\n      <td>[0.90494365, 0.074863456, -0.22782834, 0.33961...</td>\n    </tr>\n    <tr>\n      <th>1</th>\n      <td>1750</td>\n      <td>4</td>\n      <td>2006</td>\n      <td>0.127945</td>\n      <td>0.149182</td>\n      <td>-0.022282</td>\n      <td>[date, statements, reflect, occurrence, antici...</td>\n      <td>3219</td>\n      <td>0.139220</td>\n      <td>0.000000</td>\n      <td>[0.9111878, 0.08885506, -0.31519878, 0.4127013...</td>\n    </tr>\n    <tr>\n      <th>2</th>\n      <td>1750</td>\n      <td>7</td>\n      <td>2009</td>\n      <td>0.063607</td>\n      <td>0.105913</td>\n      <td>-0.030043</td>\n      <td>[unanticipated, events, general, overview, rep...</td>\n      <td>3364</td>\n      <td>0.088296</td>\n      <td>0.000000</td>\n      <td>[0.7394947, 0.017999234, -0.41983142, 0.052898...</td>\n    </tr>\n    <tr>\n      <th>3</th>\n      <td>1750</td>\n      <td>8</td>\n      <td>2010</td>\n      <td>0.088296</td>\n      <td>0.136418</td>\n      <td>-0.040048</td>\n      <td>[unanticipated, events, general, overview, rep...</td>\n      <td>3045</td>\n      <td>0.079613</td>\n      <td>-0.000328</td>\n      <td>[0.9311413, 0.0732959, -0.42346224, 0.16167574...</td>\n    </tr>\n    <tr>\n      <th>4</th>\n      <td>1750</td>\n      <td>9</td>\n      <td>2011</td>\n      <td>0.079613</td>\n      <td>0.138888</td>\n      <td>-0.026679</td>\n      <td>[unanticipated, events, general, overview, rep...</td>\n      <td>2503</td>\n      <td>0.061607</td>\n      <td>-0.000799</td>\n      <td>[0.8763539, 0.0571177, -0.4936092, 0.20794152,...</td>\n    </tr>\n  </tbody>\n</table>\n</div>"
     },
     "execution_count": 4,
     "metadata": {},
     "output_type": "execute_result"
    }
   ],
   "source": [
    "df.head()"
   ],
   "metadata": {
    "collapsed": false,
    "ExecuteTime": {
     "start_time": "2023-08-05T16:03:44.085482Z",
     "end_time": "2023-08-05T16:03:44.116687Z"
    }
   }
  },
  {
   "cell_type": "code",
   "execution_count": 5,
   "outputs": [],
   "source": [
    "dictionary_df = pd.read_csv('../LMD/LMD-distinct-words.csv')\n",
    "dictionary = dictionary_df['word'].tolist()"
   ],
   "metadata": {
    "collapsed": false,
    "ExecuteTime": {
     "start_time": "2023-08-05T16:03:53.732316Z",
     "end_time": "2023-08-05T16:03:53.768238Z"
    }
   }
  },
  {
   "cell_type": "code",
   "execution_count": 6,
   "outputs": [],
   "source": [
    "def represent_by_bow(tokens, dictionary):\n",
    "    word_counts = defaultdict(int)\n",
    "    for token in tokens:\n",
    "        if token in dictionary:\n",
    "            word_counts[token] += 1\n",
    "\n",
    "    bow_vector = [word_counts[word] for word in dictionary]\n",
    "    return bow_vector"
   ],
   "metadata": {
    "collapsed": false,
    "ExecuteTime": {
     "start_time": "2023-08-05T16:03:56.020233Z",
     "end_time": "2023-08-05T16:03:56.026587Z"
    }
   }
  },
  {
   "cell_type": "code",
   "execution_count": 12,
   "outputs": [],
   "source": [
    "df_copy = df.copy()\n",
    "df_copy['bow_vector'] = df_copy['preprocessed_item_7'].apply(\n",
    "    lambda tokens: represent_by_bow(tokens, dictionary)\n",
    ")"
   ],
   "metadata": {
    "collapsed": false,
    "ExecuteTime": {
     "start_time": "2023-08-05T16:08:48.841056Z",
     "end_time": "2023-08-05T17:46:46.773798Z"
    }
   }
  },
  {
   "cell_type": "code",
   "execution_count": 16,
   "outputs": [
    {
     "name": "stderr",
     "output_type": "stream",
     "text": [
      "\n",
      "KeyboardInterrupt\n",
      "\n"
     ]
    }
   ],
   "source": [
    "df_copy = df_copy.drop(['preprocessed_item_7', 'text_vector'], axis=1)"
   ],
   "metadata": {
    "collapsed": false,
    "ExecuteTime": {
     "start_time": "2023-08-05T19:23:36.255531Z",
     "end_time": "2023-08-05T19:23:36.309065Z"
    }
   }
  },
  {
   "cell_type": "code",
   "execution_count": 18,
   "outputs": [
    {
     "data": {
      "text/plain": "           CIK file_id  year       roe     opinc    nopinc  token_count  \\\n0         1750       3  2005  0.095362  0.131652 -0.015174         2120   \n1         1750       4  2006  0.127945  0.149182 -0.022282         3219   \n2         1750       7  2009  0.063607  0.105913 -0.030043         3364   \n3         1750       8  2010  0.088296  0.136418 -0.040048         3045   \n4         1750       9  2011  0.079613  0.138888 -0.026679         2503   \n...        ...     ...   ...       ...       ...       ...          ...   \n43285  1590714   72797  2016 -0.025374  0.014667 -0.016629        11060   \n43286  1590714   72798  2017 -0.103030  0.106369 -0.039584         8210   \n43287  1596993   72806  2015  0.139539  0.136995  0.004964         4796   \n43288  1596993   72807  2016 -0.001470 -0.001309 -0.000161         6947   \n43289  1596993   72808  2017 -0.021082 -0.029803  0.000213         6696   \n\n       roe_next_year      tone  \\\n0           0.127945 -0.000472   \n1           0.139220  0.000000   \n2           0.088296  0.000000   \n3           0.079613 -0.000328   \n4           0.061607 -0.000799   \n...              ...       ...   \n43285      -0.103030 -0.000090   \n43286      -0.128702 -0.000244   \n43287      -0.001470  0.000000   \n43288      -0.021082  0.000000   \n43289      -0.054427  0.000000   \n\n                                              bow_vector  \n0      [0, 0, 0, 0, 0, 0, 0, 0, 0, 0, 0, 0, 0, 0, 0, ...  \n1      [0, 0, 0, 0, 0, 0, 0, 0, 0, 0, 0, 0, 0, 0, 0, ...  \n2      [0, 0, 0, 0, 0, 0, 0, 0, 0, 0, 0, 0, 0, 0, 0, ...  \n3      [0, 0, 0, 0, 0, 0, 0, 0, 0, 0, 0, 0, 0, 0, 0, ...  \n4      [0, 0, 0, 0, 0, 0, 0, 0, 0, 0, 0, 0, 0, 0, 0, ...  \n...                                                  ...  \n43285  [0, 0, 0, 0, 0, 0, 0, 0, 0, 0, 0, 0, 0, 0, 0, ...  \n43286  [0, 0, 1, 0, 0, 0, 0, 0, 0, 0, 0, 0, 0, 0, 0, ...  \n43287  [0, 0, 0, 0, 0, 0, 0, 0, 0, 0, 0, 0, 0, 0, 0, ...  \n43288  [0, 0, 0, 0, 0, 0, 0, 0, 0, 0, 0, 0, 0, 0, 0, ...  \n43289  [0, 0, 0, 0, 0, 0, 0, 0, 0, 0, 0, 0, 0, 0, 0, ...  \n\n[43290 rows x 10 columns]",
      "text/html": "<div>\n<style scoped>\n    .dataframe tbody tr th:only-of-type {\n        vertical-align: middle;\n    }\n\n    .dataframe tbody tr th {\n        vertical-align: top;\n    }\n\n    .dataframe thead th {\n        text-align: right;\n    }\n</style>\n<table border=\"1\" class=\"dataframe\">\n  <thead>\n    <tr style=\"text-align: right;\">\n      <th></th>\n      <th>CIK</th>\n      <th>file_id</th>\n      <th>year</th>\n      <th>roe</th>\n      <th>opinc</th>\n      <th>nopinc</th>\n      <th>token_count</th>\n      <th>roe_next_year</th>\n      <th>tone</th>\n      <th>bow_vector</th>\n    </tr>\n  </thead>\n  <tbody>\n    <tr>\n      <th>0</th>\n      <td>1750</td>\n      <td>3</td>\n      <td>2005</td>\n      <td>0.095362</td>\n      <td>0.131652</td>\n      <td>-0.015174</td>\n      <td>2120</td>\n      <td>0.127945</td>\n      <td>-0.000472</td>\n      <td>[0, 0, 0, 0, 0, 0, 0, 0, 0, 0, 0, 0, 0, 0, 0, ...</td>\n    </tr>\n    <tr>\n      <th>1</th>\n      <td>1750</td>\n      <td>4</td>\n      <td>2006</td>\n      <td>0.127945</td>\n      <td>0.149182</td>\n      <td>-0.022282</td>\n      <td>3219</td>\n      <td>0.139220</td>\n      <td>0.000000</td>\n      <td>[0, 0, 0, 0, 0, 0, 0, 0, 0, 0, 0, 0, 0, 0, 0, ...</td>\n    </tr>\n    <tr>\n      <th>2</th>\n      <td>1750</td>\n      <td>7</td>\n      <td>2009</td>\n      <td>0.063607</td>\n      <td>0.105913</td>\n      <td>-0.030043</td>\n      <td>3364</td>\n      <td>0.088296</td>\n      <td>0.000000</td>\n      <td>[0, 0, 0, 0, 0, 0, 0, 0, 0, 0, 0, 0, 0, 0, 0, ...</td>\n    </tr>\n    <tr>\n      <th>3</th>\n      <td>1750</td>\n      <td>8</td>\n      <td>2010</td>\n      <td>0.088296</td>\n      <td>0.136418</td>\n      <td>-0.040048</td>\n      <td>3045</td>\n      <td>0.079613</td>\n      <td>-0.000328</td>\n      <td>[0, 0, 0, 0, 0, 0, 0, 0, 0, 0, 0, 0, 0, 0, 0, ...</td>\n    </tr>\n    <tr>\n      <th>4</th>\n      <td>1750</td>\n      <td>9</td>\n      <td>2011</td>\n      <td>0.079613</td>\n      <td>0.138888</td>\n      <td>-0.026679</td>\n      <td>2503</td>\n      <td>0.061607</td>\n      <td>-0.000799</td>\n      <td>[0, 0, 0, 0, 0, 0, 0, 0, 0, 0, 0, 0, 0, 0, 0, ...</td>\n    </tr>\n    <tr>\n      <th>...</th>\n      <td>...</td>\n      <td>...</td>\n      <td>...</td>\n      <td>...</td>\n      <td>...</td>\n      <td>...</td>\n      <td>...</td>\n      <td>...</td>\n      <td>...</td>\n      <td>...</td>\n    </tr>\n    <tr>\n      <th>43285</th>\n      <td>1590714</td>\n      <td>72797</td>\n      <td>2016</td>\n      <td>-0.025374</td>\n      <td>0.014667</td>\n      <td>-0.016629</td>\n      <td>11060</td>\n      <td>-0.103030</td>\n      <td>-0.000090</td>\n      <td>[0, 0, 0, 0, 0, 0, 0, 0, 0, 0, 0, 0, 0, 0, 0, ...</td>\n    </tr>\n    <tr>\n      <th>43286</th>\n      <td>1590714</td>\n      <td>72798</td>\n      <td>2017</td>\n      <td>-0.103030</td>\n      <td>0.106369</td>\n      <td>-0.039584</td>\n      <td>8210</td>\n      <td>-0.128702</td>\n      <td>-0.000244</td>\n      <td>[0, 0, 1, 0, 0, 0, 0, 0, 0, 0, 0, 0, 0, 0, 0, ...</td>\n    </tr>\n    <tr>\n      <th>43287</th>\n      <td>1596993</td>\n      <td>72806</td>\n      <td>2015</td>\n      <td>0.139539</td>\n      <td>0.136995</td>\n      <td>0.004964</td>\n      <td>4796</td>\n      <td>-0.001470</td>\n      <td>0.000000</td>\n      <td>[0, 0, 0, 0, 0, 0, 0, 0, 0, 0, 0, 0, 0, 0, 0, ...</td>\n    </tr>\n    <tr>\n      <th>43288</th>\n      <td>1596993</td>\n      <td>72807</td>\n      <td>2016</td>\n      <td>-0.001470</td>\n      <td>-0.001309</td>\n      <td>-0.000161</td>\n      <td>6947</td>\n      <td>-0.021082</td>\n      <td>0.000000</td>\n      <td>[0, 0, 0, 0, 0, 0, 0, 0, 0, 0, 0, 0, 0, 0, 0, ...</td>\n    </tr>\n    <tr>\n      <th>43289</th>\n      <td>1596993</td>\n      <td>72808</td>\n      <td>2017</td>\n      <td>-0.021082</td>\n      <td>-0.029803</td>\n      <td>0.000213</td>\n      <td>6696</td>\n      <td>-0.054427</td>\n      <td>0.000000</td>\n      <td>[0, 0, 0, 0, 0, 0, 0, 0, 0, 0, 0, 0, 0, 0, 0, ...</td>\n    </tr>\n  </tbody>\n</table>\n<p>43290 rows × 10 columns</p>\n</div>"
     },
     "execution_count": 18,
     "metadata": {},
     "output_type": "execute_result"
    }
   ],
   "source": [
    "df_copy = df_copy.drop('text_vector', axis=1)\n",
    "df_copy"
   ],
   "metadata": {
    "collapsed": false,
    "ExecuteTime": {
     "start_time": "2023-08-05T19:25:57.155812Z",
     "end_time": "2023-08-05T19:25:57.178040Z"
    }
   }
  },
  {
   "cell_type": "code",
   "execution_count": 21,
   "outputs": [],
   "source": [
    "# normalise by MD&A length\n",
    "df_copy['bow_normalised'] = df_copy.apply(lambda row: [x / row['token_count'] for x in row['bow_vector']], axis=1)"
   ],
   "metadata": {
    "collapsed": false,
    "ExecuteTime": {
     "start_time": "2023-08-06T14:37:35.850651Z",
     "end_time": "2023-08-06T14:41:01.188423Z"
    }
   }
  },
  {
   "cell_type": "code",
   "execution_count": 24,
   "outputs": [],
   "source": [
    "df_copy.to_pickle('datasets/features-label-bow.pkl')"
   ],
   "metadata": {
    "collapsed": false,
    "ExecuteTime": {
     "start_time": "2023-08-06T14:41:46.869820Z",
     "end_time": "2023-08-06T14:41:50.022893Z"
    }
   }
  },
  {
   "cell_type": "code",
   "execution_count": null,
   "outputs": [],
   "source": [],
   "metadata": {
    "collapsed": false
   }
  }
 ],
 "metadata": {
  "kernelspec": {
   "display_name": "Python 3",
   "language": "python",
   "name": "python3"
  },
  "language_info": {
   "codemirror_mode": {
    "name": "ipython",
    "version": 2
   },
   "file_extension": ".py",
   "mimetype": "text/x-python",
   "name": "python",
   "nbconvert_exporter": "python",
   "pygments_lexer": "ipython2",
   "version": "2.7.6"
  }
 },
 "nbformat": 4,
 "nbformat_minor": 0
}
