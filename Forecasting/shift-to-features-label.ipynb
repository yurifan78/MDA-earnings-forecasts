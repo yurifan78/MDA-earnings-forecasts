{
 "cells": [
  {
   "cell_type": "code",
   "execution_count": 1,
   "outputs": [],
   "source": [
    "import pandas as pd"
   ],
   "metadata": {
    "collapsed": false,
    "ExecuteTime": {
     "start_time": "2023-07-15T11:50:39.177808Z",
     "end_time": "2023-07-15T11:50:40.759179Z"
    }
   }
  },
  {
   "cell_type": "code",
   "execution_count": 3,
   "outputs": [],
   "source": [
    "df = pd.read_pickle('datasets/master-quant-preprocessed-item7.pkl')"
   ],
   "metadata": {
    "collapsed": false,
    "ExecuteTime": {
     "start_time": "2023-07-12T12:08:17.296576Z",
     "end_time": "2023-07-12T12:09:18.118613Z"
    }
   }
  },
  {
   "cell_type": "code",
   "execution_count": 4,
   "outputs": [
    {
     "data": {
      "text/plain": "           CIK file_id  year       roe     opinc    nopinc FILING_DATE  \\\n0         1750       1  2003  0.011745  0.013491  0.011883  2003-08-18   \n1         1750       3  2005  0.095362  0.131652 -0.015174  2005-07-22   \n2         1750       4  2006  0.127945  0.149182 -0.022282  2006-07-17   \n3         1750       5  2007  0.139220  0.197916 -0.056823  2007-07-20   \n4         1750       7  2009  0.063607  0.105913 -0.030043  2009-07-16   \n...        ...     ...   ...       ...       ...       ...         ...   \n56063  1596993   72807  2016 -0.001470 -0.001309 -0.000161  2016-05-31   \n56064  1596993   72808  2017 -0.021082 -0.029803  0.000213  2017-06-14   \n56065  1596993   72809  2018 -0.054427 -0.034820  0.001809  2018-06-28   \n56066  1720635   72810  2018  0.071252  0.118857 -0.015065  2019-02-19   \n56067  1739445   72811  2018  0.048959  0.091838 -0.011835  2019-02-28   \n\n                    ACC_NUM         CPR FORM_TYPE   SIC              CoName  \\\n0      0001047469-03-028005  2003-05-31      10-K  3720            AAR CORP   \n1      0001104659-05-033688  2005-05-31      10-K  3720            AAR CORP   \n2      0001104659-06-047248  2006-05-31      10-K  3720            AAR CORP   \n3      0001104659-07-055173  2007-05-31      10-K  3720            AAR CORP   \n4      0001047469-09-006783  2009-05-31      10-K  3720            AAR CORP   \n...                     ...         ...       ...   ...                 ...   \n56063  0001596993-16-000015  2016-03-31      10-K  4412     DORIAN LPG LTD.   \n56064  0001596993-17-000010  2017-03-31      10-K  4412     DORIAN LPG LTD.   \n56065  0001596993-18-000015  2018-03-31      10-K  4412     DORIAN LPG LTD.   \n56066  0001720635-19-000008  2018-12-31      10-K  3550  nVent Electric plc   \n56067  0001739445-19-000020  2018-12-31      10-K  3523        Arcosa  Inc.   \n\n                                     preprocessed_item_7  \n0      [factor, may, affect, future, result, company,...  \n1      [general, overview, report, activities, four, ...  \n2      [forwardlooking, statements, managements, disc...  \n3      [forwardlooking, statements, managements, disc...  \n4      [forwardlooking, statements, managements, disc...  \n...                                                  ...  \n56063  [follow, discussion, financial, condition, res...  \n56064  [follow, discussion, financial, condition, res...  \n56065  [follow, discussion, financial, condition, res...  \n56066  [analysis, financial, condition, result, opera...  \n56067  [analysis, financial, condition, result, opera...  \n\n[56068 rows x 13 columns]",
      "text/html": "<div>\n<style scoped>\n    .dataframe tbody tr th:only-of-type {\n        vertical-align: middle;\n    }\n\n    .dataframe tbody tr th {\n        vertical-align: top;\n    }\n\n    .dataframe thead th {\n        text-align: right;\n    }\n</style>\n<table border=\"1\" class=\"dataframe\">\n  <thead>\n    <tr style=\"text-align: right;\">\n      <th></th>\n      <th>CIK</th>\n      <th>file_id</th>\n      <th>year</th>\n      <th>roe</th>\n      <th>opinc</th>\n      <th>nopinc</th>\n      <th>FILING_DATE</th>\n      <th>ACC_NUM</th>\n      <th>CPR</th>\n      <th>FORM_TYPE</th>\n      <th>SIC</th>\n      <th>CoName</th>\n      <th>preprocessed_item_7</th>\n    </tr>\n  </thead>\n  <tbody>\n    <tr>\n      <th>0</th>\n      <td>1750</td>\n      <td>1</td>\n      <td>2003</td>\n      <td>0.011745</td>\n      <td>0.013491</td>\n      <td>0.011883</td>\n      <td>2003-08-18</td>\n      <td>0001047469-03-028005</td>\n      <td>2003-05-31</td>\n      <td>10-K</td>\n      <td>3720</td>\n      <td>AAR CORP</td>\n      <td>[factor, may, affect, future, result, company,...</td>\n    </tr>\n    <tr>\n      <th>1</th>\n      <td>1750</td>\n      <td>3</td>\n      <td>2005</td>\n      <td>0.095362</td>\n      <td>0.131652</td>\n      <td>-0.015174</td>\n      <td>2005-07-22</td>\n      <td>0001104659-05-033688</td>\n      <td>2005-05-31</td>\n      <td>10-K</td>\n      <td>3720</td>\n      <td>AAR CORP</td>\n      <td>[general, overview, report, activities, four, ...</td>\n    </tr>\n    <tr>\n      <th>2</th>\n      <td>1750</td>\n      <td>4</td>\n      <td>2006</td>\n      <td>0.127945</td>\n      <td>0.149182</td>\n      <td>-0.022282</td>\n      <td>2006-07-17</td>\n      <td>0001104659-06-047248</td>\n      <td>2006-05-31</td>\n      <td>10-K</td>\n      <td>3720</td>\n      <td>AAR CORP</td>\n      <td>[forwardlooking, statements, managements, disc...</td>\n    </tr>\n    <tr>\n      <th>3</th>\n      <td>1750</td>\n      <td>5</td>\n      <td>2007</td>\n      <td>0.139220</td>\n      <td>0.197916</td>\n      <td>-0.056823</td>\n      <td>2007-07-20</td>\n      <td>0001104659-07-055173</td>\n      <td>2007-05-31</td>\n      <td>10-K</td>\n      <td>3720</td>\n      <td>AAR CORP</td>\n      <td>[forwardlooking, statements, managements, disc...</td>\n    </tr>\n    <tr>\n      <th>4</th>\n      <td>1750</td>\n      <td>7</td>\n      <td>2009</td>\n      <td>0.063607</td>\n      <td>0.105913</td>\n      <td>-0.030043</td>\n      <td>2009-07-16</td>\n      <td>0001047469-09-006783</td>\n      <td>2009-05-31</td>\n      <td>10-K</td>\n      <td>3720</td>\n      <td>AAR CORP</td>\n      <td>[forwardlooking, statements, managements, disc...</td>\n    </tr>\n    <tr>\n      <th>...</th>\n      <td>...</td>\n      <td>...</td>\n      <td>...</td>\n      <td>...</td>\n      <td>...</td>\n      <td>...</td>\n      <td>...</td>\n      <td>...</td>\n      <td>...</td>\n      <td>...</td>\n      <td>...</td>\n      <td>...</td>\n      <td>...</td>\n    </tr>\n    <tr>\n      <th>56063</th>\n      <td>1596993</td>\n      <td>72807</td>\n      <td>2016</td>\n      <td>-0.001470</td>\n      <td>-0.001309</td>\n      <td>-0.000161</td>\n      <td>2016-05-31</td>\n      <td>0001596993-16-000015</td>\n      <td>2016-03-31</td>\n      <td>10-K</td>\n      <td>4412</td>\n      <td>DORIAN LPG LTD.</td>\n      <td>[follow, discussion, financial, condition, res...</td>\n    </tr>\n    <tr>\n      <th>56064</th>\n      <td>1596993</td>\n      <td>72808</td>\n      <td>2017</td>\n      <td>-0.021082</td>\n      <td>-0.029803</td>\n      <td>0.000213</td>\n      <td>2017-06-14</td>\n      <td>0001596993-17-000010</td>\n      <td>2017-03-31</td>\n      <td>10-K</td>\n      <td>4412</td>\n      <td>DORIAN LPG LTD.</td>\n      <td>[follow, discussion, financial, condition, res...</td>\n    </tr>\n    <tr>\n      <th>56065</th>\n      <td>1596993</td>\n      <td>72809</td>\n      <td>2018</td>\n      <td>-0.054427</td>\n      <td>-0.034820</td>\n      <td>0.001809</td>\n      <td>2018-06-28</td>\n      <td>0001596993-18-000015</td>\n      <td>2018-03-31</td>\n      <td>10-K</td>\n      <td>4412</td>\n      <td>DORIAN LPG LTD.</td>\n      <td>[follow, discussion, financial, condition, res...</td>\n    </tr>\n    <tr>\n      <th>56066</th>\n      <td>1720635</td>\n      <td>72810</td>\n      <td>2018</td>\n      <td>0.071252</td>\n      <td>0.118857</td>\n      <td>-0.015065</td>\n      <td>2019-02-19</td>\n      <td>0001720635-19-000008</td>\n      <td>2018-12-31</td>\n      <td>10-K</td>\n      <td>3550</td>\n      <td>nVent Electric plc</td>\n      <td>[analysis, financial, condition, result, opera...</td>\n    </tr>\n    <tr>\n      <th>56067</th>\n      <td>1739445</td>\n      <td>72811</td>\n      <td>2018</td>\n      <td>0.048959</td>\n      <td>0.091838</td>\n      <td>-0.011835</td>\n      <td>2019-02-28</td>\n      <td>0001739445-19-000020</td>\n      <td>2018-12-31</td>\n      <td>10-K</td>\n      <td>3523</td>\n      <td>Arcosa  Inc.</td>\n      <td>[analysis, financial, condition, result, opera...</td>\n    </tr>\n  </tbody>\n</table>\n<p>56068 rows × 13 columns</p>\n</div>"
     },
     "execution_count": 4,
     "metadata": {},
     "output_type": "execute_result"
    }
   ],
   "source": [
    "df"
   ],
   "metadata": {
    "collapsed": false,
    "ExecuteTime": {
     "start_time": "2023-07-12T12:09:20.081119Z",
     "end_time": "2023-07-12T12:09:20.180152Z"
    }
   }
  },
  {
   "cell_type": "code",
   "execution_count": 5,
   "outputs": [],
   "source": [
    "# shift dataframe to features and labels\n",
    "df_copied = df.copy()"
   ],
   "metadata": {
    "collapsed": false,
    "ExecuteTime": {
     "start_time": "2023-07-12T12:09:24.872347Z",
     "end_time": "2023-07-12T12:09:24.941873Z"
    }
   }
  },
  {
   "cell_type": "code",
   "execution_count": 6,
   "outputs": [],
   "source": [
    "def get_roe_forward(group):\n",
    "    for index, row in group.iterrows():\n",
    "        years = group['year'].unique()\n",
    "        next_year = row['year'] + 1\n",
    "        if next_year in years:\n",
    "            next_roe = group.loc[group['year'] == next_year, 'roe']\n",
    "            group.at[index, 'roe_next_year'] = next_roe.values[0]\n",
    "        else:\n",
    "            group.at[index, 'roe_next_year'] = pd.NA\n",
    "    return group"
   ],
   "metadata": {
    "collapsed": false,
    "ExecuteTime": {
     "start_time": "2023-07-12T12:09:25.565296Z",
     "end_time": "2023-07-12T12:09:25.575041Z"
    }
   }
  },
  {
   "cell_type": "code",
   "execution_count": 7,
   "outputs": [],
   "source": [
    "df_copied = df_copied.groupby('CIK').apply(get_roe_forward)"
   ],
   "metadata": {
    "collapsed": false,
    "ExecuteTime": {
     "start_time": "2023-07-12T12:09:26.739568Z",
     "end_time": "2023-07-12T12:12:23.583861Z"
    }
   }
  },
  {
   "cell_type": "code",
   "execution_count": 8,
   "outputs": [
    {
     "data": {
      "text/plain": "           CIK file_id  year       roe     opinc    nopinc FILING_DATE  \\\n0         1750       1  2003  0.011745  0.013491  0.011883  2003-08-18   \n1         1750       3  2005  0.095362  0.131652 -0.015174  2005-07-22   \n2         1750       4  2006  0.127945  0.149182 -0.022282  2006-07-17   \n3         1750       5  2007  0.139220  0.197916 -0.056823  2007-07-20   \n4         1750       7  2009  0.063607  0.105913 -0.030043  2009-07-16   \n...        ...     ...   ...       ...       ...       ...         ...   \n56063  1596993   72807  2016 -0.001470 -0.001309 -0.000161  2016-05-31   \n56064  1596993   72808  2017 -0.021082 -0.029803  0.000213  2017-06-14   \n56065  1596993   72809  2018 -0.054427 -0.034820  0.001809  2018-06-28   \n56066  1720635   72810  2018  0.071252  0.118857 -0.015065  2019-02-19   \n56067  1739445   72811  2018  0.048959  0.091838 -0.011835  2019-02-28   \n\n                    ACC_NUM         CPR FORM_TYPE   SIC              CoName  \\\n0      0001047469-03-028005  2003-05-31      10-K  3720            AAR CORP   \n1      0001104659-05-033688  2005-05-31      10-K  3720            AAR CORP   \n2      0001104659-06-047248  2006-05-31      10-K  3720            AAR CORP   \n3      0001104659-07-055173  2007-05-31      10-K  3720            AAR CORP   \n4      0001047469-09-006783  2009-05-31      10-K  3720            AAR CORP   \n...                     ...         ...       ...   ...                 ...   \n56063  0001596993-16-000015  2016-03-31      10-K  4412     DORIAN LPG LTD.   \n56064  0001596993-17-000010  2017-03-31      10-K  4412     DORIAN LPG LTD.   \n56065  0001596993-18-000015  2018-03-31      10-K  4412     DORIAN LPG LTD.   \n56066  0001720635-19-000008  2018-12-31      10-K  3550  nVent Electric plc   \n56067  0001739445-19-000020  2018-12-31      10-K  3523        Arcosa  Inc.   \n\n                                     preprocessed_item_7 roe_next_year  \n0      [factor, may, affect, future, result, company,...          <NA>  \n1      [general, overview, report, activities, four, ...      0.127945  \n2      [forwardlooking, statements, managements, disc...       0.13922  \n3      [forwardlooking, statements, managements, disc...          <NA>  \n4      [forwardlooking, statements, managements, disc...      0.088296  \n...                                                  ...           ...  \n56063  [follow, discussion, financial, condition, res...     -0.021082  \n56064  [follow, discussion, financial, condition, res...     -0.054427  \n56065  [follow, discussion, financial, condition, res...          <NA>  \n56066  [analysis, financial, condition, result, opera...          <NA>  \n56067  [analysis, financial, condition, result, opera...          <NA>  \n\n[56068 rows x 14 columns]",
      "text/html": "<div>\n<style scoped>\n    .dataframe tbody tr th:only-of-type {\n        vertical-align: middle;\n    }\n\n    .dataframe tbody tr th {\n        vertical-align: top;\n    }\n\n    .dataframe thead th {\n        text-align: right;\n    }\n</style>\n<table border=\"1\" class=\"dataframe\">\n  <thead>\n    <tr style=\"text-align: right;\">\n      <th></th>\n      <th>CIK</th>\n      <th>file_id</th>\n      <th>year</th>\n      <th>roe</th>\n      <th>opinc</th>\n      <th>nopinc</th>\n      <th>FILING_DATE</th>\n      <th>ACC_NUM</th>\n      <th>CPR</th>\n      <th>FORM_TYPE</th>\n      <th>SIC</th>\n      <th>CoName</th>\n      <th>preprocessed_item_7</th>\n      <th>roe_next_year</th>\n    </tr>\n  </thead>\n  <tbody>\n    <tr>\n      <th>0</th>\n      <td>1750</td>\n      <td>1</td>\n      <td>2003</td>\n      <td>0.011745</td>\n      <td>0.013491</td>\n      <td>0.011883</td>\n      <td>2003-08-18</td>\n      <td>0001047469-03-028005</td>\n      <td>2003-05-31</td>\n      <td>10-K</td>\n      <td>3720</td>\n      <td>AAR CORP</td>\n      <td>[factor, may, affect, future, result, company,...</td>\n      <td>&lt;NA&gt;</td>\n    </tr>\n    <tr>\n      <th>1</th>\n      <td>1750</td>\n      <td>3</td>\n      <td>2005</td>\n      <td>0.095362</td>\n      <td>0.131652</td>\n      <td>-0.015174</td>\n      <td>2005-07-22</td>\n      <td>0001104659-05-033688</td>\n      <td>2005-05-31</td>\n      <td>10-K</td>\n      <td>3720</td>\n      <td>AAR CORP</td>\n      <td>[general, overview, report, activities, four, ...</td>\n      <td>0.127945</td>\n    </tr>\n    <tr>\n      <th>2</th>\n      <td>1750</td>\n      <td>4</td>\n      <td>2006</td>\n      <td>0.127945</td>\n      <td>0.149182</td>\n      <td>-0.022282</td>\n      <td>2006-07-17</td>\n      <td>0001104659-06-047248</td>\n      <td>2006-05-31</td>\n      <td>10-K</td>\n      <td>3720</td>\n      <td>AAR CORP</td>\n      <td>[forwardlooking, statements, managements, disc...</td>\n      <td>0.13922</td>\n    </tr>\n    <tr>\n      <th>3</th>\n      <td>1750</td>\n      <td>5</td>\n      <td>2007</td>\n      <td>0.139220</td>\n      <td>0.197916</td>\n      <td>-0.056823</td>\n      <td>2007-07-20</td>\n      <td>0001104659-07-055173</td>\n      <td>2007-05-31</td>\n      <td>10-K</td>\n      <td>3720</td>\n      <td>AAR CORP</td>\n      <td>[forwardlooking, statements, managements, disc...</td>\n      <td>&lt;NA&gt;</td>\n    </tr>\n    <tr>\n      <th>4</th>\n      <td>1750</td>\n      <td>7</td>\n      <td>2009</td>\n      <td>0.063607</td>\n      <td>0.105913</td>\n      <td>-0.030043</td>\n      <td>2009-07-16</td>\n      <td>0001047469-09-006783</td>\n      <td>2009-05-31</td>\n      <td>10-K</td>\n      <td>3720</td>\n      <td>AAR CORP</td>\n      <td>[forwardlooking, statements, managements, disc...</td>\n      <td>0.088296</td>\n    </tr>\n    <tr>\n      <th>...</th>\n      <td>...</td>\n      <td>...</td>\n      <td>...</td>\n      <td>...</td>\n      <td>...</td>\n      <td>...</td>\n      <td>...</td>\n      <td>...</td>\n      <td>...</td>\n      <td>...</td>\n      <td>...</td>\n      <td>...</td>\n      <td>...</td>\n      <td>...</td>\n    </tr>\n    <tr>\n      <th>56063</th>\n      <td>1596993</td>\n      <td>72807</td>\n      <td>2016</td>\n      <td>-0.001470</td>\n      <td>-0.001309</td>\n      <td>-0.000161</td>\n      <td>2016-05-31</td>\n      <td>0001596993-16-000015</td>\n      <td>2016-03-31</td>\n      <td>10-K</td>\n      <td>4412</td>\n      <td>DORIAN LPG LTD.</td>\n      <td>[follow, discussion, financial, condition, res...</td>\n      <td>-0.021082</td>\n    </tr>\n    <tr>\n      <th>56064</th>\n      <td>1596993</td>\n      <td>72808</td>\n      <td>2017</td>\n      <td>-0.021082</td>\n      <td>-0.029803</td>\n      <td>0.000213</td>\n      <td>2017-06-14</td>\n      <td>0001596993-17-000010</td>\n      <td>2017-03-31</td>\n      <td>10-K</td>\n      <td>4412</td>\n      <td>DORIAN LPG LTD.</td>\n      <td>[follow, discussion, financial, condition, res...</td>\n      <td>-0.054427</td>\n    </tr>\n    <tr>\n      <th>56065</th>\n      <td>1596993</td>\n      <td>72809</td>\n      <td>2018</td>\n      <td>-0.054427</td>\n      <td>-0.034820</td>\n      <td>0.001809</td>\n      <td>2018-06-28</td>\n      <td>0001596993-18-000015</td>\n      <td>2018-03-31</td>\n      <td>10-K</td>\n      <td>4412</td>\n      <td>DORIAN LPG LTD.</td>\n      <td>[follow, discussion, financial, condition, res...</td>\n      <td>&lt;NA&gt;</td>\n    </tr>\n    <tr>\n      <th>56066</th>\n      <td>1720635</td>\n      <td>72810</td>\n      <td>2018</td>\n      <td>0.071252</td>\n      <td>0.118857</td>\n      <td>-0.015065</td>\n      <td>2019-02-19</td>\n      <td>0001720635-19-000008</td>\n      <td>2018-12-31</td>\n      <td>10-K</td>\n      <td>3550</td>\n      <td>nVent Electric plc</td>\n      <td>[analysis, financial, condition, result, opera...</td>\n      <td>&lt;NA&gt;</td>\n    </tr>\n    <tr>\n      <th>56067</th>\n      <td>1739445</td>\n      <td>72811</td>\n      <td>2018</td>\n      <td>0.048959</td>\n      <td>0.091838</td>\n      <td>-0.011835</td>\n      <td>2019-02-28</td>\n      <td>0001739445-19-000020</td>\n      <td>2018-12-31</td>\n      <td>10-K</td>\n      <td>3523</td>\n      <td>Arcosa  Inc.</td>\n      <td>[analysis, financial, condition, result, opera...</td>\n      <td>&lt;NA&gt;</td>\n    </tr>\n  </tbody>\n</table>\n<p>56068 rows × 14 columns</p>\n</div>"
     },
     "execution_count": 8,
     "metadata": {},
     "output_type": "execute_result"
    }
   ],
   "source": [
    "df_copied"
   ],
   "metadata": {
    "collapsed": false,
    "ExecuteTime": {
     "start_time": "2023-07-12T12:12:23.582897Z",
     "end_time": "2023-07-12T12:12:23.599196Z"
    }
   }
  },
  {
   "cell_type": "code",
   "execution_count": 9,
   "outputs": [],
   "source": [
    "# remove rows with NaN in roe_next_year\n",
    "# select columns\n",
    "df_selected = df_copied[['CIK', 'file_id', 'year', 'roe', 'opinc', 'nopinc', 'preprocessed_item_7', 'roe_next_year']].dropna(subset=['roe_next_year'])"
   ],
   "metadata": {
    "collapsed": false,
    "ExecuteTime": {
     "start_time": "2023-07-12T12:12:29.469117Z",
     "end_time": "2023-07-12T12:12:29.490590Z"
    }
   }
  },
  {
   "cell_type": "code",
   "execution_count": 10,
   "outputs": [
    {
     "data": {
      "text/plain": "           CIK file_id  year       roe     opinc    nopinc  \\\n1         1750       3  2005  0.095362  0.131652 -0.015174   \n2         1750       4  2006  0.127945  0.149182 -0.022282   \n4         1750       7  2009  0.063607  0.105913 -0.030043   \n5         1750       8  2010  0.088296  0.136418 -0.040048   \n6         1750       9  2011  0.079613  0.138888 -0.026679   \n...        ...     ...   ...       ...       ...       ...   \n56057  1590714   72797  2016 -0.025374  0.014667 -0.016629   \n56058  1590714   72798  2017 -0.103030  0.106369 -0.039584   \n56062  1596993   72806  2015  0.139539  0.136995  0.004964   \n56063  1596993   72807  2016 -0.001470 -0.001309 -0.000161   \n56064  1596993   72808  2017 -0.021082 -0.029803  0.000213   \n\n                                     preprocessed_item_7 roe_next_year  \n1      [general, overview, report, activities, four, ...      0.127945  \n2      [forwardlooking, statements, managements, disc...       0.13922  \n4      [forwardlooking, statements, managements, disc...      0.088296  \n5      [forwardlooking, statements, managements, disc...      0.079613  \n6      [forwardlooking, statements, managements, disc...      0.061607  \n...                                                  ...           ...  \n56057  [discussion, financial, condition, result, ope...      -0.10303  \n56058  [analysis, financial, condition, result, opera...     -0.128702  \n56062  [read, follow, discussion, financial, conditio...      -0.00147  \n56063  [follow, discussion, financial, condition, res...     -0.021082  \n56064  [follow, discussion, financial, condition, res...     -0.054427  \n\n[44416 rows x 8 columns]",
      "text/html": "<div>\n<style scoped>\n    .dataframe tbody tr th:only-of-type {\n        vertical-align: middle;\n    }\n\n    .dataframe tbody tr th {\n        vertical-align: top;\n    }\n\n    .dataframe thead th {\n        text-align: right;\n    }\n</style>\n<table border=\"1\" class=\"dataframe\">\n  <thead>\n    <tr style=\"text-align: right;\">\n      <th></th>\n      <th>CIK</th>\n      <th>file_id</th>\n      <th>year</th>\n      <th>roe</th>\n      <th>opinc</th>\n      <th>nopinc</th>\n      <th>preprocessed_item_7</th>\n      <th>roe_next_year</th>\n    </tr>\n  </thead>\n  <tbody>\n    <tr>\n      <th>1</th>\n      <td>1750</td>\n      <td>3</td>\n      <td>2005</td>\n      <td>0.095362</td>\n      <td>0.131652</td>\n      <td>-0.015174</td>\n      <td>[general, overview, report, activities, four, ...</td>\n      <td>0.127945</td>\n    </tr>\n    <tr>\n      <th>2</th>\n      <td>1750</td>\n      <td>4</td>\n      <td>2006</td>\n      <td>0.127945</td>\n      <td>0.149182</td>\n      <td>-0.022282</td>\n      <td>[forwardlooking, statements, managements, disc...</td>\n      <td>0.13922</td>\n    </tr>\n    <tr>\n      <th>4</th>\n      <td>1750</td>\n      <td>7</td>\n      <td>2009</td>\n      <td>0.063607</td>\n      <td>0.105913</td>\n      <td>-0.030043</td>\n      <td>[forwardlooking, statements, managements, disc...</td>\n      <td>0.088296</td>\n    </tr>\n    <tr>\n      <th>5</th>\n      <td>1750</td>\n      <td>8</td>\n      <td>2010</td>\n      <td>0.088296</td>\n      <td>0.136418</td>\n      <td>-0.040048</td>\n      <td>[forwardlooking, statements, managements, disc...</td>\n      <td>0.079613</td>\n    </tr>\n    <tr>\n      <th>6</th>\n      <td>1750</td>\n      <td>9</td>\n      <td>2011</td>\n      <td>0.079613</td>\n      <td>0.138888</td>\n      <td>-0.026679</td>\n      <td>[forwardlooking, statements, managements, disc...</td>\n      <td>0.061607</td>\n    </tr>\n    <tr>\n      <th>...</th>\n      <td>...</td>\n      <td>...</td>\n      <td>...</td>\n      <td>...</td>\n      <td>...</td>\n      <td>...</td>\n      <td>...</td>\n      <td>...</td>\n    </tr>\n    <tr>\n      <th>56057</th>\n      <td>1590714</td>\n      <td>72797</td>\n      <td>2016</td>\n      <td>-0.025374</td>\n      <td>0.014667</td>\n      <td>-0.016629</td>\n      <td>[discussion, financial, condition, result, ope...</td>\n      <td>-0.10303</td>\n    </tr>\n    <tr>\n      <th>56058</th>\n      <td>1590714</td>\n      <td>72798</td>\n      <td>2017</td>\n      <td>-0.103030</td>\n      <td>0.106369</td>\n      <td>-0.039584</td>\n      <td>[analysis, financial, condition, result, opera...</td>\n      <td>-0.128702</td>\n    </tr>\n    <tr>\n      <th>56062</th>\n      <td>1596993</td>\n      <td>72806</td>\n      <td>2015</td>\n      <td>0.139539</td>\n      <td>0.136995</td>\n      <td>0.004964</td>\n      <td>[read, follow, discussion, financial, conditio...</td>\n      <td>-0.00147</td>\n    </tr>\n    <tr>\n      <th>56063</th>\n      <td>1596993</td>\n      <td>72807</td>\n      <td>2016</td>\n      <td>-0.001470</td>\n      <td>-0.001309</td>\n      <td>-0.000161</td>\n      <td>[follow, discussion, financial, condition, res...</td>\n      <td>-0.021082</td>\n    </tr>\n    <tr>\n      <th>56064</th>\n      <td>1596993</td>\n      <td>72808</td>\n      <td>2017</td>\n      <td>-0.021082</td>\n      <td>-0.029803</td>\n      <td>0.000213</td>\n      <td>[follow, discussion, financial, condition, res...</td>\n      <td>-0.054427</td>\n    </tr>\n  </tbody>\n</table>\n<p>44416 rows × 8 columns</p>\n</div>"
     },
     "execution_count": 10,
     "metadata": {},
     "output_type": "execute_result"
    }
   ],
   "source": [
    "df_selected"
   ],
   "metadata": {
    "collapsed": false,
    "ExecuteTime": {
     "start_time": "2023-07-12T12:12:30.520964Z",
     "end_time": "2023-07-12T12:12:30.539655Z"
    }
   }
  },
  {
   "cell_type": "code",
   "execution_count": 11,
   "outputs": [],
   "source": [
    "# add a new column with text length\n",
    "df_selected['token_count'] = df_selected['preprocessed_item_7'].apply(lambda x:len(x))"
   ],
   "metadata": {
    "collapsed": false,
    "ExecuteTime": {
     "start_time": "2023-07-12T12:12:32.814624Z",
     "end_time": "2023-07-12T12:12:32.841494Z"
    }
   }
  },
  {
   "cell_type": "code",
   "execution_count": 12,
   "outputs": [
    {
     "data": {
      "text/plain": "           CIK file_id  year       roe     opinc    nopinc  \\\n1         1750       3  2005  0.095362  0.131652 -0.015174   \n2         1750       4  2006  0.127945  0.149182 -0.022282   \n4         1750       7  2009  0.063607  0.105913 -0.030043   \n5         1750       8  2010  0.088296  0.136418 -0.040048   \n6         1750       9  2011  0.079613  0.138888 -0.026679   \n...        ...     ...   ...       ...       ...       ...   \n56057  1590714   72797  2016 -0.025374  0.014667 -0.016629   \n56058  1590714   72798  2017 -0.103030  0.106369 -0.039584   \n56062  1596993   72806  2015  0.139539  0.136995  0.004964   \n56063  1596993   72807  2016 -0.001470 -0.001309 -0.000161   \n56064  1596993   72808  2017 -0.021082 -0.029803  0.000213   \n\n                                     preprocessed_item_7 roe_next_year  \\\n1      [general, overview, report, activities, four, ...      0.127945   \n2      [forwardlooking, statements, managements, disc...       0.13922   \n4      [forwardlooking, statements, managements, disc...      0.088296   \n5      [forwardlooking, statements, managements, disc...      0.079613   \n6      [forwardlooking, statements, managements, disc...      0.061607   \n...                                                  ...           ...   \n56057  [discussion, financial, condition, result, ope...      -0.10303   \n56058  [analysis, financial, condition, result, opera...     -0.128702   \n56062  [read, follow, discussion, financial, conditio...      -0.00147   \n56063  [follow, discussion, financial, condition, res...     -0.021082   \n56064  [follow, discussion, financial, condition, res...     -0.054427   \n\n       token_count  \n1             2320  \n2             3419  \n4             3564  \n5             3245  \n6             2703  \n...            ...  \n56057        11260  \n56058         8410  \n56062         4996  \n56063         7147  \n56064         6896  \n\n[44416 rows x 9 columns]",
      "text/html": "<div>\n<style scoped>\n    .dataframe tbody tr th:only-of-type {\n        vertical-align: middle;\n    }\n\n    .dataframe tbody tr th {\n        vertical-align: top;\n    }\n\n    .dataframe thead th {\n        text-align: right;\n    }\n</style>\n<table border=\"1\" class=\"dataframe\">\n  <thead>\n    <tr style=\"text-align: right;\">\n      <th></th>\n      <th>CIK</th>\n      <th>file_id</th>\n      <th>year</th>\n      <th>roe</th>\n      <th>opinc</th>\n      <th>nopinc</th>\n      <th>preprocessed_item_7</th>\n      <th>roe_next_year</th>\n      <th>token_count</th>\n    </tr>\n  </thead>\n  <tbody>\n    <tr>\n      <th>1</th>\n      <td>1750</td>\n      <td>3</td>\n      <td>2005</td>\n      <td>0.095362</td>\n      <td>0.131652</td>\n      <td>-0.015174</td>\n      <td>[general, overview, report, activities, four, ...</td>\n      <td>0.127945</td>\n      <td>2320</td>\n    </tr>\n    <tr>\n      <th>2</th>\n      <td>1750</td>\n      <td>4</td>\n      <td>2006</td>\n      <td>0.127945</td>\n      <td>0.149182</td>\n      <td>-0.022282</td>\n      <td>[forwardlooking, statements, managements, disc...</td>\n      <td>0.13922</td>\n      <td>3419</td>\n    </tr>\n    <tr>\n      <th>4</th>\n      <td>1750</td>\n      <td>7</td>\n      <td>2009</td>\n      <td>0.063607</td>\n      <td>0.105913</td>\n      <td>-0.030043</td>\n      <td>[forwardlooking, statements, managements, disc...</td>\n      <td>0.088296</td>\n      <td>3564</td>\n    </tr>\n    <tr>\n      <th>5</th>\n      <td>1750</td>\n      <td>8</td>\n      <td>2010</td>\n      <td>0.088296</td>\n      <td>0.136418</td>\n      <td>-0.040048</td>\n      <td>[forwardlooking, statements, managements, disc...</td>\n      <td>0.079613</td>\n      <td>3245</td>\n    </tr>\n    <tr>\n      <th>6</th>\n      <td>1750</td>\n      <td>9</td>\n      <td>2011</td>\n      <td>0.079613</td>\n      <td>0.138888</td>\n      <td>-0.026679</td>\n      <td>[forwardlooking, statements, managements, disc...</td>\n      <td>0.061607</td>\n      <td>2703</td>\n    </tr>\n    <tr>\n      <th>...</th>\n      <td>...</td>\n      <td>...</td>\n      <td>...</td>\n      <td>...</td>\n      <td>...</td>\n      <td>...</td>\n      <td>...</td>\n      <td>...</td>\n      <td>...</td>\n    </tr>\n    <tr>\n      <th>56057</th>\n      <td>1590714</td>\n      <td>72797</td>\n      <td>2016</td>\n      <td>-0.025374</td>\n      <td>0.014667</td>\n      <td>-0.016629</td>\n      <td>[discussion, financial, condition, result, ope...</td>\n      <td>-0.10303</td>\n      <td>11260</td>\n    </tr>\n    <tr>\n      <th>56058</th>\n      <td>1590714</td>\n      <td>72798</td>\n      <td>2017</td>\n      <td>-0.103030</td>\n      <td>0.106369</td>\n      <td>-0.039584</td>\n      <td>[analysis, financial, condition, result, opera...</td>\n      <td>-0.128702</td>\n      <td>8410</td>\n    </tr>\n    <tr>\n      <th>56062</th>\n      <td>1596993</td>\n      <td>72806</td>\n      <td>2015</td>\n      <td>0.139539</td>\n      <td>0.136995</td>\n      <td>0.004964</td>\n      <td>[read, follow, discussion, financial, conditio...</td>\n      <td>-0.00147</td>\n      <td>4996</td>\n    </tr>\n    <tr>\n      <th>56063</th>\n      <td>1596993</td>\n      <td>72807</td>\n      <td>2016</td>\n      <td>-0.001470</td>\n      <td>-0.001309</td>\n      <td>-0.000161</td>\n      <td>[follow, discussion, financial, condition, res...</td>\n      <td>-0.021082</td>\n      <td>7147</td>\n    </tr>\n    <tr>\n      <th>56064</th>\n      <td>1596993</td>\n      <td>72808</td>\n      <td>2017</td>\n      <td>-0.021082</td>\n      <td>-0.029803</td>\n      <td>0.000213</td>\n      <td>[follow, discussion, financial, condition, res...</td>\n      <td>-0.054427</td>\n      <td>6896</td>\n    </tr>\n  </tbody>\n</table>\n<p>44416 rows × 9 columns</p>\n</div>"
     },
     "execution_count": 12,
     "metadata": {},
     "output_type": "execute_result"
    }
   ],
   "source": [
    "df_selected"
   ],
   "metadata": {
    "collapsed": false,
    "ExecuteTime": {
     "start_time": "2023-07-12T12:12:34.462481Z",
     "end_time": "2023-07-12T12:12:34.467115Z"
    }
   }
  },
  {
   "cell_type": "code",
   "execution_count": 13,
   "outputs": [
    {
     "data": {
      "text/plain": "CIK                     object\nfile_id                 object\nyear                     int64\nroe                    float64\nopinc                  float64\nnopinc                 float64\npreprocessed_item_7     object\nroe_next_year          float64\ntoken_count              int64\ndtype: object"
     },
     "execution_count": 13,
     "metadata": {},
     "output_type": "execute_result"
    }
   ],
   "source": [
    "# do not have to standardise, because those numbers are already scaled ones.\n",
    "# convert roe_next_year as float\n",
    "df_selected['roe_next_year'] = df_selected['roe_next_year'].astype(float)\n",
    "df_selected.dtypes"
   ],
   "metadata": {
    "collapsed": false,
    "ExecuteTime": {
     "start_time": "2023-07-12T12:12:50.155999Z",
     "end_time": "2023-07-12T12:12:50.180576Z"
    }
   }
  },
  {
   "cell_type": "code",
   "execution_count": 14,
   "outputs": [],
   "source": [
    "# put the label column at last\n",
    "df_selected = df_selected[['CIK', 'file_id', 'year', 'roe', 'opinc', 'nopinc', 'preprocessed_item_7', 'token_count', 'roe_next_year']]"
   ],
   "metadata": {
    "collapsed": false,
    "ExecuteTime": {
     "start_time": "2023-07-12T12:12:54.150916Z",
     "end_time": "2023-07-12T12:12:54.171206Z"
    }
   }
  },
  {
   "cell_type": "code",
   "execution_count": 15,
   "outputs": [],
   "source": [
    "# save the features and label\n",
    "df_selected.to_pickle('features-label.pkl')"
   ],
   "metadata": {
    "collapsed": false,
    "ExecuteTime": {
     "start_time": "2023-07-12T12:13:06.924649Z",
     "end_time": "2023-07-12T12:43:30.942177Z"
    }
   }
  },
  {
   "cell_type": "code",
   "execution_count": 2,
   "outputs": [],
   "source": [
    "# remove companies which the number of records less than 2\n",
    "features_label = pd.read_pickle('features-label.pkl')"
   ],
   "metadata": {
    "collapsed": false,
    "ExecuteTime": {
     "start_time": "2023-07-15T11:50:44.746539Z",
     "end_time": "2023-07-15T11:51:32.748073Z"
    }
   }
  },
  {
   "cell_type": "code",
   "execution_count": 11,
   "outputs": [],
   "source": [
    "features_label_without_single_company = features_label.groupby('CIK').filter(lambda x: len(x) >= 2).reset_index(drop=True)"
   ],
   "metadata": {
    "collapsed": false,
    "ExecuteTime": {
     "start_time": "2023-07-15T12:08:20.618052Z",
     "end_time": "2023-07-15T12:08:21.033336Z"
    }
   }
  },
  {
   "cell_type": "code",
   "execution_count": 13,
   "outputs": [
    {
     "data": {
      "text/plain": "(43290, 9)"
     },
     "execution_count": 13,
     "metadata": {},
     "output_type": "execute_result"
    }
   ],
   "source": [
    "features_label_without_single_company.shape"
   ],
   "metadata": {
    "collapsed": false,
    "ExecuteTime": {
     "start_time": "2023-07-15T12:08:32.881584Z",
     "end_time": "2023-07-15T12:08:32.887820Z"
    }
   }
  },
  {
   "cell_type": "code",
   "execution_count": 14,
   "outputs": [],
   "source": [
    "features_label_without_single_company.to_pickle('datasets/features-label.pkl')"
   ],
   "metadata": {
    "collapsed": false,
    "ExecuteTime": {
     "start_time": "2023-07-15T12:08:33.729770Z",
     "end_time": "2023-07-15T12:20:06.504433Z"
    }
   }
  },
  {
   "cell_type": "code",
   "execution_count": null,
   "outputs": [],
   "source": [],
   "metadata": {
    "collapsed": false
   }
  }
 ],
 "metadata": {
  "kernelspec": {
   "display_name": "Python 3",
   "language": "python",
   "name": "python3"
  },
  "language_info": {
   "codemirror_mode": {
    "name": "ipython",
    "version": 2
   },
   "file_extension": ".py",
   "mimetype": "text/x-python",
   "name": "python",
   "nbconvert_exporter": "python",
   "pygments_lexer": "ipython2",
   "version": "2.7.6"
  }
 },
 "nbformat": 4,
 "nbformat_minor": 0
}
