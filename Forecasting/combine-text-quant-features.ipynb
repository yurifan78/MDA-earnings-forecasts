{
 "cells": [
  {
   "cell_type": "code",
   "execution_count": 2,
   "metadata": {
    "collapsed": true,
    "ExecuteTime": {
     "start_time": "2023-07-11T20:11:10.173714Z",
     "end_time": "2023-07-11T20:11:11.307739Z"
    }
   },
   "outputs": [],
   "source": [
    "import pandas as pd"
   ]
  },
  {
   "cell_type": "code",
   "execution_count": 3,
   "outputs": [],
   "source": [
    "# Please replace the relative path for running code.\n",
    "text = pd.read_pickle('../EDGAR/Item7-Textual-Analysis/preprocessed-item7.pkl')"
   ],
   "metadata": {
    "collapsed": false,
    "ExecuteTime": {
     "start_time": "2023-07-11T20:11:11.308576Z",
     "end_time": "2023-07-11T20:14:19.443491Z"
    }
   }
  },
  {
   "cell_type": "code",
   "execution_count": 4,
   "outputs": [
    {
     "data": {
      "text/plain": "Index(['file_id', 'CIK', 'ACC_NUM', 'preprocessed_item_7'], dtype='object')"
     },
     "execution_count": 4,
     "metadata": {},
     "output_type": "execute_result"
    }
   ],
   "source": [
    "text.columns"
   ],
   "metadata": {
    "collapsed": false,
    "ExecuteTime": {
     "start_time": "2023-07-11T20:14:19.746243Z",
     "end_time": "2023-07-11T20:14:19.755048Z"
    }
   }
  },
  {
   "cell_type": "code",
   "execution_count": 5,
   "outputs": [],
   "source": [
    "# extract valid files from pre-processed files, with short text removed\n",
    "valid_files_from_text = text['file_id']"
   ],
   "metadata": {
    "collapsed": false,
    "ExecuteTime": {
     "start_time": "2023-07-11T20:14:19.755744Z",
     "end_time": "2023-07-11T20:14:19.758119Z"
    }
   }
  },
  {
   "cell_type": "code",
   "execution_count": 6,
   "outputs": [
    {
     "data": {
      "text/plain": "66822"
     },
     "execution_count": 6,
     "metadata": {},
     "output_type": "execute_result"
    }
   ],
   "source": [
    "len(valid_files_from_text)"
   ],
   "metadata": {
    "collapsed": false,
    "ExecuteTime": {
     "start_time": "2023-07-11T20:14:19.761265Z",
     "end_time": "2023-07-11T20:14:19.766599Z"
    }
   }
  },
  {
   "cell_type": "code",
   "execution_count": 7,
   "outputs": [],
   "source": [
    "# Please replace the relative path for running code.\n",
    "quant = pd.read_csv('../EDGAR/10k-roe-2002-2018.csv')"
   ],
   "metadata": {
    "collapsed": false,
    "ExecuteTime": {
     "start_time": "2023-07-11T20:14:19.769833Z",
     "end_time": "2023-07-11T20:14:20.136233Z"
    }
   }
  },
  {
   "cell_type": "code",
   "execution_count": 8,
   "outputs": [],
   "source": [
    "# filter by valid text file_ids\n",
    "quant_with_valid_text = quant[quant['file_id'].isin(valid_files_from_text)]"
   ],
   "metadata": {
    "collapsed": false,
    "ExecuteTime": {
     "start_time": "2023-07-11T20:14:19.922067Z",
     "end_time": "2023-07-11T20:14:20.167561Z"
    }
   }
  },
  {
   "cell_type": "code",
   "execution_count": 9,
   "outputs": [
    {
     "data": {
      "text/plain": "           CIK  file_id  year       roe     opinc  nonopinc FILING_DATE  \\\n1         1750        1  2003  0.011745  0.013491  0.011883  2003-08-18   \n3         1750        3  2005  0.095362  0.131652 -0.015174  2005-07-22   \n4         1750        4  2006  0.127945  0.149182 -0.022282  2006-07-17   \n5         1750        5  2007  0.139220  0.197916 -0.056823  2007-07-20   \n7         1750        7  2009  0.063607  0.105913 -0.030043  2009-07-16   \n...        ...      ...   ...       ...       ...       ...         ...   \n72807  1596993    72807  2016 -0.001470 -0.001309 -0.000161  2016-05-31   \n72808  1596993    72808  2017 -0.021082 -0.029803  0.000213  2017-06-14   \n72809  1596993    72809  2018 -0.054427 -0.034820  0.001809  2018-06-28   \n72810  1720635    72810  2018  0.071252  0.118857 -0.015065  2019-02-19   \n72811  1739445    72811  2018  0.048959  0.091838 -0.011835  2019-02-28   \n\n                    ACC_NUM         CPR FORM_TYPE   SIC              CoName  \n1      0001047469-03-028005  2003-05-31      10-K  3720            AAR CORP  \n3      0001104659-05-033688  2005-05-31      10-K  3720            AAR CORP  \n4      0001104659-06-047248  2006-05-31      10-K  3720            AAR CORP  \n5      0001104659-07-055173  2007-05-31      10-K  3720            AAR CORP  \n7      0001047469-09-006783  2009-05-31      10-K  3720            AAR CORP  \n...                     ...         ...       ...   ...                 ...  \n72807  0001596993-16-000015  2016-03-31      10-K  4412     DORIAN LPG LTD.  \n72808  0001596993-17-000010  2017-03-31      10-K  4412     DORIAN LPG LTD.  \n72809  0001596993-18-000015  2018-03-31      10-K  4412     DORIAN LPG LTD.  \n72810  0001720635-19-000008  2018-12-31      10-K  3550  nVent Electric plc  \n72811  0001739445-19-000020  2018-12-31      10-K  3523        Arcosa  Inc.  \n\n[66822 rows x 12 columns]",
      "text/html": "<div>\n<style scoped>\n    .dataframe tbody tr th:only-of-type {\n        vertical-align: middle;\n    }\n\n    .dataframe tbody tr th {\n        vertical-align: top;\n    }\n\n    .dataframe thead th {\n        text-align: right;\n    }\n</style>\n<table border=\"1\" class=\"dataframe\">\n  <thead>\n    <tr style=\"text-align: right;\">\n      <th></th>\n      <th>CIK</th>\n      <th>file_id</th>\n      <th>year</th>\n      <th>roe</th>\n      <th>opinc</th>\n      <th>nonopinc</th>\n      <th>FILING_DATE</th>\n      <th>ACC_NUM</th>\n      <th>CPR</th>\n      <th>FORM_TYPE</th>\n      <th>SIC</th>\n      <th>CoName</th>\n    </tr>\n  </thead>\n  <tbody>\n    <tr>\n      <th>1</th>\n      <td>1750</td>\n      <td>1</td>\n      <td>2003</td>\n      <td>0.011745</td>\n      <td>0.013491</td>\n      <td>0.011883</td>\n      <td>2003-08-18</td>\n      <td>0001047469-03-028005</td>\n      <td>2003-05-31</td>\n      <td>10-K</td>\n      <td>3720</td>\n      <td>AAR CORP</td>\n    </tr>\n    <tr>\n      <th>3</th>\n      <td>1750</td>\n      <td>3</td>\n      <td>2005</td>\n      <td>0.095362</td>\n      <td>0.131652</td>\n      <td>-0.015174</td>\n      <td>2005-07-22</td>\n      <td>0001104659-05-033688</td>\n      <td>2005-05-31</td>\n      <td>10-K</td>\n      <td>3720</td>\n      <td>AAR CORP</td>\n    </tr>\n    <tr>\n      <th>4</th>\n      <td>1750</td>\n      <td>4</td>\n      <td>2006</td>\n      <td>0.127945</td>\n      <td>0.149182</td>\n      <td>-0.022282</td>\n      <td>2006-07-17</td>\n      <td>0001104659-06-047248</td>\n      <td>2006-05-31</td>\n      <td>10-K</td>\n      <td>3720</td>\n      <td>AAR CORP</td>\n    </tr>\n    <tr>\n      <th>5</th>\n      <td>1750</td>\n      <td>5</td>\n      <td>2007</td>\n      <td>0.139220</td>\n      <td>0.197916</td>\n      <td>-0.056823</td>\n      <td>2007-07-20</td>\n      <td>0001104659-07-055173</td>\n      <td>2007-05-31</td>\n      <td>10-K</td>\n      <td>3720</td>\n      <td>AAR CORP</td>\n    </tr>\n    <tr>\n      <th>7</th>\n      <td>1750</td>\n      <td>7</td>\n      <td>2009</td>\n      <td>0.063607</td>\n      <td>0.105913</td>\n      <td>-0.030043</td>\n      <td>2009-07-16</td>\n      <td>0001047469-09-006783</td>\n      <td>2009-05-31</td>\n      <td>10-K</td>\n      <td>3720</td>\n      <td>AAR CORP</td>\n    </tr>\n    <tr>\n      <th>...</th>\n      <td>...</td>\n      <td>...</td>\n      <td>...</td>\n      <td>...</td>\n      <td>...</td>\n      <td>...</td>\n      <td>...</td>\n      <td>...</td>\n      <td>...</td>\n      <td>...</td>\n      <td>...</td>\n      <td>...</td>\n    </tr>\n    <tr>\n      <th>72807</th>\n      <td>1596993</td>\n      <td>72807</td>\n      <td>2016</td>\n      <td>-0.001470</td>\n      <td>-0.001309</td>\n      <td>-0.000161</td>\n      <td>2016-05-31</td>\n      <td>0001596993-16-000015</td>\n      <td>2016-03-31</td>\n      <td>10-K</td>\n      <td>4412</td>\n      <td>DORIAN LPG LTD.</td>\n    </tr>\n    <tr>\n      <th>72808</th>\n      <td>1596993</td>\n      <td>72808</td>\n      <td>2017</td>\n      <td>-0.021082</td>\n      <td>-0.029803</td>\n      <td>0.000213</td>\n      <td>2017-06-14</td>\n      <td>0001596993-17-000010</td>\n      <td>2017-03-31</td>\n      <td>10-K</td>\n      <td>4412</td>\n      <td>DORIAN LPG LTD.</td>\n    </tr>\n    <tr>\n      <th>72809</th>\n      <td>1596993</td>\n      <td>72809</td>\n      <td>2018</td>\n      <td>-0.054427</td>\n      <td>-0.034820</td>\n      <td>0.001809</td>\n      <td>2018-06-28</td>\n      <td>0001596993-18-000015</td>\n      <td>2018-03-31</td>\n      <td>10-K</td>\n      <td>4412</td>\n      <td>DORIAN LPG LTD.</td>\n    </tr>\n    <tr>\n      <th>72810</th>\n      <td>1720635</td>\n      <td>72810</td>\n      <td>2018</td>\n      <td>0.071252</td>\n      <td>0.118857</td>\n      <td>-0.015065</td>\n      <td>2019-02-19</td>\n      <td>0001720635-19-000008</td>\n      <td>2018-12-31</td>\n      <td>10-K</td>\n      <td>3550</td>\n      <td>nVent Electric plc</td>\n    </tr>\n    <tr>\n      <th>72811</th>\n      <td>1739445</td>\n      <td>72811</td>\n      <td>2018</td>\n      <td>0.048959</td>\n      <td>0.091838</td>\n      <td>-0.011835</td>\n      <td>2019-02-28</td>\n      <td>0001739445-19-000020</td>\n      <td>2018-12-31</td>\n      <td>10-K</td>\n      <td>3523</td>\n      <td>Arcosa  Inc.</td>\n    </tr>\n  </tbody>\n</table>\n<p>66822 rows × 12 columns</p>\n</div>"
     },
     "execution_count": 9,
     "metadata": {},
     "output_type": "execute_result"
    }
   ],
   "source": [
    "quant_with_valid_text"
   ],
   "metadata": {
    "collapsed": false,
    "ExecuteTime": {
     "start_time": "2023-07-11T20:14:19.937454Z",
     "end_time": "2023-07-11T20:14:20.174704Z"
    }
   }
  },
  {
   "cell_type": "code",
   "execution_count": 10,
   "outputs": [
    {
     "data": {
      "text/plain": "CIK              int64\nfile_id          int64\nyear             int64\nroe            float64\nopinc          float64\nnonopinc       float64\nFILING_DATE     object\nACC_NUM         object\nCPR             object\nFORM_TYPE       object\nSIC              int64\nCoName          object\ndtype: object"
     },
     "execution_count": 10,
     "metadata": {},
     "output_type": "execute_result"
    }
   ],
   "source": [
    "quant_with_valid_text.dtypes"
   ],
   "metadata": {
    "collapsed": false,
    "ExecuteTime": {
     "start_time": "2023-07-11T20:14:20.037778Z",
     "end_time": "2023-07-11T20:14:20.174877Z"
    }
   }
  },
  {
   "cell_type": "code",
   "execution_count": 11,
   "outputs": [
    {
     "data": {
      "text/plain": "                roe         opinc      nonopinc\ncount  6.682200e+04  66131.000000  66131.000000\nmean           -inf     -0.847343      0.845168\nstd             NaN     81.254920     76.892285\nmin            -inf  -9793.000000   -135.500000\n25%   -1.373100e-01     -0.070261     -0.057104\n50%    6.597023e-02      0.109202     -0.007393\n75%    1.692843e-01      0.259352      0.015422\nmax    1.624885e+03   1377.200000   9793.000000",
      "text/html": "<div>\n<style scoped>\n    .dataframe tbody tr th:only-of-type {\n        vertical-align: middle;\n    }\n\n    .dataframe tbody tr th {\n        vertical-align: top;\n    }\n\n    .dataframe thead th {\n        text-align: right;\n    }\n</style>\n<table border=\"1\" class=\"dataframe\">\n  <thead>\n    <tr style=\"text-align: right;\">\n      <th></th>\n      <th>roe</th>\n      <th>opinc</th>\n      <th>nonopinc</th>\n    </tr>\n  </thead>\n  <tbody>\n    <tr>\n      <th>count</th>\n      <td>6.682200e+04</td>\n      <td>66131.000000</td>\n      <td>66131.000000</td>\n    </tr>\n    <tr>\n      <th>mean</th>\n      <td>-inf</td>\n      <td>-0.847343</td>\n      <td>0.845168</td>\n    </tr>\n    <tr>\n      <th>std</th>\n      <td>NaN</td>\n      <td>81.254920</td>\n      <td>76.892285</td>\n    </tr>\n    <tr>\n      <th>min</th>\n      <td>-inf</td>\n      <td>-9793.000000</td>\n      <td>-135.500000</td>\n    </tr>\n    <tr>\n      <th>25%</th>\n      <td>-1.373100e-01</td>\n      <td>-0.070261</td>\n      <td>-0.057104</td>\n    </tr>\n    <tr>\n      <th>50%</th>\n      <td>6.597023e-02</td>\n      <td>0.109202</td>\n      <td>-0.007393</td>\n    </tr>\n    <tr>\n      <th>75%</th>\n      <td>1.692843e-01</td>\n      <td>0.259352</td>\n      <td>0.015422</td>\n    </tr>\n    <tr>\n      <th>max</th>\n      <td>1.624885e+03</td>\n      <td>1377.200000</td>\n      <td>9793.000000</td>\n    </tr>\n  </tbody>\n</table>\n</div>"
     },
     "execution_count": 11,
     "metadata": {},
     "output_type": "execute_result"
    }
   ],
   "source": [
    "# descriptive statistics, validate dataset and identify outliers\n",
    "quant_with_valid_text[['roe', 'opinc', 'nonopinc']].describe()"
   ],
   "metadata": {
    "collapsed": false,
    "ExecuteTime": {
     "start_time": "2023-07-11T20:14:20.037871Z",
     "end_time": "2023-07-11T20:14:20.175933Z"
    }
   }
  },
  {
   "cell_type": "code",
   "execution_count": 12,
   "outputs": [],
   "source": [
    "# remove outliers, NaN\n",
    "valid_quant_text= quant_with_valid_text[(quant_with_valid_text['roe'].abs() < 1) &\n",
    " (quant_with_valid_text['opinc'].abs() < 1) &\n",
    " (quant_with_valid_text['nonopinc'].abs() < 1)]"
   ],
   "metadata": {
    "collapsed": false,
    "ExecuteTime": {
     "start_time": "2023-07-11T20:14:20.037951Z",
     "end_time": "2023-07-11T20:14:20.176161Z"
    }
   }
  },
  {
   "cell_type": "code",
   "execution_count": 13,
   "outputs": [
    {
     "data": {
      "text/plain": "           CIK  file_id  year       roe     opinc  nonopinc FILING_DATE  \\\n1         1750        1  2003  0.011745  0.013491  0.011883  2003-08-18   \n3         1750        3  2005  0.095362  0.131652 -0.015174  2005-07-22   \n4         1750        4  2006  0.127945  0.149182 -0.022282  2006-07-17   \n5         1750        5  2007  0.139220  0.197916 -0.056823  2007-07-20   \n7         1750        7  2009  0.063607  0.105913 -0.030043  2009-07-16   \n...        ...      ...   ...       ...       ...       ...         ...   \n72807  1596993    72807  2016 -0.001470 -0.001309 -0.000161  2016-05-31   \n72808  1596993    72808  2017 -0.021082 -0.029803  0.000213  2017-06-14   \n72809  1596993    72809  2018 -0.054427 -0.034820  0.001809  2018-06-28   \n72810  1720635    72810  2018  0.071252  0.118857 -0.015065  2019-02-19   \n72811  1739445    72811  2018  0.048959  0.091838 -0.011835  2019-02-28   \n\n                    ACC_NUM         CPR FORM_TYPE   SIC              CoName  \n1      0001047469-03-028005  2003-05-31      10-K  3720            AAR CORP  \n3      0001104659-05-033688  2005-05-31      10-K  3720            AAR CORP  \n4      0001104659-06-047248  2006-05-31      10-K  3720            AAR CORP  \n5      0001104659-07-055173  2007-05-31      10-K  3720            AAR CORP  \n7      0001047469-09-006783  2009-05-31      10-K  3720            AAR CORP  \n...                     ...         ...       ...   ...                 ...  \n72807  0001596993-16-000015  2016-03-31      10-K  4412     DORIAN LPG LTD.  \n72808  0001596993-17-000010  2017-03-31      10-K  4412     DORIAN LPG LTD.  \n72809  0001596993-18-000015  2018-03-31      10-K  4412     DORIAN LPG LTD.  \n72810  0001720635-19-000008  2018-12-31      10-K  3550  nVent Electric plc  \n72811  0001739445-19-000020  2018-12-31      10-K  3523        Arcosa  Inc.  \n\n[56068 rows x 12 columns]",
      "text/html": "<div>\n<style scoped>\n    .dataframe tbody tr th:only-of-type {\n        vertical-align: middle;\n    }\n\n    .dataframe tbody tr th {\n        vertical-align: top;\n    }\n\n    .dataframe thead th {\n        text-align: right;\n    }\n</style>\n<table border=\"1\" class=\"dataframe\">\n  <thead>\n    <tr style=\"text-align: right;\">\n      <th></th>\n      <th>CIK</th>\n      <th>file_id</th>\n      <th>year</th>\n      <th>roe</th>\n      <th>opinc</th>\n      <th>nonopinc</th>\n      <th>FILING_DATE</th>\n      <th>ACC_NUM</th>\n      <th>CPR</th>\n      <th>FORM_TYPE</th>\n      <th>SIC</th>\n      <th>CoName</th>\n    </tr>\n  </thead>\n  <tbody>\n    <tr>\n      <th>1</th>\n      <td>1750</td>\n      <td>1</td>\n      <td>2003</td>\n      <td>0.011745</td>\n      <td>0.013491</td>\n      <td>0.011883</td>\n      <td>2003-08-18</td>\n      <td>0001047469-03-028005</td>\n      <td>2003-05-31</td>\n      <td>10-K</td>\n      <td>3720</td>\n      <td>AAR CORP</td>\n    </tr>\n    <tr>\n      <th>3</th>\n      <td>1750</td>\n      <td>3</td>\n      <td>2005</td>\n      <td>0.095362</td>\n      <td>0.131652</td>\n      <td>-0.015174</td>\n      <td>2005-07-22</td>\n      <td>0001104659-05-033688</td>\n      <td>2005-05-31</td>\n      <td>10-K</td>\n      <td>3720</td>\n      <td>AAR CORP</td>\n    </tr>\n    <tr>\n      <th>4</th>\n      <td>1750</td>\n      <td>4</td>\n      <td>2006</td>\n      <td>0.127945</td>\n      <td>0.149182</td>\n      <td>-0.022282</td>\n      <td>2006-07-17</td>\n      <td>0001104659-06-047248</td>\n      <td>2006-05-31</td>\n      <td>10-K</td>\n      <td>3720</td>\n      <td>AAR CORP</td>\n    </tr>\n    <tr>\n      <th>5</th>\n      <td>1750</td>\n      <td>5</td>\n      <td>2007</td>\n      <td>0.139220</td>\n      <td>0.197916</td>\n      <td>-0.056823</td>\n      <td>2007-07-20</td>\n      <td>0001104659-07-055173</td>\n      <td>2007-05-31</td>\n      <td>10-K</td>\n      <td>3720</td>\n      <td>AAR CORP</td>\n    </tr>\n    <tr>\n      <th>7</th>\n      <td>1750</td>\n      <td>7</td>\n      <td>2009</td>\n      <td>0.063607</td>\n      <td>0.105913</td>\n      <td>-0.030043</td>\n      <td>2009-07-16</td>\n      <td>0001047469-09-006783</td>\n      <td>2009-05-31</td>\n      <td>10-K</td>\n      <td>3720</td>\n      <td>AAR CORP</td>\n    </tr>\n    <tr>\n      <th>...</th>\n      <td>...</td>\n      <td>...</td>\n      <td>...</td>\n      <td>...</td>\n      <td>...</td>\n      <td>...</td>\n      <td>...</td>\n      <td>...</td>\n      <td>...</td>\n      <td>...</td>\n      <td>...</td>\n      <td>...</td>\n    </tr>\n    <tr>\n      <th>72807</th>\n      <td>1596993</td>\n      <td>72807</td>\n      <td>2016</td>\n      <td>-0.001470</td>\n      <td>-0.001309</td>\n      <td>-0.000161</td>\n      <td>2016-05-31</td>\n      <td>0001596993-16-000015</td>\n      <td>2016-03-31</td>\n      <td>10-K</td>\n      <td>4412</td>\n      <td>DORIAN LPG LTD.</td>\n    </tr>\n    <tr>\n      <th>72808</th>\n      <td>1596993</td>\n      <td>72808</td>\n      <td>2017</td>\n      <td>-0.021082</td>\n      <td>-0.029803</td>\n      <td>0.000213</td>\n      <td>2017-06-14</td>\n      <td>0001596993-17-000010</td>\n      <td>2017-03-31</td>\n      <td>10-K</td>\n      <td>4412</td>\n      <td>DORIAN LPG LTD.</td>\n    </tr>\n    <tr>\n      <th>72809</th>\n      <td>1596993</td>\n      <td>72809</td>\n      <td>2018</td>\n      <td>-0.054427</td>\n      <td>-0.034820</td>\n      <td>0.001809</td>\n      <td>2018-06-28</td>\n      <td>0001596993-18-000015</td>\n      <td>2018-03-31</td>\n      <td>10-K</td>\n      <td>4412</td>\n      <td>DORIAN LPG LTD.</td>\n    </tr>\n    <tr>\n      <th>72810</th>\n      <td>1720635</td>\n      <td>72810</td>\n      <td>2018</td>\n      <td>0.071252</td>\n      <td>0.118857</td>\n      <td>-0.015065</td>\n      <td>2019-02-19</td>\n      <td>0001720635-19-000008</td>\n      <td>2018-12-31</td>\n      <td>10-K</td>\n      <td>3550</td>\n      <td>nVent Electric plc</td>\n    </tr>\n    <tr>\n      <th>72811</th>\n      <td>1739445</td>\n      <td>72811</td>\n      <td>2018</td>\n      <td>0.048959</td>\n      <td>0.091838</td>\n      <td>-0.011835</td>\n      <td>2019-02-28</td>\n      <td>0001739445-19-000020</td>\n      <td>2018-12-31</td>\n      <td>10-K</td>\n      <td>3523</td>\n      <td>Arcosa  Inc.</td>\n    </tr>\n  </tbody>\n</table>\n<p>56068 rows × 12 columns</p>\n</div>"
     },
     "execution_count": 13,
     "metadata": {},
     "output_type": "execute_result"
    }
   ],
   "source": [
    "valid_quant_text"
   ],
   "metadata": {
    "collapsed": false,
    "ExecuteTime": {
     "start_time": "2023-07-11T20:14:20.040168Z",
     "end_time": "2023-07-11T20:14:20.176230Z"
    }
   }
  },
  {
   "cell_type": "code",
   "execution_count": 14,
   "outputs": [
    {
     "data": {
      "text/plain": "CIK            0\nfile_id        0\nyear           0\nroe            0\nopinc          0\nnonopinc       0\nFILING_DATE    0\nACC_NUM        0\nCPR            0\nFORM_TYPE      0\nSIC            0\nCoName         0\ndtype: int64"
     },
     "execution_count": 14,
     "metadata": {},
     "output_type": "execute_result"
    }
   ],
   "source": [
    "valid_quant_text.isna().sum()"
   ],
   "metadata": {
    "collapsed": false,
    "ExecuteTime": {
     "start_time": "2023-07-11T20:14:20.041718Z",
     "end_time": "2023-07-11T20:14:20.176306Z"
    }
   }
  },
  {
   "cell_type": "code",
   "execution_count": 15,
   "outputs": [
    {
     "data": {
      "text/plain": "                roe         opinc      nonopinc\ncount  56068.000000  56068.000000  56068.000000\nmean       0.020088      0.085903     -0.018378\nstd        0.282212      0.294419      0.098432\nmin       -0.999842     -0.998689     -0.981738\n25%       -0.061484     -0.019526     -0.055873\n50%        0.070996      0.112334     -0.010854\n75%        0.154217      0.233754      0.011679\nmax        0.998839      0.999541      0.994565",
      "text/html": "<div>\n<style scoped>\n    .dataframe tbody tr th:only-of-type {\n        vertical-align: middle;\n    }\n\n    .dataframe tbody tr th {\n        vertical-align: top;\n    }\n\n    .dataframe thead th {\n        text-align: right;\n    }\n</style>\n<table border=\"1\" class=\"dataframe\">\n  <thead>\n    <tr style=\"text-align: right;\">\n      <th></th>\n      <th>roe</th>\n      <th>opinc</th>\n      <th>nonopinc</th>\n    </tr>\n  </thead>\n  <tbody>\n    <tr>\n      <th>count</th>\n      <td>56068.000000</td>\n      <td>56068.000000</td>\n      <td>56068.000000</td>\n    </tr>\n    <tr>\n      <th>mean</th>\n      <td>0.020088</td>\n      <td>0.085903</td>\n      <td>-0.018378</td>\n    </tr>\n    <tr>\n      <th>std</th>\n      <td>0.282212</td>\n      <td>0.294419</td>\n      <td>0.098432</td>\n    </tr>\n    <tr>\n      <th>min</th>\n      <td>-0.999842</td>\n      <td>-0.998689</td>\n      <td>-0.981738</td>\n    </tr>\n    <tr>\n      <th>25%</th>\n      <td>-0.061484</td>\n      <td>-0.019526</td>\n      <td>-0.055873</td>\n    </tr>\n    <tr>\n      <th>50%</th>\n      <td>0.070996</td>\n      <td>0.112334</td>\n      <td>-0.010854</td>\n    </tr>\n    <tr>\n      <th>75%</th>\n      <td>0.154217</td>\n      <td>0.233754</td>\n      <td>0.011679</td>\n    </tr>\n    <tr>\n      <th>max</th>\n      <td>0.998839</td>\n      <td>0.999541</td>\n      <td>0.994565</td>\n    </tr>\n  </tbody>\n</table>\n</div>"
     },
     "execution_count": 15,
     "metadata": {},
     "output_type": "execute_result"
    }
   ],
   "source": [
    "# descriptive statistics\n",
    "valid_quant_text[['roe', 'opinc', 'nonopinc']].describe()"
   ],
   "metadata": {
    "collapsed": false,
    "ExecuteTime": {
     "start_time": "2023-07-11T20:14:20.043388Z",
     "end_time": "2023-07-11T20:14:20.177095Z"
    }
   }
  },
  {
   "cell_type": "code",
   "execution_count": 16,
   "outputs": [],
   "source": [
    "# merge preprocessed text\n",
    "merged_quant_item7 = valid_quant_text.merge(text[['file_id', 'preprocessed_item_7']], on='file_id')"
   ],
   "metadata": {
    "collapsed": false,
    "ExecuteTime": {
     "start_time": "2023-07-11T20:14:20.071674Z",
     "end_time": "2023-07-11T20:14:20.177801Z"
    }
   }
  },
  {
   "cell_type": "code",
   "execution_count": 17,
   "outputs": [
    {
     "data": {
      "text/plain": "           CIK  file_id  year       roe     opinc  nonopinc FILING_DATE  \\\n0         1750        1  2003  0.011745  0.013491  0.011883  2003-08-18   \n1         1750        3  2005  0.095362  0.131652 -0.015174  2005-07-22   \n2         1750        4  2006  0.127945  0.149182 -0.022282  2006-07-17   \n3         1750        5  2007  0.139220  0.197916 -0.056823  2007-07-20   \n4         1750        7  2009  0.063607  0.105913 -0.030043  2009-07-16   \n...        ...      ...   ...       ...       ...       ...         ...   \n56063  1596993    72807  2016 -0.001470 -0.001309 -0.000161  2016-05-31   \n56064  1596993    72808  2017 -0.021082 -0.029803  0.000213  2017-06-14   \n56065  1596993    72809  2018 -0.054427 -0.034820  0.001809  2018-06-28   \n56066  1720635    72810  2018  0.071252  0.118857 -0.015065  2019-02-19   \n56067  1739445    72811  2018  0.048959  0.091838 -0.011835  2019-02-28   \n\n                    ACC_NUM         CPR FORM_TYPE   SIC              CoName  \\\n0      0001047469-03-028005  2003-05-31      10-K  3720            AAR CORP   \n1      0001104659-05-033688  2005-05-31      10-K  3720            AAR CORP   \n2      0001104659-06-047248  2006-05-31      10-K  3720            AAR CORP   \n3      0001104659-07-055173  2007-05-31      10-K  3720            AAR CORP   \n4      0001047469-09-006783  2009-05-31      10-K  3720            AAR CORP   \n...                     ...         ...       ...   ...                 ...   \n56063  0001596993-16-000015  2016-03-31      10-K  4412     DORIAN LPG LTD.   \n56064  0001596993-17-000010  2017-03-31      10-K  4412     DORIAN LPG LTD.   \n56065  0001596993-18-000015  2018-03-31      10-K  4412     DORIAN LPG LTD.   \n56066  0001720635-19-000008  2018-12-31      10-K  3550  nVent Electric plc   \n56067  0001739445-19-000020  2018-12-31      10-K  3523        Arcosa  Inc.   \n\n                                     preprocessed_item_7  \n0      [factor, may, affect, future, result, company,...  \n1      [general, overview, report, activities, four, ...  \n2      [forwardlooking, statements, managements, disc...  \n3      [forwardlooking, statements, managements, disc...  \n4      [forwardlooking, statements, managements, disc...  \n...                                                  ...  \n56063  [follow, discussion, financial, condition, res...  \n56064  [follow, discussion, financial, condition, res...  \n56065  [follow, discussion, financial, condition, res...  \n56066  [analysis, financial, condition, result, opera...  \n56067  [analysis, financial, condition, result, opera...  \n\n[56068 rows x 13 columns]",
      "text/html": "<div>\n<style scoped>\n    .dataframe tbody tr th:only-of-type {\n        vertical-align: middle;\n    }\n\n    .dataframe tbody tr th {\n        vertical-align: top;\n    }\n\n    .dataframe thead th {\n        text-align: right;\n    }\n</style>\n<table border=\"1\" class=\"dataframe\">\n  <thead>\n    <tr style=\"text-align: right;\">\n      <th></th>\n      <th>CIK</th>\n      <th>file_id</th>\n      <th>year</th>\n      <th>roe</th>\n      <th>opinc</th>\n      <th>nonopinc</th>\n      <th>FILING_DATE</th>\n      <th>ACC_NUM</th>\n      <th>CPR</th>\n      <th>FORM_TYPE</th>\n      <th>SIC</th>\n      <th>CoName</th>\n      <th>preprocessed_item_7</th>\n    </tr>\n  </thead>\n  <tbody>\n    <tr>\n      <th>0</th>\n      <td>1750</td>\n      <td>1</td>\n      <td>2003</td>\n      <td>0.011745</td>\n      <td>0.013491</td>\n      <td>0.011883</td>\n      <td>2003-08-18</td>\n      <td>0001047469-03-028005</td>\n      <td>2003-05-31</td>\n      <td>10-K</td>\n      <td>3720</td>\n      <td>AAR CORP</td>\n      <td>[factor, may, affect, future, result, company,...</td>\n    </tr>\n    <tr>\n      <th>1</th>\n      <td>1750</td>\n      <td>3</td>\n      <td>2005</td>\n      <td>0.095362</td>\n      <td>0.131652</td>\n      <td>-0.015174</td>\n      <td>2005-07-22</td>\n      <td>0001104659-05-033688</td>\n      <td>2005-05-31</td>\n      <td>10-K</td>\n      <td>3720</td>\n      <td>AAR CORP</td>\n      <td>[general, overview, report, activities, four, ...</td>\n    </tr>\n    <tr>\n      <th>2</th>\n      <td>1750</td>\n      <td>4</td>\n      <td>2006</td>\n      <td>0.127945</td>\n      <td>0.149182</td>\n      <td>-0.022282</td>\n      <td>2006-07-17</td>\n      <td>0001104659-06-047248</td>\n      <td>2006-05-31</td>\n      <td>10-K</td>\n      <td>3720</td>\n      <td>AAR CORP</td>\n      <td>[forwardlooking, statements, managements, disc...</td>\n    </tr>\n    <tr>\n      <th>3</th>\n      <td>1750</td>\n      <td>5</td>\n      <td>2007</td>\n      <td>0.139220</td>\n      <td>0.197916</td>\n      <td>-0.056823</td>\n      <td>2007-07-20</td>\n      <td>0001104659-07-055173</td>\n      <td>2007-05-31</td>\n      <td>10-K</td>\n      <td>3720</td>\n      <td>AAR CORP</td>\n      <td>[forwardlooking, statements, managements, disc...</td>\n    </tr>\n    <tr>\n      <th>4</th>\n      <td>1750</td>\n      <td>7</td>\n      <td>2009</td>\n      <td>0.063607</td>\n      <td>0.105913</td>\n      <td>-0.030043</td>\n      <td>2009-07-16</td>\n      <td>0001047469-09-006783</td>\n      <td>2009-05-31</td>\n      <td>10-K</td>\n      <td>3720</td>\n      <td>AAR CORP</td>\n      <td>[forwardlooking, statements, managements, disc...</td>\n    </tr>\n    <tr>\n      <th>...</th>\n      <td>...</td>\n      <td>...</td>\n      <td>...</td>\n      <td>...</td>\n      <td>...</td>\n      <td>...</td>\n      <td>...</td>\n      <td>...</td>\n      <td>...</td>\n      <td>...</td>\n      <td>...</td>\n      <td>...</td>\n      <td>...</td>\n    </tr>\n    <tr>\n      <th>56063</th>\n      <td>1596993</td>\n      <td>72807</td>\n      <td>2016</td>\n      <td>-0.001470</td>\n      <td>-0.001309</td>\n      <td>-0.000161</td>\n      <td>2016-05-31</td>\n      <td>0001596993-16-000015</td>\n      <td>2016-03-31</td>\n      <td>10-K</td>\n      <td>4412</td>\n      <td>DORIAN LPG LTD.</td>\n      <td>[follow, discussion, financial, condition, res...</td>\n    </tr>\n    <tr>\n      <th>56064</th>\n      <td>1596993</td>\n      <td>72808</td>\n      <td>2017</td>\n      <td>-0.021082</td>\n      <td>-0.029803</td>\n      <td>0.000213</td>\n      <td>2017-06-14</td>\n      <td>0001596993-17-000010</td>\n      <td>2017-03-31</td>\n      <td>10-K</td>\n      <td>4412</td>\n      <td>DORIAN LPG LTD.</td>\n      <td>[follow, discussion, financial, condition, res...</td>\n    </tr>\n    <tr>\n      <th>56065</th>\n      <td>1596993</td>\n      <td>72809</td>\n      <td>2018</td>\n      <td>-0.054427</td>\n      <td>-0.034820</td>\n      <td>0.001809</td>\n      <td>2018-06-28</td>\n      <td>0001596993-18-000015</td>\n      <td>2018-03-31</td>\n      <td>10-K</td>\n      <td>4412</td>\n      <td>DORIAN LPG LTD.</td>\n      <td>[follow, discussion, financial, condition, res...</td>\n    </tr>\n    <tr>\n      <th>56066</th>\n      <td>1720635</td>\n      <td>72810</td>\n      <td>2018</td>\n      <td>0.071252</td>\n      <td>0.118857</td>\n      <td>-0.015065</td>\n      <td>2019-02-19</td>\n      <td>0001720635-19-000008</td>\n      <td>2018-12-31</td>\n      <td>10-K</td>\n      <td>3550</td>\n      <td>nVent Electric plc</td>\n      <td>[analysis, financial, condition, result, opera...</td>\n    </tr>\n    <tr>\n      <th>56067</th>\n      <td>1739445</td>\n      <td>72811</td>\n      <td>2018</td>\n      <td>0.048959</td>\n      <td>0.091838</td>\n      <td>-0.011835</td>\n      <td>2019-02-28</td>\n      <td>0001739445-19-000020</td>\n      <td>2018-12-31</td>\n      <td>10-K</td>\n      <td>3523</td>\n      <td>Arcosa  Inc.</td>\n      <td>[analysis, financial, condition, result, opera...</td>\n    </tr>\n  </tbody>\n</table>\n<p>56068 rows × 13 columns</p>\n</div>"
     },
     "execution_count": 17,
     "metadata": {},
     "output_type": "execute_result"
    }
   ],
   "source": [
    "merged_quant_item7"
   ],
   "metadata": {
    "collapsed": false,
    "ExecuteTime": {
     "start_time": "2023-07-11T20:14:20.097219Z",
     "end_time": "2023-07-11T20:14:20.177924Z"
    }
   }
  },
  {
   "cell_type": "code",
   "execution_count": 18,
   "outputs": [],
   "source": [
    "# rename nonopinc to nopinc\n",
    "merged_quant_item7 = merged_quant_item7.rename(columns={'nonopinc': 'nopinc'})"
   ],
   "metadata": {
    "collapsed": false,
    "ExecuteTime": {
     "start_time": "2023-07-11T20:14:20.114850Z",
     "end_time": "2023-07-11T20:14:20.178204Z"
    }
   }
  },
  {
   "cell_type": "code",
   "execution_count": 19,
   "outputs": [
    {
     "data": {
      "text/plain": "           CIK  file_id  year       roe     opinc    nopinc FILING_DATE  \\\n0         1750        1  2003  0.011745  0.013491  0.011883  2003-08-18   \n1         1750        3  2005  0.095362  0.131652 -0.015174  2005-07-22   \n2         1750        4  2006  0.127945  0.149182 -0.022282  2006-07-17   \n3         1750        5  2007  0.139220  0.197916 -0.056823  2007-07-20   \n4         1750        7  2009  0.063607  0.105913 -0.030043  2009-07-16   \n...        ...      ...   ...       ...       ...       ...         ...   \n56063  1596993    72807  2016 -0.001470 -0.001309 -0.000161  2016-05-31   \n56064  1596993    72808  2017 -0.021082 -0.029803  0.000213  2017-06-14   \n56065  1596993    72809  2018 -0.054427 -0.034820  0.001809  2018-06-28   \n56066  1720635    72810  2018  0.071252  0.118857 -0.015065  2019-02-19   \n56067  1739445    72811  2018  0.048959  0.091838 -0.011835  2019-02-28   \n\n                    ACC_NUM         CPR FORM_TYPE   SIC              CoName  \\\n0      0001047469-03-028005  2003-05-31      10-K  3720            AAR CORP   \n1      0001104659-05-033688  2005-05-31      10-K  3720            AAR CORP   \n2      0001104659-06-047248  2006-05-31      10-K  3720            AAR CORP   \n3      0001104659-07-055173  2007-05-31      10-K  3720            AAR CORP   \n4      0001047469-09-006783  2009-05-31      10-K  3720            AAR CORP   \n...                     ...         ...       ...   ...                 ...   \n56063  0001596993-16-000015  2016-03-31      10-K  4412     DORIAN LPG LTD.   \n56064  0001596993-17-000010  2017-03-31      10-K  4412     DORIAN LPG LTD.   \n56065  0001596993-18-000015  2018-03-31      10-K  4412     DORIAN LPG LTD.   \n56066  0001720635-19-000008  2018-12-31      10-K  3550  nVent Electric plc   \n56067  0001739445-19-000020  2018-12-31      10-K  3523        Arcosa  Inc.   \n\n                                     preprocessed_item_7  \n0      [factor, may, affect, future, result, company,...  \n1      [general, overview, report, activities, four, ...  \n2      [forwardlooking, statements, managements, disc...  \n3      [forwardlooking, statements, managements, disc...  \n4      [forwardlooking, statements, managements, disc...  \n...                                                  ...  \n56063  [follow, discussion, financial, condition, res...  \n56064  [follow, discussion, financial, condition, res...  \n56065  [follow, discussion, financial, condition, res...  \n56066  [analysis, financial, condition, result, opera...  \n56067  [analysis, financial, condition, result, opera...  \n\n[56068 rows x 13 columns]",
      "text/html": "<div>\n<style scoped>\n    .dataframe tbody tr th:only-of-type {\n        vertical-align: middle;\n    }\n\n    .dataframe tbody tr th {\n        vertical-align: top;\n    }\n\n    .dataframe thead th {\n        text-align: right;\n    }\n</style>\n<table border=\"1\" class=\"dataframe\">\n  <thead>\n    <tr style=\"text-align: right;\">\n      <th></th>\n      <th>CIK</th>\n      <th>file_id</th>\n      <th>year</th>\n      <th>roe</th>\n      <th>opinc</th>\n      <th>nopinc</th>\n      <th>FILING_DATE</th>\n      <th>ACC_NUM</th>\n      <th>CPR</th>\n      <th>FORM_TYPE</th>\n      <th>SIC</th>\n      <th>CoName</th>\n      <th>preprocessed_item_7</th>\n    </tr>\n  </thead>\n  <tbody>\n    <tr>\n      <th>0</th>\n      <td>1750</td>\n      <td>1</td>\n      <td>2003</td>\n      <td>0.011745</td>\n      <td>0.013491</td>\n      <td>0.011883</td>\n      <td>2003-08-18</td>\n      <td>0001047469-03-028005</td>\n      <td>2003-05-31</td>\n      <td>10-K</td>\n      <td>3720</td>\n      <td>AAR CORP</td>\n      <td>[factor, may, affect, future, result, company,...</td>\n    </tr>\n    <tr>\n      <th>1</th>\n      <td>1750</td>\n      <td>3</td>\n      <td>2005</td>\n      <td>0.095362</td>\n      <td>0.131652</td>\n      <td>-0.015174</td>\n      <td>2005-07-22</td>\n      <td>0001104659-05-033688</td>\n      <td>2005-05-31</td>\n      <td>10-K</td>\n      <td>3720</td>\n      <td>AAR CORP</td>\n      <td>[general, overview, report, activities, four, ...</td>\n    </tr>\n    <tr>\n      <th>2</th>\n      <td>1750</td>\n      <td>4</td>\n      <td>2006</td>\n      <td>0.127945</td>\n      <td>0.149182</td>\n      <td>-0.022282</td>\n      <td>2006-07-17</td>\n      <td>0001104659-06-047248</td>\n      <td>2006-05-31</td>\n      <td>10-K</td>\n      <td>3720</td>\n      <td>AAR CORP</td>\n      <td>[forwardlooking, statements, managements, disc...</td>\n    </tr>\n    <tr>\n      <th>3</th>\n      <td>1750</td>\n      <td>5</td>\n      <td>2007</td>\n      <td>0.139220</td>\n      <td>0.197916</td>\n      <td>-0.056823</td>\n      <td>2007-07-20</td>\n      <td>0001104659-07-055173</td>\n      <td>2007-05-31</td>\n      <td>10-K</td>\n      <td>3720</td>\n      <td>AAR CORP</td>\n      <td>[forwardlooking, statements, managements, disc...</td>\n    </tr>\n    <tr>\n      <th>4</th>\n      <td>1750</td>\n      <td>7</td>\n      <td>2009</td>\n      <td>0.063607</td>\n      <td>0.105913</td>\n      <td>-0.030043</td>\n      <td>2009-07-16</td>\n      <td>0001047469-09-006783</td>\n      <td>2009-05-31</td>\n      <td>10-K</td>\n      <td>3720</td>\n      <td>AAR CORP</td>\n      <td>[forwardlooking, statements, managements, disc...</td>\n    </tr>\n    <tr>\n      <th>...</th>\n      <td>...</td>\n      <td>...</td>\n      <td>...</td>\n      <td>...</td>\n      <td>...</td>\n      <td>...</td>\n      <td>...</td>\n      <td>...</td>\n      <td>...</td>\n      <td>...</td>\n      <td>...</td>\n      <td>...</td>\n      <td>...</td>\n    </tr>\n    <tr>\n      <th>56063</th>\n      <td>1596993</td>\n      <td>72807</td>\n      <td>2016</td>\n      <td>-0.001470</td>\n      <td>-0.001309</td>\n      <td>-0.000161</td>\n      <td>2016-05-31</td>\n      <td>0001596993-16-000015</td>\n      <td>2016-03-31</td>\n      <td>10-K</td>\n      <td>4412</td>\n      <td>DORIAN LPG LTD.</td>\n      <td>[follow, discussion, financial, condition, res...</td>\n    </tr>\n    <tr>\n      <th>56064</th>\n      <td>1596993</td>\n      <td>72808</td>\n      <td>2017</td>\n      <td>-0.021082</td>\n      <td>-0.029803</td>\n      <td>0.000213</td>\n      <td>2017-06-14</td>\n      <td>0001596993-17-000010</td>\n      <td>2017-03-31</td>\n      <td>10-K</td>\n      <td>4412</td>\n      <td>DORIAN LPG LTD.</td>\n      <td>[follow, discussion, financial, condition, res...</td>\n    </tr>\n    <tr>\n      <th>56065</th>\n      <td>1596993</td>\n      <td>72809</td>\n      <td>2018</td>\n      <td>-0.054427</td>\n      <td>-0.034820</td>\n      <td>0.001809</td>\n      <td>2018-06-28</td>\n      <td>0001596993-18-000015</td>\n      <td>2018-03-31</td>\n      <td>10-K</td>\n      <td>4412</td>\n      <td>DORIAN LPG LTD.</td>\n      <td>[follow, discussion, financial, condition, res...</td>\n    </tr>\n    <tr>\n      <th>56066</th>\n      <td>1720635</td>\n      <td>72810</td>\n      <td>2018</td>\n      <td>0.071252</td>\n      <td>0.118857</td>\n      <td>-0.015065</td>\n      <td>2019-02-19</td>\n      <td>0001720635-19-000008</td>\n      <td>2018-12-31</td>\n      <td>10-K</td>\n      <td>3550</td>\n      <td>nVent Electric plc</td>\n      <td>[analysis, financial, condition, result, opera...</td>\n    </tr>\n    <tr>\n      <th>56067</th>\n      <td>1739445</td>\n      <td>72811</td>\n      <td>2018</td>\n      <td>0.048959</td>\n      <td>0.091838</td>\n      <td>-0.011835</td>\n      <td>2019-02-28</td>\n      <td>0001739445-19-000020</td>\n      <td>2018-12-31</td>\n      <td>10-K</td>\n      <td>3523</td>\n      <td>Arcosa  Inc.</td>\n      <td>[analysis, financial, condition, result, opera...</td>\n    </tr>\n  </tbody>\n</table>\n<p>56068 rows × 13 columns</p>\n</div>"
     },
     "execution_count": 19,
     "metadata": {},
     "output_type": "execute_result"
    }
   ],
   "source": [
    "merged_quant_item7"
   ],
   "metadata": {
    "collapsed": false,
    "ExecuteTime": {
     "start_time": "2023-07-11T20:14:20.143337Z",
     "end_time": "2023-07-11T20:14:20.178643Z"
    }
   }
  },
  {
   "cell_type": "code",
   "execution_count": 20,
   "outputs": [
    {
     "data": {
      "text/plain": "CIK                      int64\nfile_id                  int64\nyear                     int64\nroe                    float64\nopinc                  float64\nnopinc                 float64\nFILING_DATE             object\nACC_NUM                 object\nCPR                     object\nFORM_TYPE               object\nSIC                      int64\nCoName                  object\npreprocessed_item_7     object\ndtype: object"
     },
     "execution_count": 20,
     "metadata": {},
     "output_type": "execute_result"
    }
   ],
   "source": [
    "merged_quant_item7.dtypes"
   ],
   "metadata": {
    "collapsed": false,
    "ExecuteTime": {
     "start_time": "2023-07-11T20:14:20.147348Z",
     "end_time": "2023-07-11T20:14:20.178737Z"
    }
   }
  },
  {
   "cell_type": "code",
   "execution_count": 21,
   "outputs": [],
   "source": [
    "merged_quant_item7['CIK'] = merged_quant_item7['CIK'].astype(str)\n",
    "merged_quant_item7['file_id'] = merged_quant_item7['file_id'].astype(str)\n",
    "merged_quant_item7['SIC'] = merged_quant_item7['SIC'].astype(str)"
   ],
   "metadata": {
    "collapsed": false,
    "ExecuteTime": {
     "start_time": "2023-07-11T20:14:20.170582Z",
     "end_time": "2023-07-11T20:14:20.413339Z"
    }
   }
  },
  {
   "cell_type": "code",
   "execution_count": 22,
   "outputs": [
    {
     "data": {
      "text/plain": "CIK                     object\nfile_id                 object\nyear                     int64\nroe                    float64\nopinc                  float64\nnopinc                 float64\nFILING_DATE             object\nACC_NUM                 object\nCPR                     object\nFORM_TYPE               object\nSIC                     object\nCoName                  object\npreprocessed_item_7     object\ndtype: object"
     },
     "execution_count": 22,
     "metadata": {},
     "output_type": "execute_result"
    }
   ],
   "source": [
    "merged_quant_item7.dtypes"
   ],
   "metadata": {
    "collapsed": false,
    "ExecuteTime": {
     "start_time": "2023-07-11T20:14:20.213420Z",
     "end_time": "2023-07-11T20:14:20.478928Z"
    }
   }
  },
  {
   "cell_type": "code",
   "execution_count": 23,
   "outputs": [],
   "source": [
    "merged_quant_item7.to_pickle('datasets/master-quant-preprocessed-item7.pkl')"
   ],
   "metadata": {
    "collapsed": false,
    "ExecuteTime": {
     "start_time": "2023-07-11T20:14:20.287848Z",
     "end_time": "2023-07-11T20:36:55.300979Z"
    }
   }
  }
 ],
 "metadata": {
  "kernelspec": {
   "display_name": "Python 3",
   "language": "python",
   "name": "python3"
  },
  "language_info": {
   "codemirror_mode": {
    "name": "ipython",
    "version": 2
   },
   "file_extension": ".py",
   "mimetype": "text/x-python",
   "name": "python",
   "nbconvert_exporter": "python",
   "pygments_lexer": "ipython2",
   "version": "2.7.6"
  }
 },
 "nbformat": 4,
 "nbformat_minor": 0
}
