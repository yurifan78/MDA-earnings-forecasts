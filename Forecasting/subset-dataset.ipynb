{
 "cells": [
  {
   "cell_type": "code",
   "execution_count": 1,
   "metadata": {
    "collapsed": true,
    "ExecuteTime": {
     "start_time": "2023-07-19T18:27:27.534061Z",
     "end_time": "2023-07-19T18:27:27.535977Z"
    }
   },
   "outputs": [],
   "source": [
    "import pandas as pd"
   ]
  },
  {
   "cell_type": "code",
   "execution_count": 2,
   "outputs": [],
   "source": [
    "df = pd.read_pickle('datasets/features-label-text-represented.pkl')"
   ],
   "metadata": {
    "collapsed": false,
    "ExecuteTime": {
     "start_time": "2023-07-19T18:27:30.838565Z",
     "end_time": "2023-07-19T18:28:28.546398Z"
    }
   }
  },
  {
   "cell_type": "code",
   "execution_count": 6,
   "outputs": [],
   "source": [
    "df_copy = df.copy()"
   ],
   "metadata": {
    "collapsed": false,
    "ExecuteTime": {
     "start_time": "2023-07-19T18:29:06.694327Z",
     "end_time": "2023-07-19T18:29:06.720967Z"
    }
   }
  },
  {
   "cell_type": "code",
   "execution_count": 7,
   "outputs": [
    {
     "data": {
      "text/plain": "Index(['CIK', 'file_id', 'year', 'roe', 'opinc', 'nopinc',\n       'preprocessed_item_7', 'token_count', 'roe_next_year', 'tone',\n       'text_vector'],\n      dtype='object')"
     },
     "execution_count": 7,
     "metadata": {},
     "output_type": "execute_result"
    }
   ],
   "source": [
    "df_copy.columns"
   ],
   "metadata": {
    "collapsed": false,
    "ExecuteTime": {
     "start_time": "2023-07-19T18:29:36.004554Z",
     "end_time": "2023-07-19T18:29:36.012781Z"
    }
   }
  },
  {
   "cell_type": "code",
   "execution_count": 8,
   "outputs": [
    {
     "data": {
      "text/plain": "0        [direct, labor, overhead, sales, structure, sy...\n1        [date, statements, reflect, occurrence, antici...\n2        [unanticipated, events, general, overview, rep...\n3        [unanticipated, events, general, overview, rep...\n4        [unanticipated, events, general, overview, rep...\n                               ...                        \n43285    [materially, reflect, forwardlooking, statemen...\n43286    [solutions, integral, finish, products, operat...\n43287    [financial, position, result, operations, cash...\n43288    [cash, flow, reflect, predecessor, combine, fi...\n43289    [emissionreducing, technologies, certain, cust...\nName: preprocessed_item_7, Length: 43290, dtype: object"
     },
     "execution_count": 8,
     "metadata": {},
     "output_type": "execute_result"
    }
   ],
   "source": [
    "df_copy.pop('preprocessed_item_7')"
   ],
   "metadata": {
    "collapsed": false,
    "ExecuteTime": {
     "start_time": "2023-07-19T18:29:53.657721Z",
     "end_time": "2023-07-19T18:29:53.665882Z"
    }
   }
  },
  {
   "cell_type": "code",
   "execution_count": 9,
   "outputs": [
    {
     "data": {
      "text/plain": "(43290, 10)"
     },
     "execution_count": 9,
     "metadata": {},
     "output_type": "execute_result"
    }
   ],
   "source": [
    "df_copy.shape"
   ],
   "metadata": {
    "collapsed": false,
    "ExecuteTime": {
     "start_time": "2023-07-19T18:30:03.378838Z",
     "end_time": "2023-07-19T18:30:03.390637Z"
    }
   }
  },
  {
   "cell_type": "code",
   "execution_count": 10,
   "outputs": [
    {
     "data": {
      "text/plain": "           CIK file_id  year       roe     opinc    nopinc  token_count  \\\n0         1750       3  2005  0.095362  0.131652 -0.015174         2120   \n1         1750       4  2006  0.127945  0.149182 -0.022282         3219   \n2         1750       7  2009  0.063607  0.105913 -0.030043         3364   \n3         1750       8  2010  0.088296  0.136418 -0.040048         3045   \n4         1750       9  2011  0.079613  0.138888 -0.026679         2503   \n...        ...     ...   ...       ...       ...       ...          ...   \n43285  1590714   72797  2016 -0.025374  0.014667 -0.016629        11060   \n43286  1590714   72798  2017 -0.103030  0.106369 -0.039584         8210   \n43287  1596993   72806  2015  0.139539  0.136995  0.004964         4796   \n43288  1596993   72807  2016 -0.001470 -0.001309 -0.000161         6947   \n43289  1596993   72808  2017 -0.021082 -0.029803  0.000213         6696   \n\n       roe_next_year      tone  \\\n0           0.127945 -0.000472   \n1           0.139220  0.000000   \n2           0.088296  0.000000   \n3           0.079613 -0.000328   \n4           0.061607 -0.000799   \n...              ...       ...   \n43285      -0.103030 -0.000090   \n43286      -0.128702 -0.000244   \n43287      -0.001470  0.000000   \n43288      -0.021082  0.000000   \n43289      -0.054427  0.000000   \n\n                                             text_vector  \n0      [0.90494365, 0.074863456, -0.22782834, 0.33961...  \n1      [0.9111878, 0.08885506, -0.31519878, 0.4127013...  \n2      [0.7394947, 0.017999234, -0.41983142, 0.052898...  \n3      [0.9311413, 0.0732959, -0.42346224, 0.16167574...  \n4      [0.8763539, 0.0571177, -0.4936092, 0.20794152,...  \n...                                                  ...  \n43285  [0.9984487, 0.15170725, 0.21449247, 0.5716222,...  \n43286  [0.83938867, 0.25470212, -0.047783505, 0.35447...  \n43287  [0.5189842, -0.2603675, 0.5907965, 0.41729388,...  \n43288  [0.65538996, -0.20713119, 0.4893616, 0.5504421...  \n43289  [0.6442977, -0.054988574, 0.47271731, 0.456882...  \n\n[43290 rows x 10 columns]",
      "text/html": "<div>\n<style scoped>\n    .dataframe tbody tr th:only-of-type {\n        vertical-align: middle;\n    }\n\n    .dataframe tbody tr th {\n        vertical-align: top;\n    }\n\n    .dataframe thead th {\n        text-align: right;\n    }\n</style>\n<table border=\"1\" class=\"dataframe\">\n  <thead>\n    <tr style=\"text-align: right;\">\n      <th></th>\n      <th>CIK</th>\n      <th>file_id</th>\n      <th>year</th>\n      <th>roe</th>\n      <th>opinc</th>\n      <th>nopinc</th>\n      <th>token_count</th>\n      <th>roe_next_year</th>\n      <th>tone</th>\n      <th>text_vector</th>\n    </tr>\n  </thead>\n  <tbody>\n    <tr>\n      <th>0</th>\n      <td>1750</td>\n      <td>3</td>\n      <td>2005</td>\n      <td>0.095362</td>\n      <td>0.131652</td>\n      <td>-0.015174</td>\n      <td>2120</td>\n      <td>0.127945</td>\n      <td>-0.000472</td>\n      <td>[0.90494365, 0.074863456, -0.22782834, 0.33961...</td>\n    </tr>\n    <tr>\n      <th>1</th>\n      <td>1750</td>\n      <td>4</td>\n      <td>2006</td>\n      <td>0.127945</td>\n      <td>0.149182</td>\n      <td>-0.022282</td>\n      <td>3219</td>\n      <td>0.139220</td>\n      <td>0.000000</td>\n      <td>[0.9111878, 0.08885506, -0.31519878, 0.4127013...</td>\n    </tr>\n    <tr>\n      <th>2</th>\n      <td>1750</td>\n      <td>7</td>\n      <td>2009</td>\n      <td>0.063607</td>\n      <td>0.105913</td>\n      <td>-0.030043</td>\n      <td>3364</td>\n      <td>0.088296</td>\n      <td>0.000000</td>\n      <td>[0.7394947, 0.017999234, -0.41983142, 0.052898...</td>\n    </tr>\n    <tr>\n      <th>3</th>\n      <td>1750</td>\n      <td>8</td>\n      <td>2010</td>\n      <td>0.088296</td>\n      <td>0.136418</td>\n      <td>-0.040048</td>\n      <td>3045</td>\n      <td>0.079613</td>\n      <td>-0.000328</td>\n      <td>[0.9311413, 0.0732959, -0.42346224, 0.16167574...</td>\n    </tr>\n    <tr>\n      <th>4</th>\n      <td>1750</td>\n      <td>9</td>\n      <td>2011</td>\n      <td>0.079613</td>\n      <td>0.138888</td>\n      <td>-0.026679</td>\n      <td>2503</td>\n      <td>0.061607</td>\n      <td>-0.000799</td>\n      <td>[0.8763539, 0.0571177, -0.4936092, 0.20794152,...</td>\n    </tr>\n    <tr>\n      <th>...</th>\n      <td>...</td>\n      <td>...</td>\n      <td>...</td>\n      <td>...</td>\n      <td>...</td>\n      <td>...</td>\n      <td>...</td>\n      <td>...</td>\n      <td>...</td>\n      <td>...</td>\n    </tr>\n    <tr>\n      <th>43285</th>\n      <td>1590714</td>\n      <td>72797</td>\n      <td>2016</td>\n      <td>-0.025374</td>\n      <td>0.014667</td>\n      <td>-0.016629</td>\n      <td>11060</td>\n      <td>-0.103030</td>\n      <td>-0.000090</td>\n      <td>[0.9984487, 0.15170725, 0.21449247, 0.5716222,...</td>\n    </tr>\n    <tr>\n      <th>43286</th>\n      <td>1590714</td>\n      <td>72798</td>\n      <td>2017</td>\n      <td>-0.103030</td>\n      <td>0.106369</td>\n      <td>-0.039584</td>\n      <td>8210</td>\n      <td>-0.128702</td>\n      <td>-0.000244</td>\n      <td>[0.83938867, 0.25470212, -0.047783505, 0.35447...</td>\n    </tr>\n    <tr>\n      <th>43287</th>\n      <td>1596993</td>\n      <td>72806</td>\n      <td>2015</td>\n      <td>0.139539</td>\n      <td>0.136995</td>\n      <td>0.004964</td>\n      <td>4796</td>\n      <td>-0.001470</td>\n      <td>0.000000</td>\n      <td>[0.5189842, -0.2603675, 0.5907965, 0.41729388,...</td>\n    </tr>\n    <tr>\n      <th>43288</th>\n      <td>1596993</td>\n      <td>72807</td>\n      <td>2016</td>\n      <td>-0.001470</td>\n      <td>-0.001309</td>\n      <td>-0.000161</td>\n      <td>6947</td>\n      <td>-0.021082</td>\n      <td>0.000000</td>\n      <td>[0.65538996, -0.20713119, 0.4893616, 0.5504421...</td>\n    </tr>\n    <tr>\n      <th>43289</th>\n      <td>1596993</td>\n      <td>72808</td>\n      <td>2017</td>\n      <td>-0.021082</td>\n      <td>-0.029803</td>\n      <td>0.000213</td>\n      <td>6696</td>\n      <td>-0.054427</td>\n      <td>0.000000</td>\n      <td>[0.6442977, -0.054988574, 0.47271731, 0.456882...</td>\n    </tr>\n  </tbody>\n</table>\n<p>43290 rows × 10 columns</p>\n</div>"
     },
     "execution_count": 10,
     "metadata": {},
     "output_type": "execute_result"
    }
   ],
   "source": [
    "df_copy"
   ],
   "metadata": {
    "collapsed": false,
    "ExecuteTime": {
     "start_time": "2023-07-19T18:30:07.106941Z",
     "end_time": "2023-07-19T18:30:07.111540Z"
    }
   }
  },
  {
   "cell_type": "code",
   "execution_count": 12,
   "outputs": [],
   "source": [
    "df_copy.to_pickle('datasets/features-label-text-represented-subset.pkl')"
   ],
   "metadata": {
    "collapsed": false,
    "ExecuteTime": {
     "start_time": "2023-07-19T18:31:32.497827Z",
     "end_time": "2023-07-19T18:31:50.763920Z"
    }
   }
  },
  {
   "cell_type": "code",
   "execution_count": null,
   "outputs": [],
   "source": [],
   "metadata": {
    "collapsed": false
   }
  }
 ],
 "metadata": {
  "kernelspec": {
   "display_name": "Python 3",
   "language": "python",
   "name": "python3"
  },
  "language_info": {
   "codemirror_mode": {
    "name": "ipython",
    "version": 2
   },
   "file_extension": ".py",
   "mimetype": "text/x-python",
   "name": "python",
   "nbconvert_exporter": "python",
   "pygments_lexer": "ipython2",
   "version": "2.7.6"
  }
 },
 "nbformat": 4,
 "nbformat_minor": 0
}
