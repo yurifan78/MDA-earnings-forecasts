{
 "cells": [
  {
   "cell_type": "code",
   "execution_count": 1,
   "outputs": [
    {
     "name": "stderr",
     "output_type": "stream",
     "text": [
      "[nltk_data] Error loading omw-1.4: <urlopen error [Errno 8] nodename\n",
      "[nltk_data]     nor servname provided, or not known>\n"
     ]
    },
    {
     "data": {
      "text/plain": "False"
     },
     "execution_count": 1,
     "metadata": {},
     "output_type": "execute_result"
    }
   ],
   "source": [
    "import nltk\n",
    "nltk.download('omw-1.4')"
   ],
   "metadata": {
    "collapsed": false,
    "ExecuteTime": {
     "start_time": "2023-07-05T18:33:20.997351Z",
     "end_time": "2023-07-05T18:33:23.877081Z"
    }
   }
  },
  {
   "cell_type": "code",
   "execution_count": 2,
   "metadata": {
    "collapsed": true,
    "ExecuteTime": {
     "start_time": "2023-07-05T18:33:23.875117Z",
     "end_time": "2023-07-05T18:33:24.809688Z"
    }
   },
   "outputs": [],
   "source": [
    "import pandas as pd\n",
    "import re\n",
    "from nltk import word_tokenize\n",
    "from nltk.corpus import stopwords\n",
    "from nltk.stem import WordNetLemmatizer"
   ]
  },
  {
   "cell_type": "code",
   "execution_count": 3,
   "outputs": [],
   "source": [
    "item7 = pd.read_csv('form-10k-item7.csv')"
   ],
   "metadata": {
    "collapsed": false,
    "ExecuteTime": {
     "start_time": "2023-07-05T18:33:24.811471Z",
     "end_time": "2023-07-05T18:34:18.855695Z"
    }
   }
  },
  {
   "cell_type": "code",
   "execution_count": 4,
   "outputs": [
    {
     "data": {
      "text/plain": "       file_id      CIK               ACC_NUM  \\\n0            0     1750  0000912057-02-033450   \n1            1     1750  0001047469-03-028005   \n2            2     1750  0001047469-04-023905   \n3            3     1750  0001104659-05-033688   \n4            4     1750  0001104659-06-047248   \n...        ...      ...                   ...   \n72807    72807  1596993  0001596993-16-000015   \n72808    72808  1596993  0001596993-17-000010   \n72809    72809  1596993  0001596993-18-000015   \n72810    72810  1720635  0001720635-19-000008   \n72811    72811  1739445  0001739445-19-000020   \n\n                                                  item_7  \n0       ITEM 7. MANAGEMENT'S DISCUSSION AND ANALYSIS ...  \n1       ITEM 7. &#160; MANAGEMENT&#146;S DISCUSSION A...  \n2       ITEM 7. MANAGEMENT'S DISCUSSION AND ANALYSIS ...  \n3       ITEM 7. &#160; MANAGEMENT&#146;S DISCUSSION A...  \n4       ITEM 7. MANAGEMENT&#146;S DISCUSSION AND ANAL...  \n...                                                  ...  \n72807   ITEM 7. &#8195; MANAGEMENT&#8217;S DISCUSSION...  \n72808   ITEM 7. &#8195;MANAGEMENT&#8217;S DISCUSSION ...  \n72809   ITEM 7. &#8195;MANAGEMENT&#8217;S DISCUSSION ...  \n72810   ITEM 7. MANAGEMENT'S DISCUSSION AND ANALYSIS ...  \n72811   Item 7. &#32; Management&#8217;s Discussion a...  \n\n[72812 rows x 4 columns]",
      "text/html": "<div>\n<style scoped>\n    .dataframe tbody tr th:only-of-type {\n        vertical-align: middle;\n    }\n\n    .dataframe tbody tr th {\n        vertical-align: top;\n    }\n\n    .dataframe thead th {\n        text-align: right;\n    }\n</style>\n<table border=\"1\" class=\"dataframe\">\n  <thead>\n    <tr style=\"text-align: right;\">\n      <th></th>\n      <th>file_id</th>\n      <th>CIK</th>\n      <th>ACC_NUM</th>\n      <th>item_7</th>\n    </tr>\n  </thead>\n  <tbody>\n    <tr>\n      <th>0</th>\n      <td>0</td>\n      <td>1750</td>\n      <td>0000912057-02-033450</td>\n      <td>ITEM 7. MANAGEMENT'S DISCUSSION AND ANALYSIS ...</td>\n    </tr>\n    <tr>\n      <th>1</th>\n      <td>1</td>\n      <td>1750</td>\n      <td>0001047469-03-028005</td>\n      <td>ITEM 7. &amp;#160; MANAGEMENT&amp;#146;S DISCUSSION A...</td>\n    </tr>\n    <tr>\n      <th>2</th>\n      <td>2</td>\n      <td>1750</td>\n      <td>0001047469-04-023905</td>\n      <td>ITEM 7. MANAGEMENT'S DISCUSSION AND ANALYSIS ...</td>\n    </tr>\n    <tr>\n      <th>3</th>\n      <td>3</td>\n      <td>1750</td>\n      <td>0001104659-05-033688</td>\n      <td>ITEM 7. &amp;#160; MANAGEMENT&amp;#146;S DISCUSSION A...</td>\n    </tr>\n    <tr>\n      <th>4</th>\n      <td>4</td>\n      <td>1750</td>\n      <td>0001104659-06-047248</td>\n      <td>ITEM 7. MANAGEMENT&amp;#146;S DISCUSSION AND ANAL...</td>\n    </tr>\n    <tr>\n      <th>...</th>\n      <td>...</td>\n      <td>...</td>\n      <td>...</td>\n      <td>...</td>\n    </tr>\n    <tr>\n      <th>72807</th>\n      <td>72807</td>\n      <td>1596993</td>\n      <td>0001596993-16-000015</td>\n      <td>ITEM 7. &amp;#8195; MANAGEMENT&amp;#8217;S DISCUSSION...</td>\n    </tr>\n    <tr>\n      <th>72808</th>\n      <td>72808</td>\n      <td>1596993</td>\n      <td>0001596993-17-000010</td>\n      <td>ITEM 7. &amp;#8195;MANAGEMENT&amp;#8217;S DISCUSSION ...</td>\n    </tr>\n    <tr>\n      <th>72809</th>\n      <td>72809</td>\n      <td>1596993</td>\n      <td>0001596993-18-000015</td>\n      <td>ITEM 7. &amp;#8195;MANAGEMENT&amp;#8217;S DISCUSSION ...</td>\n    </tr>\n    <tr>\n      <th>72810</th>\n      <td>72810</td>\n      <td>1720635</td>\n      <td>0001720635-19-000008</td>\n      <td>ITEM 7. MANAGEMENT'S DISCUSSION AND ANALYSIS ...</td>\n    </tr>\n    <tr>\n      <th>72811</th>\n      <td>72811</td>\n      <td>1739445</td>\n      <td>0001739445-19-000020</td>\n      <td>Item 7. &amp;#32; Management&amp;#8217;s Discussion a...</td>\n    </tr>\n  </tbody>\n</table>\n<p>72812 rows × 4 columns</p>\n</div>"
     },
     "execution_count": 4,
     "metadata": {},
     "output_type": "execute_result"
    }
   ],
   "source": [
    "item7_copied = item7.copy()\n",
    "item7_copied"
   ],
   "metadata": {
    "collapsed": false,
    "ExecuteTime": {
     "start_time": "2023-07-05T18:34:18.855255Z",
     "end_time": "2023-07-05T18:34:18.874044Z"
    }
   }
  },
  {
   "cell_type": "code",
   "execution_count": 5,
   "outputs": [
    {
     "data": {
      "text/plain": "file_id     int64\nCIK         int64\nACC_NUM    object\nitem_7     object\ndtype: object"
     },
     "execution_count": 5,
     "metadata": {},
     "output_type": "execute_result"
    }
   ],
   "source": [
    "item7_copied.dtypes"
   ],
   "metadata": {
    "collapsed": false,
    "ExecuteTime": {
     "start_time": "2023-07-05T18:34:18.872001Z",
     "end_time": "2023-07-05T18:34:18.874938Z"
    }
   }
  },
  {
   "cell_type": "code",
   "execution_count": 6,
   "outputs": [],
   "source": [
    "item7_copied['preprocessed_item_7'] = None"
   ],
   "metadata": {
    "collapsed": false,
    "ExecuteTime": {
     "start_time": "2023-07-05T18:34:18.874841Z",
     "end_time": "2023-07-05T18:34:18.911484Z"
    }
   }
  },
  {
   "cell_type": "code",
   "execution_count": 7,
   "outputs": [],
   "source": [
    "stopwords_english = stopwords.words('english')\n",
    "\n",
    "def preprocess_item7(text):\n",
    "    words = []\n",
    "    wnl = WordNetLemmatizer()\n",
    "    lemmatised_words = []\n",
    "\n",
    "    # remove punctuation and digits by regular expression\n",
    "    text_without_punctuation = re.sub(r'[^\\w\\s]', '', text)\n",
    "    text_without_punctuation_digits = re.sub(r'\\d', '', text_without_punctuation)\n",
    "    # tokenisation\n",
    "    tokens = word_tokenize(text_without_punctuation_digits)\n",
    "    # drop title\n",
    "    tokens = tokens[15:]\n",
    "    # remove stop words\n",
    "    # lowercasing\n",
    "    for token in tokens:\n",
    "        token = token.lower()\n",
    "        if token not in stopwords_english:\n",
    "            words.append(token)\n",
    "    # lemmatisation\n",
    "    for word in words:\n",
    "        lemmatised_words.append(wnl.lemmatize(word, pos='v'))\n",
    "\n",
    "    return lemmatised_words"
   ],
   "metadata": {
    "collapsed": false,
    "ExecuteTime": {
     "start_time": "2023-07-05T18:34:18.881594Z",
     "end_time": "2023-07-05T18:34:18.912731Z"
    }
   }
  },
  {
   "cell_type": "code",
   "execution_count": 8,
   "outputs": [],
   "source": [
    "# split into two parts\n",
    "item7_copied_part1 = item7_copied.head(35000)\n",
    "item7_copied_part2 = item7_copied.tail(37812)"
   ],
   "metadata": {
    "collapsed": false,
    "ExecuteTime": {
     "start_time": "2023-07-05T18:34:18.885273Z",
     "end_time": "2023-07-05T18:34:18.913373Z"
    }
   }
  },
  {
   "cell_type": "code",
   "execution_count": 9,
   "outputs": [
    {
     "data": {
      "text/plain": "       file_id     CIK               ACC_NUM  \\\n0            0    1750  0000912057-02-033450   \n1            1    1750  0001047469-03-028005   \n2            2    1750  0001047469-04-023905   \n3            3    1750  0001104659-05-033688   \n4            4    1750  0001104659-06-047248   \n...        ...     ...                   ...   \n34995    34995  846913  0000846913-16-000116   \n34996    34996  846913  0000846913-17-000025   \n34997    34997  846913  0000846913-18-000031   \n34998    34998  846913  0000846913-19-000020   \n34999    34999  909276  0000898430-03-002247   \n\n                                                  item_7 preprocessed_item_7  \n0       ITEM 7. MANAGEMENT'S DISCUSSION AND ANALYSIS ...                None  \n1       ITEM 7. &#160; MANAGEMENT&#146;S DISCUSSION A...                None  \n2       ITEM 7. MANAGEMENT'S DISCUSSION AND ANALYSIS ...                None  \n3       ITEM 7. &#160; MANAGEMENT&#146;S DISCUSSION A...                None  \n4       ITEM 7. MANAGEMENT&#146;S DISCUSSION AND ANAL...                None  \n...                                                  ...                 ...  \n34995   ITEM 7 - MANAGEMENT&#8217;S DISCUSSION AND AN...                None  \n34996   ITEM 7 - MANAGEMENT&#8217;S DISCUSSION AND AN...                None  \n34997   ITEM 7 - MANAGEMENT&#8217;S DISCUSSION AND AN...                None  \n34998   ITEM 7 - MANAGEMENT&#8217;S DISCUSSION AND AN...                None  \n34999   Item 7. \\n\\n&#160; Management&#146;s Discussi...                None  \n\n[35000 rows x 5 columns]",
      "text/html": "<div>\n<style scoped>\n    .dataframe tbody tr th:only-of-type {\n        vertical-align: middle;\n    }\n\n    .dataframe tbody tr th {\n        vertical-align: top;\n    }\n\n    .dataframe thead th {\n        text-align: right;\n    }\n</style>\n<table border=\"1\" class=\"dataframe\">\n  <thead>\n    <tr style=\"text-align: right;\">\n      <th></th>\n      <th>file_id</th>\n      <th>CIK</th>\n      <th>ACC_NUM</th>\n      <th>item_7</th>\n      <th>preprocessed_item_7</th>\n    </tr>\n  </thead>\n  <tbody>\n    <tr>\n      <th>0</th>\n      <td>0</td>\n      <td>1750</td>\n      <td>0000912057-02-033450</td>\n      <td>ITEM 7. MANAGEMENT'S DISCUSSION AND ANALYSIS ...</td>\n      <td>None</td>\n    </tr>\n    <tr>\n      <th>1</th>\n      <td>1</td>\n      <td>1750</td>\n      <td>0001047469-03-028005</td>\n      <td>ITEM 7. &amp;#160; MANAGEMENT&amp;#146;S DISCUSSION A...</td>\n      <td>None</td>\n    </tr>\n    <tr>\n      <th>2</th>\n      <td>2</td>\n      <td>1750</td>\n      <td>0001047469-04-023905</td>\n      <td>ITEM 7. MANAGEMENT'S DISCUSSION AND ANALYSIS ...</td>\n      <td>None</td>\n    </tr>\n    <tr>\n      <th>3</th>\n      <td>3</td>\n      <td>1750</td>\n      <td>0001104659-05-033688</td>\n      <td>ITEM 7. &amp;#160; MANAGEMENT&amp;#146;S DISCUSSION A...</td>\n      <td>None</td>\n    </tr>\n    <tr>\n      <th>4</th>\n      <td>4</td>\n      <td>1750</td>\n      <td>0001104659-06-047248</td>\n      <td>ITEM 7. MANAGEMENT&amp;#146;S DISCUSSION AND ANAL...</td>\n      <td>None</td>\n    </tr>\n    <tr>\n      <th>...</th>\n      <td>...</td>\n      <td>...</td>\n      <td>...</td>\n      <td>...</td>\n      <td>...</td>\n    </tr>\n    <tr>\n      <th>34995</th>\n      <td>34995</td>\n      <td>846913</td>\n      <td>0000846913-16-000116</td>\n      <td>ITEM 7 - MANAGEMENT&amp;#8217;S DISCUSSION AND AN...</td>\n      <td>None</td>\n    </tr>\n    <tr>\n      <th>34996</th>\n      <td>34996</td>\n      <td>846913</td>\n      <td>0000846913-17-000025</td>\n      <td>ITEM 7 - MANAGEMENT&amp;#8217;S DISCUSSION AND AN...</td>\n      <td>None</td>\n    </tr>\n    <tr>\n      <th>34997</th>\n      <td>34997</td>\n      <td>846913</td>\n      <td>0000846913-18-000031</td>\n      <td>ITEM 7 - MANAGEMENT&amp;#8217;S DISCUSSION AND AN...</td>\n      <td>None</td>\n    </tr>\n    <tr>\n      <th>34998</th>\n      <td>34998</td>\n      <td>846913</td>\n      <td>0000846913-19-000020</td>\n      <td>ITEM 7 - MANAGEMENT&amp;#8217;S DISCUSSION AND AN...</td>\n      <td>None</td>\n    </tr>\n    <tr>\n      <th>34999</th>\n      <td>34999</td>\n      <td>909276</td>\n      <td>0000898430-03-002247</td>\n      <td>Item 7. \\n\\n&amp;#160; Management&amp;#146;s Discussi...</td>\n      <td>None</td>\n    </tr>\n  </tbody>\n</table>\n<p>35000 rows × 5 columns</p>\n</div>"
     },
     "execution_count": 9,
     "metadata": {},
     "output_type": "execute_result"
    }
   ],
   "source": [
    "item7_copied_part1"
   ],
   "metadata": {
    "collapsed": false,
    "ExecuteTime": {
     "start_time": "2023-07-05T18:34:18.892641Z",
     "end_time": "2023-07-05T18:34:18.914640Z"
    }
   }
  },
  {
   "cell_type": "code",
   "execution_count": 10,
   "outputs": [
    {
     "data": {
      "text/plain": "       file_id      CIK               ACC_NUM  \\\n35000    35000   909276  0001193125-04-042578   \n35001    35001   909276  0001193125-05-051273   \n35002    35002   814463  0000814463-03-000002   \n35003    35003   814463  0000814463-04-000007   \n35004    35004    86759  0000086759-09-000026   \n...        ...      ...                   ...   \n72807    72807  1596993  0001596993-16-000015   \n72808    72808  1596993  0001596993-17-000010   \n72809    72809  1596993  0001596993-18-000015   \n72810    72810  1720635  0001720635-19-000008   \n72811    72811  1739445  0001739445-19-000020   \n\n                                                  item_7 preprocessed_item_7  \n35000   Item 7. Management&#146;s Discussion and Anal...                None  \n35001   Item 7. Management&#146;s Discussion and Anal...                None  \n35002                                                NaN                None  \n35003   Item 7. \\n\\nManagement&#146;s Discussion and ...                None  \n35004  Item 7. Management's Discussion and Analysis o...                None  \n...                                                  ...                 ...  \n72807   ITEM 7. &#8195; MANAGEMENT&#8217;S DISCUSSION...                None  \n72808   ITEM 7. &#8195;MANAGEMENT&#8217;S DISCUSSION ...                None  \n72809   ITEM 7. &#8195;MANAGEMENT&#8217;S DISCUSSION ...                None  \n72810   ITEM 7. MANAGEMENT'S DISCUSSION AND ANALYSIS ...                None  \n72811   Item 7. &#32; Management&#8217;s Discussion a...                None  \n\n[37812 rows x 5 columns]",
      "text/html": "<div>\n<style scoped>\n    .dataframe tbody tr th:only-of-type {\n        vertical-align: middle;\n    }\n\n    .dataframe tbody tr th {\n        vertical-align: top;\n    }\n\n    .dataframe thead th {\n        text-align: right;\n    }\n</style>\n<table border=\"1\" class=\"dataframe\">\n  <thead>\n    <tr style=\"text-align: right;\">\n      <th></th>\n      <th>file_id</th>\n      <th>CIK</th>\n      <th>ACC_NUM</th>\n      <th>item_7</th>\n      <th>preprocessed_item_7</th>\n    </tr>\n  </thead>\n  <tbody>\n    <tr>\n      <th>35000</th>\n      <td>35000</td>\n      <td>909276</td>\n      <td>0001193125-04-042578</td>\n      <td>Item 7. Management&amp;#146;s Discussion and Anal...</td>\n      <td>None</td>\n    </tr>\n    <tr>\n      <th>35001</th>\n      <td>35001</td>\n      <td>909276</td>\n      <td>0001193125-05-051273</td>\n      <td>Item 7. Management&amp;#146;s Discussion and Anal...</td>\n      <td>None</td>\n    </tr>\n    <tr>\n      <th>35002</th>\n      <td>35002</td>\n      <td>814463</td>\n      <td>0000814463-03-000002</td>\n      <td>NaN</td>\n      <td>None</td>\n    </tr>\n    <tr>\n      <th>35003</th>\n      <td>35003</td>\n      <td>814463</td>\n      <td>0000814463-04-000007</td>\n      <td>Item 7. \\n\\nManagement&amp;#146;s Discussion and ...</td>\n      <td>None</td>\n    </tr>\n    <tr>\n      <th>35004</th>\n      <td>35004</td>\n      <td>86759</td>\n      <td>0000086759-09-000026</td>\n      <td>Item 7. Management's Discussion and Analysis o...</td>\n      <td>None</td>\n    </tr>\n    <tr>\n      <th>...</th>\n      <td>...</td>\n      <td>...</td>\n      <td>...</td>\n      <td>...</td>\n      <td>...</td>\n    </tr>\n    <tr>\n      <th>72807</th>\n      <td>72807</td>\n      <td>1596993</td>\n      <td>0001596993-16-000015</td>\n      <td>ITEM 7. &amp;#8195; MANAGEMENT&amp;#8217;S DISCUSSION...</td>\n      <td>None</td>\n    </tr>\n    <tr>\n      <th>72808</th>\n      <td>72808</td>\n      <td>1596993</td>\n      <td>0001596993-17-000010</td>\n      <td>ITEM 7. &amp;#8195;MANAGEMENT&amp;#8217;S DISCUSSION ...</td>\n      <td>None</td>\n    </tr>\n    <tr>\n      <th>72809</th>\n      <td>72809</td>\n      <td>1596993</td>\n      <td>0001596993-18-000015</td>\n      <td>ITEM 7. &amp;#8195;MANAGEMENT&amp;#8217;S DISCUSSION ...</td>\n      <td>None</td>\n    </tr>\n    <tr>\n      <th>72810</th>\n      <td>72810</td>\n      <td>1720635</td>\n      <td>0001720635-19-000008</td>\n      <td>ITEM 7. MANAGEMENT'S DISCUSSION AND ANALYSIS ...</td>\n      <td>None</td>\n    </tr>\n    <tr>\n      <th>72811</th>\n      <td>72811</td>\n      <td>1739445</td>\n      <td>0001739445-19-000020</td>\n      <td>Item 7. &amp;#32; Management&amp;#8217;s Discussion a...</td>\n      <td>None</td>\n    </tr>\n  </tbody>\n</table>\n<p>37812 rows × 5 columns</p>\n</div>"
     },
     "execution_count": 10,
     "metadata": {},
     "output_type": "execute_result"
    }
   ],
   "source": [
    "item7_copied_part2"
   ],
   "metadata": {
    "collapsed": false,
    "ExecuteTime": {
     "start_time": "2023-07-05T18:34:18.901396Z",
     "end_time": "2023-07-05T18:34:18.915563Z"
    }
   }
  },
  {
   "cell_type": "code",
   "execution_count": 11,
   "outputs": [],
   "source": [
    "for index, row in item7_copied_part1.iterrows():\n",
    "    item7_string = str(row['item_7'])\n",
    "    item7_copied_part1.at[index, 'preprocessed_item_7'] = preprocess_item7(item7_string)"
   ],
   "metadata": {
    "collapsed": false,
    "ExecuteTime": {
     "start_time": "2023-07-05T18:34:18.903658Z",
     "end_time": "2023-07-05T20:18:17.019623Z"
    }
   }
  },
  {
   "cell_type": "code",
   "execution_count": 12,
   "outputs": [
    {
     "data": {
      "text/plain": "       file_id     CIK               ACC_NUM  \\\n0            0    1750  0000912057-02-033450   \n1            1    1750  0001047469-03-028005   \n2            2    1750  0001047469-04-023905   \n3            3    1750  0001104659-05-033688   \n4            4    1750  0001104659-06-047248   \n...        ...     ...                   ...   \n34995    34995  846913  0000846913-16-000116   \n34996    34996  846913  0000846913-17-000025   \n34997    34997  846913  0000846913-18-000031   \n34998    34998  846913  0000846913-19-000020   \n34999    34999  909276  0000898430-03-002247   \n\n                                                  item_7  \\\n0       ITEM 7. MANAGEMENT'S DISCUSSION AND ANALYSIS ...   \n1       ITEM 7. &#160; MANAGEMENT&#146;S DISCUSSION A...   \n2       ITEM 7. MANAGEMENT'S DISCUSSION AND ANALYSIS ...   \n3       ITEM 7. &#160; MANAGEMENT&#146;S DISCUSSION A...   \n4       ITEM 7. MANAGEMENT&#146;S DISCUSSION AND ANAL...   \n...                                                  ...   \n34995   ITEM 7 - MANAGEMENT&#8217;S DISCUSSION AND AN...   \n34996   ITEM 7 - MANAGEMENT&#8217;S DISCUSSION AND AN...   \n34997   ITEM 7 - MANAGEMENT&#8217;S DISCUSSION AND AN...   \n34998   ITEM 7 - MANAGEMENT&#8217;S DISCUSSION AND AN...   \n34999   Item 7. \\n\\n&#160; Management&#146;s Discussi...   \n\n                                     preprocessed_item_7  \n0                                                     []  \n1      [factor, may, affect, future, result, company,...  \n2                                                     []  \n3      [general, overview, report, activities, four, ...  \n4      [forwardlooking, statements, managements, disc...  \n...                                                  ...  \n34995  [dollars, background, three, broad, technology...  \n34996  [dollars, background, three, broad, technology...  \n34997  [dollars, background, two, broad, technology, ...  \n34998  [dollars, background, two, broad, technology, ...  \n34999  [march, actionpoint, inc, enter, merger, agree...  \n\n[35000 rows x 5 columns]",
      "text/html": "<div>\n<style scoped>\n    .dataframe tbody tr th:only-of-type {\n        vertical-align: middle;\n    }\n\n    .dataframe tbody tr th {\n        vertical-align: top;\n    }\n\n    .dataframe thead th {\n        text-align: right;\n    }\n</style>\n<table border=\"1\" class=\"dataframe\">\n  <thead>\n    <tr style=\"text-align: right;\">\n      <th></th>\n      <th>file_id</th>\n      <th>CIK</th>\n      <th>ACC_NUM</th>\n      <th>item_7</th>\n      <th>preprocessed_item_7</th>\n    </tr>\n  </thead>\n  <tbody>\n    <tr>\n      <th>0</th>\n      <td>0</td>\n      <td>1750</td>\n      <td>0000912057-02-033450</td>\n      <td>ITEM 7. MANAGEMENT'S DISCUSSION AND ANALYSIS ...</td>\n      <td>[]</td>\n    </tr>\n    <tr>\n      <th>1</th>\n      <td>1</td>\n      <td>1750</td>\n      <td>0001047469-03-028005</td>\n      <td>ITEM 7. &amp;#160; MANAGEMENT&amp;#146;S DISCUSSION A...</td>\n      <td>[factor, may, affect, future, result, company,...</td>\n    </tr>\n    <tr>\n      <th>2</th>\n      <td>2</td>\n      <td>1750</td>\n      <td>0001047469-04-023905</td>\n      <td>ITEM 7. MANAGEMENT'S DISCUSSION AND ANALYSIS ...</td>\n      <td>[]</td>\n    </tr>\n    <tr>\n      <th>3</th>\n      <td>3</td>\n      <td>1750</td>\n      <td>0001104659-05-033688</td>\n      <td>ITEM 7. &amp;#160; MANAGEMENT&amp;#146;S DISCUSSION A...</td>\n      <td>[general, overview, report, activities, four, ...</td>\n    </tr>\n    <tr>\n      <th>4</th>\n      <td>4</td>\n      <td>1750</td>\n      <td>0001104659-06-047248</td>\n      <td>ITEM 7. MANAGEMENT&amp;#146;S DISCUSSION AND ANAL...</td>\n      <td>[forwardlooking, statements, managements, disc...</td>\n    </tr>\n    <tr>\n      <th>...</th>\n      <td>...</td>\n      <td>...</td>\n      <td>...</td>\n      <td>...</td>\n      <td>...</td>\n    </tr>\n    <tr>\n      <th>34995</th>\n      <td>34995</td>\n      <td>846913</td>\n      <td>0000846913-16-000116</td>\n      <td>ITEM 7 - MANAGEMENT&amp;#8217;S DISCUSSION AND AN...</td>\n      <td>[dollars, background, three, broad, technology...</td>\n    </tr>\n    <tr>\n      <th>34996</th>\n      <td>34996</td>\n      <td>846913</td>\n      <td>0000846913-17-000025</td>\n      <td>ITEM 7 - MANAGEMENT&amp;#8217;S DISCUSSION AND AN...</td>\n      <td>[dollars, background, three, broad, technology...</td>\n    </tr>\n    <tr>\n      <th>34997</th>\n      <td>34997</td>\n      <td>846913</td>\n      <td>0000846913-18-000031</td>\n      <td>ITEM 7 - MANAGEMENT&amp;#8217;S DISCUSSION AND AN...</td>\n      <td>[dollars, background, two, broad, technology, ...</td>\n    </tr>\n    <tr>\n      <th>34998</th>\n      <td>34998</td>\n      <td>846913</td>\n      <td>0000846913-19-000020</td>\n      <td>ITEM 7 - MANAGEMENT&amp;#8217;S DISCUSSION AND AN...</td>\n      <td>[dollars, background, two, broad, technology, ...</td>\n    </tr>\n    <tr>\n      <th>34999</th>\n      <td>34999</td>\n      <td>909276</td>\n      <td>0000898430-03-002247</td>\n      <td>Item 7. \\n\\n&amp;#160; Management&amp;#146;s Discussi...</td>\n      <td>[march, actionpoint, inc, enter, merger, agree...</td>\n    </tr>\n  </tbody>\n</table>\n<p>35000 rows × 5 columns</p>\n</div>"
     },
     "execution_count": 12,
     "metadata": {},
     "output_type": "execute_result"
    }
   ],
   "source": [
    "item7_copied_part1"
   ],
   "metadata": {
    "collapsed": false,
    "ExecuteTime": {
     "start_time": "2023-07-05T20:18:17.020423Z",
     "end_time": "2023-07-05T20:18:17.035252Z"
    }
   }
  },
  {
   "cell_type": "code",
   "execution_count": 13,
   "outputs": [],
   "source": [
    "for index, row in item7_copied_part2.iterrows():\n",
    "    item7_string = str(row['item_7'])\n",
    "    item7_copied_part2.at[index, 'preprocessed_item_7'] = preprocess_item7(item7_string)"
   ],
   "metadata": {
    "collapsed": false,
    "ExecuteTime": {
     "start_time": "2023-07-05T20:18:17.036360Z",
     "end_time": "2023-07-05T20:49:09.774925Z"
    }
   }
  },
  {
   "cell_type": "code",
   "execution_count": 14,
   "outputs": [
    {
     "data": {
      "text/plain": "       file_id      CIK               ACC_NUM  \\\n35000    35000   909276  0001193125-04-042578   \n35001    35001   909276  0001193125-05-051273   \n35002    35002   814463  0000814463-03-000002   \n35003    35003   814463  0000814463-04-000007   \n35004    35004    86759  0000086759-09-000026   \n...        ...      ...                   ...   \n72807    72807  1596993  0001596993-16-000015   \n72808    72808  1596993  0001596993-17-000010   \n72809    72809  1596993  0001596993-18-000015   \n72810    72810  1720635  0001720635-19-000008   \n72811    72811  1739445  0001739445-19-000020   \n\n                                                  item_7  \\\n35000   Item 7. Management&#146;s Discussion and Anal...   \n35001   Item 7. Management&#146;s Discussion and Anal...   \n35002                                                NaN   \n35003   Item 7. \\n\\nManagement&#146;s Discussion and ...   \n35004  Item 7. Management's Discussion and Analysis o...   \n...                                                  ...   \n72807   ITEM 7. &#8195; MANAGEMENT&#8217;S DISCUSSION...   \n72808   ITEM 7. &#8195;MANAGEMENT&#8217;S DISCUSSION ...   \n72809   ITEM 7. &#8195;MANAGEMENT&#8217;S DISCUSSION ...   \n72810   ITEM 7. MANAGEMENT'S DISCUSSION AND ANALYSIS ...   \n72811   Item 7. &#32; Management&#8217;s Discussion a...   \n\n                                     preprocessed_item_7  \n35000  [develop, market, deploy, service, input, mana...  \n35001  [lead, provider, input, management, solutions,...  \n35002                                                 []  \n35003  [financial, statements, include, annual, repor...  \n35004  [company, principal, source, revenue, continue...  \n...                                                  ...  \n72807  [follow, discussion, financial, condition, res...  \n72808  [follow, discussion, financial, condition, res...  \n72809  [follow, discussion, financial, condition, res...  \n72810  [analysis, financial, condition, result, opera...  \n72811  [analysis, financial, condition, result, opera...  \n\n[37812 rows x 5 columns]",
      "text/html": "<div>\n<style scoped>\n    .dataframe tbody tr th:only-of-type {\n        vertical-align: middle;\n    }\n\n    .dataframe tbody tr th {\n        vertical-align: top;\n    }\n\n    .dataframe thead th {\n        text-align: right;\n    }\n</style>\n<table border=\"1\" class=\"dataframe\">\n  <thead>\n    <tr style=\"text-align: right;\">\n      <th></th>\n      <th>file_id</th>\n      <th>CIK</th>\n      <th>ACC_NUM</th>\n      <th>item_7</th>\n      <th>preprocessed_item_7</th>\n    </tr>\n  </thead>\n  <tbody>\n    <tr>\n      <th>35000</th>\n      <td>35000</td>\n      <td>909276</td>\n      <td>0001193125-04-042578</td>\n      <td>Item 7. Management&amp;#146;s Discussion and Anal...</td>\n      <td>[develop, market, deploy, service, input, mana...</td>\n    </tr>\n    <tr>\n      <th>35001</th>\n      <td>35001</td>\n      <td>909276</td>\n      <td>0001193125-05-051273</td>\n      <td>Item 7. Management&amp;#146;s Discussion and Anal...</td>\n      <td>[lead, provider, input, management, solutions,...</td>\n    </tr>\n    <tr>\n      <th>35002</th>\n      <td>35002</td>\n      <td>814463</td>\n      <td>0000814463-03-000002</td>\n      <td>NaN</td>\n      <td>[]</td>\n    </tr>\n    <tr>\n      <th>35003</th>\n      <td>35003</td>\n      <td>814463</td>\n      <td>0000814463-04-000007</td>\n      <td>Item 7. \\n\\nManagement&amp;#146;s Discussion and ...</td>\n      <td>[financial, statements, include, annual, repor...</td>\n    </tr>\n    <tr>\n      <th>35004</th>\n      <td>35004</td>\n      <td>86759</td>\n      <td>0000086759-09-000026</td>\n      <td>Item 7. Management's Discussion and Analysis o...</td>\n      <td>[company, principal, source, revenue, continue...</td>\n    </tr>\n    <tr>\n      <th>...</th>\n      <td>...</td>\n      <td>...</td>\n      <td>...</td>\n      <td>...</td>\n      <td>...</td>\n    </tr>\n    <tr>\n      <th>72807</th>\n      <td>72807</td>\n      <td>1596993</td>\n      <td>0001596993-16-000015</td>\n      <td>ITEM 7. &amp;#8195; MANAGEMENT&amp;#8217;S DISCUSSION...</td>\n      <td>[follow, discussion, financial, condition, res...</td>\n    </tr>\n    <tr>\n      <th>72808</th>\n      <td>72808</td>\n      <td>1596993</td>\n      <td>0001596993-17-000010</td>\n      <td>ITEM 7. &amp;#8195;MANAGEMENT&amp;#8217;S DISCUSSION ...</td>\n      <td>[follow, discussion, financial, condition, res...</td>\n    </tr>\n    <tr>\n      <th>72809</th>\n      <td>72809</td>\n      <td>1596993</td>\n      <td>0001596993-18-000015</td>\n      <td>ITEM 7. &amp;#8195;MANAGEMENT&amp;#8217;S DISCUSSION ...</td>\n      <td>[follow, discussion, financial, condition, res...</td>\n    </tr>\n    <tr>\n      <th>72810</th>\n      <td>72810</td>\n      <td>1720635</td>\n      <td>0001720635-19-000008</td>\n      <td>ITEM 7. MANAGEMENT'S DISCUSSION AND ANALYSIS ...</td>\n      <td>[analysis, financial, condition, result, opera...</td>\n    </tr>\n    <tr>\n      <th>72811</th>\n      <td>72811</td>\n      <td>1739445</td>\n      <td>0001739445-19-000020</td>\n      <td>Item 7. &amp;#32; Management&amp;#8217;s Discussion a...</td>\n      <td>[analysis, financial, condition, result, opera...</td>\n    </tr>\n  </tbody>\n</table>\n<p>37812 rows × 5 columns</p>\n</div>"
     },
     "execution_count": 14,
     "metadata": {},
     "output_type": "execute_result"
    }
   ],
   "source": [
    "item7_copied_part2"
   ],
   "metadata": {
    "collapsed": false,
    "ExecuteTime": {
     "start_time": "2023-07-05T20:49:09.789227Z",
     "end_time": "2023-07-05T20:49:10.083932Z"
    }
   }
  },
  {
   "cell_type": "code",
   "execution_count": 15,
   "outputs": [],
   "source": [
    "# combine part 1 and part 2\n",
    "item7_preprocessed = pd.concat([item7_copied_part1, item7_copied_part2])"
   ],
   "metadata": {
    "collapsed": false,
    "ExecuteTime": {
     "start_time": "2023-07-05T20:49:09.824732Z",
     "end_time": "2023-07-05T20:49:15.927182Z"
    }
   }
  },
  {
   "cell_type": "code",
   "execution_count": 16,
   "outputs": [],
   "source": [
    "item7_preprocessed.drop('item_7', axis=1, inplace=True)"
   ],
   "metadata": {
    "collapsed": false,
    "ExecuteTime": {
     "start_time": "2023-07-05T20:49:15.926908Z",
     "end_time": "2023-07-05T20:49:16.012530Z"
    }
   }
  },
  {
   "cell_type": "code",
   "execution_count": 17,
   "outputs": [
    {
     "data": {
      "text/plain": "       file_id      CIK               ACC_NUM  \\\n0            0     1750  0000912057-02-033450   \n1            1     1750  0001047469-03-028005   \n2            2     1750  0001047469-04-023905   \n3            3     1750  0001104659-05-033688   \n4            4     1750  0001104659-06-047248   \n...        ...      ...                   ...   \n72807    72807  1596993  0001596993-16-000015   \n72808    72808  1596993  0001596993-17-000010   \n72809    72809  1596993  0001596993-18-000015   \n72810    72810  1720635  0001720635-19-000008   \n72811    72811  1739445  0001739445-19-000020   \n\n                                     preprocessed_item_7  \n0                                                     []  \n1      [factor, may, affect, future, result, company,...  \n2                                                     []  \n3      [general, overview, report, activities, four, ...  \n4      [forwardlooking, statements, managements, disc...  \n...                                                  ...  \n72807  [follow, discussion, financial, condition, res...  \n72808  [follow, discussion, financial, condition, res...  \n72809  [follow, discussion, financial, condition, res...  \n72810  [analysis, financial, condition, result, opera...  \n72811  [analysis, financial, condition, result, opera...  \n\n[72812 rows x 4 columns]",
      "text/html": "<div>\n<style scoped>\n    .dataframe tbody tr th:only-of-type {\n        vertical-align: middle;\n    }\n\n    .dataframe tbody tr th {\n        vertical-align: top;\n    }\n\n    .dataframe thead th {\n        text-align: right;\n    }\n</style>\n<table border=\"1\" class=\"dataframe\">\n  <thead>\n    <tr style=\"text-align: right;\">\n      <th></th>\n      <th>file_id</th>\n      <th>CIK</th>\n      <th>ACC_NUM</th>\n      <th>preprocessed_item_7</th>\n    </tr>\n  </thead>\n  <tbody>\n    <tr>\n      <th>0</th>\n      <td>0</td>\n      <td>1750</td>\n      <td>0000912057-02-033450</td>\n      <td>[]</td>\n    </tr>\n    <tr>\n      <th>1</th>\n      <td>1</td>\n      <td>1750</td>\n      <td>0001047469-03-028005</td>\n      <td>[factor, may, affect, future, result, company,...</td>\n    </tr>\n    <tr>\n      <th>2</th>\n      <td>2</td>\n      <td>1750</td>\n      <td>0001047469-04-023905</td>\n      <td>[]</td>\n    </tr>\n    <tr>\n      <th>3</th>\n      <td>3</td>\n      <td>1750</td>\n      <td>0001104659-05-033688</td>\n      <td>[general, overview, report, activities, four, ...</td>\n    </tr>\n    <tr>\n      <th>4</th>\n      <td>4</td>\n      <td>1750</td>\n      <td>0001104659-06-047248</td>\n      <td>[forwardlooking, statements, managements, disc...</td>\n    </tr>\n    <tr>\n      <th>...</th>\n      <td>...</td>\n      <td>...</td>\n      <td>...</td>\n      <td>...</td>\n    </tr>\n    <tr>\n      <th>72807</th>\n      <td>72807</td>\n      <td>1596993</td>\n      <td>0001596993-16-000015</td>\n      <td>[follow, discussion, financial, condition, res...</td>\n    </tr>\n    <tr>\n      <th>72808</th>\n      <td>72808</td>\n      <td>1596993</td>\n      <td>0001596993-17-000010</td>\n      <td>[follow, discussion, financial, condition, res...</td>\n    </tr>\n    <tr>\n      <th>72809</th>\n      <td>72809</td>\n      <td>1596993</td>\n      <td>0001596993-18-000015</td>\n      <td>[follow, discussion, financial, condition, res...</td>\n    </tr>\n    <tr>\n      <th>72810</th>\n      <td>72810</td>\n      <td>1720635</td>\n      <td>0001720635-19-000008</td>\n      <td>[analysis, financial, condition, result, opera...</td>\n    </tr>\n    <tr>\n      <th>72811</th>\n      <td>72811</td>\n      <td>1739445</td>\n      <td>0001739445-19-000020</td>\n      <td>[analysis, financial, condition, result, opera...</td>\n    </tr>\n  </tbody>\n</table>\n<p>72812 rows × 4 columns</p>\n</div>"
     },
     "execution_count": 17,
     "metadata": {},
     "output_type": "execute_result"
    }
   ],
   "source": [
    "item7_preprocessed"
   ],
   "metadata": {
    "collapsed": false,
    "ExecuteTime": {
     "start_time": "2023-07-05T20:49:15.984409Z",
     "end_time": "2023-07-05T20:49:16.013262Z"
    }
   }
  },
  {
   "cell_type": "code",
   "execution_count": 18,
   "outputs": [
    {
     "data": {
      "text/plain": "5990"
     },
     "execution_count": 18,
     "metadata": {},
     "output_type": "execute_result"
    }
   ],
   "source": [
    "# count item 7 less than 200 words\n",
    "item7_preprocessed['preprocessed_item_7'].apply(lambda x: len(x) < 200).sum()"
   ],
   "metadata": {
    "collapsed": false,
    "ExecuteTime": {
     "start_time": "2023-07-05T20:49:16.004861Z",
     "end_time": "2023-07-05T20:49:16.035627Z"
    }
   }
  },
  {
   "cell_type": "code",
   "execution_count": 19,
   "outputs": [],
   "source": [
    "# drop item 7 that length is less than 200\n",
    "item7_preprocessed_without_short = item7_preprocessed[item7_preprocessed['preprocessed_item_7'].apply(lambda x: len(x) >= 200)].reset_index(drop=True)"
   ],
   "metadata": {
    "collapsed": false,
    "ExecuteTime": {
     "start_time": "2023-07-05T20:49:16.034989Z",
     "end_time": "2023-07-05T20:49:16.119322Z"
    }
   }
  },
  {
   "cell_type": "code",
   "execution_count": 20,
   "outputs": [
    {
     "data": {
      "text/plain": "       file_id      CIK               ACC_NUM  \\\n0            1     1750  0001047469-03-028005   \n1            3     1750  0001104659-05-033688   \n2            4     1750  0001104659-06-047248   \n3            5     1750  0001104659-07-055173   \n4            7     1750  0001047469-09-006783   \n...        ...      ...                   ...   \n66817    72807  1596993  0001596993-16-000015   \n66818    72808  1596993  0001596993-17-000010   \n66819    72809  1596993  0001596993-18-000015   \n66820    72810  1720635  0001720635-19-000008   \n66821    72811  1739445  0001739445-19-000020   \n\n                                     preprocessed_item_7  \n0      [factor, may, affect, future, result, company,...  \n1      [general, overview, report, activities, four, ...  \n2      [forwardlooking, statements, managements, disc...  \n3      [forwardlooking, statements, managements, disc...  \n4      [forwardlooking, statements, managements, disc...  \n...                                                  ...  \n66817  [follow, discussion, financial, condition, res...  \n66818  [follow, discussion, financial, condition, res...  \n66819  [follow, discussion, financial, condition, res...  \n66820  [analysis, financial, condition, result, opera...  \n66821  [analysis, financial, condition, result, opera...  \n\n[66822 rows x 4 columns]",
      "text/html": "<div>\n<style scoped>\n    .dataframe tbody tr th:only-of-type {\n        vertical-align: middle;\n    }\n\n    .dataframe tbody tr th {\n        vertical-align: top;\n    }\n\n    .dataframe thead th {\n        text-align: right;\n    }\n</style>\n<table border=\"1\" class=\"dataframe\">\n  <thead>\n    <tr style=\"text-align: right;\">\n      <th></th>\n      <th>file_id</th>\n      <th>CIK</th>\n      <th>ACC_NUM</th>\n      <th>preprocessed_item_7</th>\n    </tr>\n  </thead>\n  <tbody>\n    <tr>\n      <th>0</th>\n      <td>1</td>\n      <td>1750</td>\n      <td>0001047469-03-028005</td>\n      <td>[factor, may, affect, future, result, company,...</td>\n    </tr>\n    <tr>\n      <th>1</th>\n      <td>3</td>\n      <td>1750</td>\n      <td>0001104659-05-033688</td>\n      <td>[general, overview, report, activities, four, ...</td>\n    </tr>\n    <tr>\n      <th>2</th>\n      <td>4</td>\n      <td>1750</td>\n      <td>0001104659-06-047248</td>\n      <td>[forwardlooking, statements, managements, disc...</td>\n    </tr>\n    <tr>\n      <th>3</th>\n      <td>5</td>\n      <td>1750</td>\n      <td>0001104659-07-055173</td>\n      <td>[forwardlooking, statements, managements, disc...</td>\n    </tr>\n    <tr>\n      <th>4</th>\n      <td>7</td>\n      <td>1750</td>\n      <td>0001047469-09-006783</td>\n      <td>[forwardlooking, statements, managements, disc...</td>\n    </tr>\n    <tr>\n      <th>...</th>\n      <td>...</td>\n      <td>...</td>\n      <td>...</td>\n      <td>...</td>\n    </tr>\n    <tr>\n      <th>66817</th>\n      <td>72807</td>\n      <td>1596993</td>\n      <td>0001596993-16-000015</td>\n      <td>[follow, discussion, financial, condition, res...</td>\n    </tr>\n    <tr>\n      <th>66818</th>\n      <td>72808</td>\n      <td>1596993</td>\n      <td>0001596993-17-000010</td>\n      <td>[follow, discussion, financial, condition, res...</td>\n    </tr>\n    <tr>\n      <th>66819</th>\n      <td>72809</td>\n      <td>1596993</td>\n      <td>0001596993-18-000015</td>\n      <td>[follow, discussion, financial, condition, res...</td>\n    </tr>\n    <tr>\n      <th>66820</th>\n      <td>72810</td>\n      <td>1720635</td>\n      <td>0001720635-19-000008</td>\n      <td>[analysis, financial, condition, result, opera...</td>\n    </tr>\n    <tr>\n      <th>66821</th>\n      <td>72811</td>\n      <td>1739445</td>\n      <td>0001739445-19-000020</td>\n      <td>[analysis, financial, condition, result, opera...</td>\n    </tr>\n  </tbody>\n</table>\n<p>66822 rows × 4 columns</p>\n</div>"
     },
     "execution_count": 20,
     "metadata": {},
     "output_type": "execute_result"
    }
   ],
   "source": [
    "item7_preprocessed_without_short"
   ],
   "metadata": {
    "collapsed": false,
    "ExecuteTime": {
     "start_time": "2023-07-05T20:49:16.076940Z",
     "end_time": "2023-07-05T20:49:16.137378Z"
    }
   }
  },
  {
   "cell_type": "code",
   "execution_count": 22,
   "outputs": [],
   "source": [
    "item7_preprocessed_without_short.to_pickle('preprocessed-item7.pkl')"
   ],
   "metadata": {
    "collapsed": false,
    "ExecuteTime": {
     "start_time": "2023-07-05T21:05:39.606451Z",
     "end_time": "2023-07-05T22:04:53.818095Z"
    }
   }
  },
  {
   "cell_type": "code",
   "execution_count": null,
   "outputs": [],
   "source": [],
   "metadata": {
    "collapsed": false
   }
  }
 ],
 "metadata": {
  "kernelspec": {
   "display_name": "Python 3",
   "language": "python",
   "name": "python3"
  },
  "language_info": {
   "codemirror_mode": {
    "name": "ipython",
    "version": 2
   },
   "file_extension": ".py",
   "mimetype": "text/x-python",
   "name": "python",
   "nbconvert_exporter": "python",
   "pygments_lexer": "ipython2",
   "version": "2.7.6"
  }
 },
 "nbformat": 4,
 "nbformat_minor": 0
}
