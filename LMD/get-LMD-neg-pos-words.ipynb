{
 "cells": [
  {
   "cell_type": "code",
   "execution_count": 1,
   "outputs": [],
   "source": [
    "import pandas as pd"
   ],
   "metadata": {
    "collapsed": false,
    "ExecuteTime": {
     "start_time": "2023-07-07T12:18:00.272633Z",
     "end_time": "2023-07-07T12:18:01.376901Z"
    }
   }
  },
  {
   "cell_type": "code",
   "execution_count": 2,
   "outputs": [],
   "source": [
    "lmd_master = pd.read_csv('Loughran-McDonald_MasterDictionary_1993-2021.csv')"
   ],
   "metadata": {
    "collapsed": false,
    "ExecuteTime": {
     "start_time": "2023-07-07T12:18:21.338615Z",
     "end_time": "2023-07-07T12:18:21.467884Z"
    }
   }
  },
  {
   "cell_type": "code",
   "execution_count": 3,
   "outputs": [
    {
     "data": {
      "text/plain": "            Word  Seq_num  Word Count  Word Proportion  Average Proportion  \\\n0       AARDVARK        1         354     1.550080e-08        1.422600e-08   \n1      AARDVARKS        2           3     1.313627e-10        8.653817e-12   \n2          ABACI        3           9     3.940882e-10        1.169679e-10   \n3          ABACK        4          29     1.269840e-09        6.654735e-10   \n4         ABACUS        5        8570     3.752595e-07        3.809464e-07   \n...          ...      ...         ...              ...                 ...   \n86526     ZYGOTE    86529          50     2.189379e-09        8.729336e-10   \n86527    ZYGOTES    86530           1     4.378757e-11        1.809516e-11   \n86528    ZYGOTIC    86531           0     0.000000e+00        0.000000e+00   \n86529  ZYMURGIES    86532           0     0.000000e+00        0.000000e+00   \n86530    ZYMURGY    86533           0     0.000000e+00        0.000000e+00   \n\n            Std Dev  Doc Count  Negative  Positive  Uncertainty  Litigious  \\\n0      3.815486e-06         99         0         0            0          0   \n1      9.241714e-09          1         0         0            0          0   \n2      5.290465e-08          7         0         0            0          0   \n3      1.595100e-07         28         0         0            0          0   \n4      3.529356e-05       1108         0         0            0          0   \n...             ...        ...       ...       ...          ...        ...   \n86526  1.886011e-07         35         0         0            0          0   \n86527  1.932446e-08          1         0         0            0          0   \n86528  0.000000e+00          0         0         0            0          0   \n86529  0.000000e+00          0         0         0            0          0   \n86530  0.000000e+00          0         0         0            0          0   \n\n       Strong_Modal  Weak_Modal  Constraining  Syllables     Source  \n0                 0           0             0          2  12of12inf  \n1                 0           0             0          2  12of12inf  \n2                 0           0             0          3  12of12inf  \n3                 0           0             0          2  12of12inf  \n4                 0           0             0          3  12of12inf  \n...             ...         ...           ...        ...        ...  \n86526             0           0             0          2  12of12inf  \n86527             0           0             0          2  12of12inf  \n86528             0           0             0          3  12of12inf  \n86529             0           0             0          3  12of12inf  \n86530             0           0             0          3  12of12inf  \n\n[86531 rows x 16 columns]",
      "text/html": "<div>\n<style scoped>\n    .dataframe tbody tr th:only-of-type {\n        vertical-align: middle;\n    }\n\n    .dataframe tbody tr th {\n        vertical-align: top;\n    }\n\n    .dataframe thead th {\n        text-align: right;\n    }\n</style>\n<table border=\"1\" class=\"dataframe\">\n  <thead>\n    <tr style=\"text-align: right;\">\n      <th></th>\n      <th>Word</th>\n      <th>Seq_num</th>\n      <th>Word Count</th>\n      <th>Word Proportion</th>\n      <th>Average Proportion</th>\n      <th>Std Dev</th>\n      <th>Doc Count</th>\n      <th>Negative</th>\n      <th>Positive</th>\n      <th>Uncertainty</th>\n      <th>Litigious</th>\n      <th>Strong_Modal</th>\n      <th>Weak_Modal</th>\n      <th>Constraining</th>\n      <th>Syllables</th>\n      <th>Source</th>\n    </tr>\n  </thead>\n  <tbody>\n    <tr>\n      <th>0</th>\n      <td>AARDVARK</td>\n      <td>1</td>\n      <td>354</td>\n      <td>1.550080e-08</td>\n      <td>1.422600e-08</td>\n      <td>3.815486e-06</td>\n      <td>99</td>\n      <td>0</td>\n      <td>0</td>\n      <td>0</td>\n      <td>0</td>\n      <td>0</td>\n      <td>0</td>\n      <td>0</td>\n      <td>2</td>\n      <td>12of12inf</td>\n    </tr>\n    <tr>\n      <th>1</th>\n      <td>AARDVARKS</td>\n      <td>2</td>\n      <td>3</td>\n      <td>1.313627e-10</td>\n      <td>8.653817e-12</td>\n      <td>9.241714e-09</td>\n      <td>1</td>\n      <td>0</td>\n      <td>0</td>\n      <td>0</td>\n      <td>0</td>\n      <td>0</td>\n      <td>0</td>\n      <td>0</td>\n      <td>2</td>\n      <td>12of12inf</td>\n    </tr>\n    <tr>\n      <th>2</th>\n      <td>ABACI</td>\n      <td>3</td>\n      <td>9</td>\n      <td>3.940882e-10</td>\n      <td>1.169679e-10</td>\n      <td>5.290465e-08</td>\n      <td>7</td>\n      <td>0</td>\n      <td>0</td>\n      <td>0</td>\n      <td>0</td>\n      <td>0</td>\n      <td>0</td>\n      <td>0</td>\n      <td>3</td>\n      <td>12of12inf</td>\n    </tr>\n    <tr>\n      <th>3</th>\n      <td>ABACK</td>\n      <td>4</td>\n      <td>29</td>\n      <td>1.269840e-09</td>\n      <td>6.654735e-10</td>\n      <td>1.595100e-07</td>\n      <td>28</td>\n      <td>0</td>\n      <td>0</td>\n      <td>0</td>\n      <td>0</td>\n      <td>0</td>\n      <td>0</td>\n      <td>0</td>\n      <td>2</td>\n      <td>12of12inf</td>\n    </tr>\n    <tr>\n      <th>4</th>\n      <td>ABACUS</td>\n      <td>5</td>\n      <td>8570</td>\n      <td>3.752595e-07</td>\n      <td>3.809464e-07</td>\n      <td>3.529356e-05</td>\n      <td>1108</td>\n      <td>0</td>\n      <td>0</td>\n      <td>0</td>\n      <td>0</td>\n      <td>0</td>\n      <td>0</td>\n      <td>0</td>\n      <td>3</td>\n      <td>12of12inf</td>\n    </tr>\n    <tr>\n      <th>...</th>\n      <td>...</td>\n      <td>...</td>\n      <td>...</td>\n      <td>...</td>\n      <td>...</td>\n      <td>...</td>\n      <td>...</td>\n      <td>...</td>\n      <td>...</td>\n      <td>...</td>\n      <td>...</td>\n      <td>...</td>\n      <td>...</td>\n      <td>...</td>\n      <td>...</td>\n      <td>...</td>\n    </tr>\n    <tr>\n      <th>86526</th>\n      <td>ZYGOTE</td>\n      <td>86529</td>\n      <td>50</td>\n      <td>2.189379e-09</td>\n      <td>8.729336e-10</td>\n      <td>1.886011e-07</td>\n      <td>35</td>\n      <td>0</td>\n      <td>0</td>\n      <td>0</td>\n      <td>0</td>\n      <td>0</td>\n      <td>0</td>\n      <td>0</td>\n      <td>2</td>\n      <td>12of12inf</td>\n    </tr>\n    <tr>\n      <th>86527</th>\n      <td>ZYGOTES</td>\n      <td>86530</td>\n      <td>1</td>\n      <td>4.378757e-11</td>\n      <td>1.809516e-11</td>\n      <td>1.932446e-08</td>\n      <td>1</td>\n      <td>0</td>\n      <td>0</td>\n      <td>0</td>\n      <td>0</td>\n      <td>0</td>\n      <td>0</td>\n      <td>0</td>\n      <td>2</td>\n      <td>12of12inf</td>\n    </tr>\n    <tr>\n      <th>86528</th>\n      <td>ZYGOTIC</td>\n      <td>86531</td>\n      <td>0</td>\n      <td>0.000000e+00</td>\n      <td>0.000000e+00</td>\n      <td>0.000000e+00</td>\n      <td>0</td>\n      <td>0</td>\n      <td>0</td>\n      <td>0</td>\n      <td>0</td>\n      <td>0</td>\n      <td>0</td>\n      <td>0</td>\n      <td>3</td>\n      <td>12of12inf</td>\n    </tr>\n    <tr>\n      <th>86529</th>\n      <td>ZYMURGIES</td>\n      <td>86532</td>\n      <td>0</td>\n      <td>0.000000e+00</td>\n      <td>0.000000e+00</td>\n      <td>0.000000e+00</td>\n      <td>0</td>\n      <td>0</td>\n      <td>0</td>\n      <td>0</td>\n      <td>0</td>\n      <td>0</td>\n      <td>0</td>\n      <td>0</td>\n      <td>3</td>\n      <td>12of12inf</td>\n    </tr>\n    <tr>\n      <th>86530</th>\n      <td>ZYMURGY</td>\n      <td>86533</td>\n      <td>0</td>\n      <td>0.000000e+00</td>\n      <td>0.000000e+00</td>\n      <td>0.000000e+00</td>\n      <td>0</td>\n      <td>0</td>\n      <td>0</td>\n      <td>0</td>\n      <td>0</td>\n      <td>0</td>\n      <td>0</td>\n      <td>0</td>\n      <td>3</td>\n      <td>12of12inf</td>\n    </tr>\n  </tbody>\n</table>\n<p>86531 rows × 16 columns</p>\n</div>"
     },
     "execution_count": 3,
     "metadata": {},
     "output_type": "execute_result"
    }
   ],
   "source": [
    "lmd_master"
   ],
   "metadata": {
    "collapsed": false,
    "ExecuteTime": {
     "start_time": "2023-07-07T12:18:23.716947Z",
     "end_time": "2023-07-07T12:18:23.731897Z"
    }
   }
  },
  {
   "cell_type": "code",
   "execution_count": 4,
   "outputs": [
    {
     "data": {
      "text/plain": "Word                   object\nSeq_num                 int64\nWord Count              int64\nWord Proportion       float64\nAverage Proportion    float64\nStd Dev               float64\nDoc Count               int64\nNegative                int64\nPositive                int64\nUncertainty             int64\nLitigious               int64\nStrong_Modal            int64\nWeak_Modal              int64\nConstraining            int64\nSyllables               int64\nSource                 object\ndtype: object"
     },
     "execution_count": 4,
     "metadata": {},
     "output_type": "execute_result"
    }
   ],
   "source": [
    "lmd_master.dtypes"
   ],
   "metadata": {
    "collapsed": false,
    "ExecuteTime": {
     "start_time": "2023-07-07T12:18:32.233386Z",
     "end_time": "2023-07-07T12:18:32.241758Z"
    }
   }
  },
  {
   "cell_type": "code",
   "execution_count": 15,
   "outputs": [],
   "source": [
    "neg = []\n",
    "pos = []\n",
    "\n",
    "for index, row in lmd_master.iterrows():\n",
    "    if row['Negative'] > 0:\n",
    "        neg.append(str(row['Word']).lower())\n",
    "    if row['Positive'] > 0:\n",
    "        pos.append(str(row['Word']).lower())"
   ],
   "metadata": {
    "collapsed": false,
    "ExecuteTime": {
     "start_time": "2023-07-07T12:28:26.120519Z",
     "end_time": "2023-07-07T12:28:27.892388Z"
    }
   }
  },
  {
   "cell_type": "code",
   "execution_count": 21,
   "outputs": [],
   "source": [
    "lmd_neg = pd.DataFrame({'negative': neg})"
   ],
   "metadata": {
    "collapsed": false,
    "ExecuteTime": {
     "start_time": "2023-07-07T12:32:22.914635Z",
     "end_time": "2023-07-07T12:32:22.918022Z"
    }
   }
  },
  {
   "cell_type": "code",
   "execution_count": 22,
   "outputs": [
    {
     "data": {
      "text/plain": "          negative\n0          abandon\n1        abandoned\n2       abandoning\n3      abandonment\n4     abandonments\n...            ...\n2340    wrongdoing\n2341   wrongdoings\n2342      wrongful\n2343    wrongfully\n2344       wrongly\n\n[2345 rows x 1 columns]",
      "text/html": "<div>\n<style scoped>\n    .dataframe tbody tr th:only-of-type {\n        vertical-align: middle;\n    }\n\n    .dataframe tbody tr th {\n        vertical-align: top;\n    }\n\n    .dataframe thead th {\n        text-align: right;\n    }\n</style>\n<table border=\"1\" class=\"dataframe\">\n  <thead>\n    <tr style=\"text-align: right;\">\n      <th></th>\n      <th>negative</th>\n    </tr>\n  </thead>\n  <tbody>\n    <tr>\n      <th>0</th>\n      <td>abandon</td>\n    </tr>\n    <tr>\n      <th>1</th>\n      <td>abandoned</td>\n    </tr>\n    <tr>\n      <th>2</th>\n      <td>abandoning</td>\n    </tr>\n    <tr>\n      <th>3</th>\n      <td>abandonment</td>\n    </tr>\n    <tr>\n      <th>4</th>\n      <td>abandonments</td>\n    </tr>\n    <tr>\n      <th>...</th>\n      <td>...</td>\n    </tr>\n    <tr>\n      <th>2340</th>\n      <td>wrongdoing</td>\n    </tr>\n    <tr>\n      <th>2341</th>\n      <td>wrongdoings</td>\n    </tr>\n    <tr>\n      <th>2342</th>\n      <td>wrongful</td>\n    </tr>\n    <tr>\n      <th>2343</th>\n      <td>wrongfully</td>\n    </tr>\n    <tr>\n      <th>2344</th>\n      <td>wrongly</td>\n    </tr>\n  </tbody>\n</table>\n<p>2345 rows × 1 columns</p>\n</div>"
     },
     "execution_count": 22,
     "metadata": {},
     "output_type": "execute_result"
    }
   ],
   "source": [
    "lmd_neg"
   ],
   "metadata": {
    "collapsed": false,
    "ExecuteTime": {
     "start_time": "2023-07-07T12:32:26.587468Z",
     "end_time": "2023-07-07T12:32:26.593240Z"
    }
   }
  },
  {
   "cell_type": "code",
   "execution_count": 23,
   "outputs": [],
   "source": [
    "lmd_pos = pd.DataFrame({'positive': pos})"
   ],
   "metadata": {
    "collapsed": false,
    "ExecuteTime": {
     "start_time": "2023-07-07T12:32:38.995138Z",
     "end_time": "2023-07-07T12:32:39.000287Z"
    }
   }
  },
  {
   "cell_type": "code",
   "execution_count": 24,
   "outputs": [
    {
     "data": {
      "text/plain": "       positive\n0          able\n1     abundance\n2      abundant\n3     acclaimed\n4    accomplish\n..          ...\n342         win\n343      winner\n344     winners\n345     winning\n346      worthy\n\n[347 rows x 1 columns]",
      "text/html": "<div>\n<style scoped>\n    .dataframe tbody tr th:only-of-type {\n        vertical-align: middle;\n    }\n\n    .dataframe tbody tr th {\n        vertical-align: top;\n    }\n\n    .dataframe thead th {\n        text-align: right;\n    }\n</style>\n<table border=\"1\" class=\"dataframe\">\n  <thead>\n    <tr style=\"text-align: right;\">\n      <th></th>\n      <th>positive</th>\n    </tr>\n  </thead>\n  <tbody>\n    <tr>\n      <th>0</th>\n      <td>able</td>\n    </tr>\n    <tr>\n      <th>1</th>\n      <td>abundance</td>\n    </tr>\n    <tr>\n      <th>2</th>\n      <td>abundant</td>\n    </tr>\n    <tr>\n      <th>3</th>\n      <td>acclaimed</td>\n    </tr>\n    <tr>\n      <th>4</th>\n      <td>accomplish</td>\n    </tr>\n    <tr>\n      <th>...</th>\n      <td>...</td>\n    </tr>\n    <tr>\n      <th>342</th>\n      <td>win</td>\n    </tr>\n    <tr>\n      <th>343</th>\n      <td>winner</td>\n    </tr>\n    <tr>\n      <th>344</th>\n      <td>winners</td>\n    </tr>\n    <tr>\n      <th>345</th>\n      <td>winning</td>\n    </tr>\n    <tr>\n      <th>346</th>\n      <td>worthy</td>\n    </tr>\n  </tbody>\n</table>\n<p>347 rows × 1 columns</p>\n</div>"
     },
     "execution_count": 24,
     "metadata": {},
     "output_type": "execute_result"
    }
   ],
   "source": [
    "lmd_pos"
   ],
   "metadata": {
    "collapsed": false,
    "ExecuteTime": {
     "start_time": "2023-07-07T12:32:43.002324Z",
     "end_time": "2023-07-07T12:32:43.011364Z"
    }
   }
  },
  {
   "cell_type": "code",
   "execution_count": 25,
   "outputs": [],
   "source": [
    "lmd_neg.to_csv('LMD-neg-words.csv', index=False)\n",
    "lmd_pos.to_csv('LMD-pos-words.csv', index=False)"
   ],
   "metadata": {
    "collapsed": false,
    "ExecuteTime": {
     "start_time": "2023-07-07T12:35:28.522559Z",
     "end_time": "2023-07-07T12:35:28.538133Z"
    }
   }
  },
  {
   "cell_type": "code",
   "execution_count": null,
   "outputs": [],
   "source": [],
   "metadata": {
    "collapsed": false
   }
  }
 ],
 "metadata": {
  "kernelspec": {
   "display_name": "Python 3",
   "language": "python",
   "name": "python3"
  },
  "language_info": {
   "codemirror_mode": {
    "name": "ipython",
    "version": 2
   },
   "file_extension": ".py",
   "mimetype": "text/x-python",
   "name": "python",
   "nbconvert_exporter": "python",
   "pygments_lexer": "ipython2",
   "version": "2.7.6"
  }
 },
 "nbformat": 4,
 "nbformat_minor": 0
}
