{
 "cells": [
  {
   "cell_type": "code",
   "execution_count": 1,
   "metadata": {
    "collapsed": true,
    "ExecuteTime": {
     "start_time": "2023-08-05T15:46:56.177378Z",
     "end_time": "2023-08-05T15:46:58.218676Z"
    }
   },
   "outputs": [
    {
     "name": "stdout",
     "output_type": "stream",
     "text": [
      "Intel MKL WARNING: Support of Intel(R) Streaming SIMD Extensions 4.2 (Intel(R) SSE4.2) enabled only processors has been deprecated. Intel oneAPI Math Kernel Library 2025.0 will require Intel(R) Advanced Vector Extensions (Intel(R) AVX) instructions.\n",
      "Intel MKL WARNING: Support of Intel(R) Streaming SIMD Extensions 4.2 (Intel(R) SSE4.2) enabled only processors has been deprecated. Intel oneAPI Math Kernel Library 2025.0 will require Intel(R) Advanced Vector Extensions (Intel(R) AVX) instructions.\n"
     ]
    }
   ],
   "source": [
    "import pandas as pd\n",
    "from nltk.stem import WordNetLemmatizer"
   ]
  },
  {
   "cell_type": "code",
   "execution_count": 2,
   "outputs": [
    {
     "data": {
      "text/plain": "            Word  Seq_num  Word Count  Word Proportion  Average Proportion  \\\n0       AARDVARK        1         354     1.550080e-08        1.422600e-08   \n1      AARDVARKS        2           3     1.313627e-10        8.653817e-12   \n2          ABACI        3           9     3.940882e-10        1.169679e-10   \n3          ABACK        4          29     1.269840e-09        6.654735e-10   \n4         ABACUS        5        8570     3.752595e-07        3.809464e-07   \n...          ...      ...         ...              ...                 ...   \n86526     ZYGOTE    86529          50     2.189379e-09        8.729336e-10   \n86527    ZYGOTES    86530           1     4.378757e-11        1.809516e-11   \n86528    ZYGOTIC    86531           0     0.000000e+00        0.000000e+00   \n86529  ZYMURGIES    86532           0     0.000000e+00        0.000000e+00   \n86530    ZYMURGY    86533           0     0.000000e+00        0.000000e+00   \n\n            Std Dev  Doc Count  Negative  Positive  Uncertainty  Litigious  \\\n0      3.815486e-06         99         0         0            0          0   \n1      9.241714e-09          1         0         0            0          0   \n2      5.290465e-08          7         0         0            0          0   \n3      1.595100e-07         28         0         0            0          0   \n4      3.529356e-05       1108         0         0            0          0   \n...             ...        ...       ...       ...          ...        ...   \n86526  1.886011e-07         35         0         0            0          0   \n86527  1.932446e-08          1         0         0            0          0   \n86528  0.000000e+00          0         0         0            0          0   \n86529  0.000000e+00          0         0         0            0          0   \n86530  0.000000e+00          0         0         0            0          0   \n\n       Strong_Modal  Weak_Modal  Constraining  Syllables     Source  \n0                 0           0             0          2  12of12inf  \n1                 0           0             0          2  12of12inf  \n2                 0           0             0          3  12of12inf  \n3                 0           0             0          2  12of12inf  \n4                 0           0             0          3  12of12inf  \n...             ...         ...           ...        ...        ...  \n86526             0           0             0          2  12of12inf  \n86527             0           0             0          2  12of12inf  \n86528             0           0             0          3  12of12inf  \n86529             0           0             0          3  12of12inf  \n86530             0           0             0          3  12of12inf  \n\n[86531 rows x 16 columns]",
      "text/html": "<div>\n<style scoped>\n    .dataframe tbody tr th:only-of-type {\n        vertical-align: middle;\n    }\n\n    .dataframe tbody tr th {\n        vertical-align: top;\n    }\n\n    .dataframe thead th {\n        text-align: right;\n    }\n</style>\n<table border=\"1\" class=\"dataframe\">\n  <thead>\n    <tr style=\"text-align: right;\">\n      <th></th>\n      <th>Word</th>\n      <th>Seq_num</th>\n      <th>Word Count</th>\n      <th>Word Proportion</th>\n      <th>Average Proportion</th>\n      <th>Std Dev</th>\n      <th>Doc Count</th>\n      <th>Negative</th>\n      <th>Positive</th>\n      <th>Uncertainty</th>\n      <th>Litigious</th>\n      <th>Strong_Modal</th>\n      <th>Weak_Modal</th>\n      <th>Constraining</th>\n      <th>Syllables</th>\n      <th>Source</th>\n    </tr>\n  </thead>\n  <tbody>\n    <tr>\n      <th>0</th>\n      <td>AARDVARK</td>\n      <td>1</td>\n      <td>354</td>\n      <td>1.550080e-08</td>\n      <td>1.422600e-08</td>\n      <td>3.815486e-06</td>\n      <td>99</td>\n      <td>0</td>\n      <td>0</td>\n      <td>0</td>\n      <td>0</td>\n      <td>0</td>\n      <td>0</td>\n      <td>0</td>\n      <td>2</td>\n      <td>12of12inf</td>\n    </tr>\n    <tr>\n      <th>1</th>\n      <td>AARDVARKS</td>\n      <td>2</td>\n      <td>3</td>\n      <td>1.313627e-10</td>\n      <td>8.653817e-12</td>\n      <td>9.241714e-09</td>\n      <td>1</td>\n      <td>0</td>\n      <td>0</td>\n      <td>0</td>\n      <td>0</td>\n      <td>0</td>\n      <td>0</td>\n      <td>0</td>\n      <td>2</td>\n      <td>12of12inf</td>\n    </tr>\n    <tr>\n      <th>2</th>\n      <td>ABACI</td>\n      <td>3</td>\n      <td>9</td>\n      <td>3.940882e-10</td>\n      <td>1.169679e-10</td>\n      <td>5.290465e-08</td>\n      <td>7</td>\n      <td>0</td>\n      <td>0</td>\n      <td>0</td>\n      <td>0</td>\n      <td>0</td>\n      <td>0</td>\n      <td>0</td>\n      <td>3</td>\n      <td>12of12inf</td>\n    </tr>\n    <tr>\n      <th>3</th>\n      <td>ABACK</td>\n      <td>4</td>\n      <td>29</td>\n      <td>1.269840e-09</td>\n      <td>6.654735e-10</td>\n      <td>1.595100e-07</td>\n      <td>28</td>\n      <td>0</td>\n      <td>0</td>\n      <td>0</td>\n      <td>0</td>\n      <td>0</td>\n      <td>0</td>\n      <td>0</td>\n      <td>2</td>\n      <td>12of12inf</td>\n    </tr>\n    <tr>\n      <th>4</th>\n      <td>ABACUS</td>\n      <td>5</td>\n      <td>8570</td>\n      <td>3.752595e-07</td>\n      <td>3.809464e-07</td>\n      <td>3.529356e-05</td>\n      <td>1108</td>\n      <td>0</td>\n      <td>0</td>\n      <td>0</td>\n      <td>0</td>\n      <td>0</td>\n      <td>0</td>\n      <td>0</td>\n      <td>3</td>\n      <td>12of12inf</td>\n    </tr>\n    <tr>\n      <th>...</th>\n      <td>...</td>\n      <td>...</td>\n      <td>...</td>\n      <td>...</td>\n      <td>...</td>\n      <td>...</td>\n      <td>...</td>\n      <td>...</td>\n      <td>...</td>\n      <td>...</td>\n      <td>...</td>\n      <td>...</td>\n      <td>...</td>\n      <td>...</td>\n      <td>...</td>\n      <td>...</td>\n    </tr>\n    <tr>\n      <th>86526</th>\n      <td>ZYGOTE</td>\n      <td>86529</td>\n      <td>50</td>\n      <td>2.189379e-09</td>\n      <td>8.729336e-10</td>\n      <td>1.886011e-07</td>\n      <td>35</td>\n      <td>0</td>\n      <td>0</td>\n      <td>0</td>\n      <td>0</td>\n      <td>0</td>\n      <td>0</td>\n      <td>0</td>\n      <td>2</td>\n      <td>12of12inf</td>\n    </tr>\n    <tr>\n      <th>86527</th>\n      <td>ZYGOTES</td>\n      <td>86530</td>\n      <td>1</td>\n      <td>4.378757e-11</td>\n      <td>1.809516e-11</td>\n      <td>1.932446e-08</td>\n      <td>1</td>\n      <td>0</td>\n      <td>0</td>\n      <td>0</td>\n      <td>0</td>\n      <td>0</td>\n      <td>0</td>\n      <td>0</td>\n      <td>2</td>\n      <td>12of12inf</td>\n    </tr>\n    <tr>\n      <th>86528</th>\n      <td>ZYGOTIC</td>\n      <td>86531</td>\n      <td>0</td>\n      <td>0.000000e+00</td>\n      <td>0.000000e+00</td>\n      <td>0.000000e+00</td>\n      <td>0</td>\n      <td>0</td>\n      <td>0</td>\n      <td>0</td>\n      <td>0</td>\n      <td>0</td>\n      <td>0</td>\n      <td>0</td>\n      <td>3</td>\n      <td>12of12inf</td>\n    </tr>\n    <tr>\n      <th>86529</th>\n      <td>ZYMURGIES</td>\n      <td>86532</td>\n      <td>0</td>\n      <td>0.000000e+00</td>\n      <td>0.000000e+00</td>\n      <td>0.000000e+00</td>\n      <td>0</td>\n      <td>0</td>\n      <td>0</td>\n      <td>0</td>\n      <td>0</td>\n      <td>0</td>\n      <td>0</td>\n      <td>0</td>\n      <td>3</td>\n      <td>12of12inf</td>\n    </tr>\n    <tr>\n      <th>86530</th>\n      <td>ZYMURGY</td>\n      <td>86533</td>\n      <td>0</td>\n      <td>0.000000e+00</td>\n      <td>0.000000e+00</td>\n      <td>0.000000e+00</td>\n      <td>0</td>\n      <td>0</td>\n      <td>0</td>\n      <td>0</td>\n      <td>0</td>\n      <td>0</td>\n      <td>0</td>\n      <td>0</td>\n      <td>3</td>\n      <td>12of12inf</td>\n    </tr>\n  </tbody>\n</table>\n<p>86531 rows × 16 columns</p>\n</div>"
     },
     "execution_count": 2,
     "metadata": {},
     "output_type": "execute_result"
    }
   ],
   "source": [
    "lmd_master = pd.read_csv('Loughran-McDonald_MasterDictionary_1993-2021.csv')\n",
    "lmd_master"
   ],
   "metadata": {
    "collapsed": false,
    "ExecuteTime": {
     "start_time": "2023-08-05T15:47:02.754619Z",
     "end_time": "2023-08-05T15:47:02.916895Z"
    }
   }
  },
  {
   "cell_type": "code",
   "execution_count": 4,
   "outputs": [
    {
     "data": {
      "text/plain": "Word                   object\nSeq_num                 int64\nWord Count              int64\nWord Proportion       float64\nAverage Proportion    float64\nStd Dev               float64\nDoc Count               int64\nNegative                int64\nPositive                int64\nUncertainty             int64\nLitigious               int64\nStrong_Modal            int64\nWeak_Modal              int64\nConstraining            int64\nSyllables               int64\nSource                 object\ndtype: object"
     },
     "execution_count": 4,
     "metadata": {},
     "output_type": "execute_result"
    }
   ],
   "source": [
    "lmd_master.dtypes"
   ],
   "metadata": {
    "collapsed": false,
    "ExecuteTime": {
     "start_time": "2023-08-05T15:49:52.357646Z",
     "end_time": "2023-08-05T15:49:52.363076Z"
    }
   }
  },
  {
   "cell_type": "code",
   "execution_count": 5,
   "outputs": [],
   "source": [
    "words = lmd_master[\n",
    "    (lmd_master['Negative'] > 0) |\n",
    "    (lmd_master['Positive'] > 0) |\n",
    "    (lmd_master['Uncertainty'] > 0) |\n",
    "    (lmd_master['Litigious'] > 0) |\n",
    "    (lmd_master['Strong_Modal'] > 0) |\n",
    "    (lmd_master['Weak_Modal'] > 0) |\n",
    "    (lmd_master['Constraining'] > 0)\n",
    "]['Word']"
   ],
   "metadata": {
    "collapsed": false,
    "ExecuteTime": {
     "start_time": "2023-08-05T15:51:08.512995Z",
     "end_time": "2023-08-05T15:51:08.524585Z"
    }
   }
  },
  {
   "cell_type": "code",
   "execution_count": 6,
   "outputs": [
    {
     "data": {
      "text/plain": "3859"
     },
     "execution_count": 6,
     "metadata": {},
     "output_type": "execute_result"
    }
   ],
   "source": [
    "len(words)"
   ],
   "metadata": {
    "collapsed": false,
    "ExecuteTime": {
     "start_time": "2023-08-05T15:51:09.643154Z",
     "end_time": "2023-08-05T15:51:09.647516Z"
    }
   }
  },
  {
   "cell_type": "code",
   "execution_count": 7,
   "outputs": [],
   "source": [
    "wnl = WordNetLemmatizer()\n",
    "lemmatised_words = []\n",
    "\n",
    "for word in words:\n",
    "    word = str(word).lower()\n",
    "    lemmatised_words.append(wnl.lemmatize(word, pos='v'))"
   ],
   "metadata": {
    "collapsed": false,
    "ExecuteTime": {
     "start_time": "2023-08-05T16:01:16.929662Z",
     "end_time": "2023-08-05T16:01:17.871335Z"
    }
   }
  },
  {
   "cell_type": "code",
   "execution_count": 8,
   "outputs": [],
   "source": [
    "lemmatised_words_distinct = list(set(lemmatised_words))"
   ],
   "metadata": {
    "collapsed": false,
    "ExecuteTime": {
     "start_time": "2023-08-05T16:01:21.017369Z",
     "end_time": "2023-08-05T16:01:21.024709Z"
    }
   }
  },
  {
   "cell_type": "code",
   "execution_count": 9,
   "outputs": [
    {
     "data": {
      "text/plain": "2670"
     },
     "execution_count": 9,
     "metadata": {},
     "output_type": "execute_result"
    }
   ],
   "source": [
    "len(lemmatised_words_distinct)"
   ],
   "metadata": {
    "collapsed": false,
    "ExecuteTime": {
     "start_time": "2023-08-05T16:01:21.756948Z",
     "end_time": "2023-08-05T16:01:21.765739Z"
    }
   }
  },
  {
   "cell_type": "code",
   "execution_count": 10,
   "outputs": [
    {
     "data": {
      "text/plain": "['divulge',\n 'embarrassments',\n 'deterioration',\n 'condemn',\n 'suspect',\n 'disparities',\n 'disaster',\n 'grantor',\n 'reassign',\n 'ineffectiveness',\n 'impressively',\n 'satisfactory',\n 'erode',\n 'disgrace',\n 'unmarketable',\n 'incarcerations',\n 'preclude',\n 'risk',\n 'provoke',\n 'monopolists',\n 'disproportion',\n 'inventive',\n 'prosecutor',\n 'picket',\n 'apparently',\n 'mistakenly',\n 'promulgators',\n 'corruptness',\n 'incorrect',\n 'subdocket',\n 'willfully',\n 'restrain',\n 'undercapitalized',\n 'repudiation',\n 'reexamine',\n 'suspension',\n 'circumvent',\n 'obligation',\n 'allegedly',\n 'punishment',\n 'disaffirmance',\n 'unsure',\n 'overtly',\n 'evictions',\n 'recession',\n 'immoral',\n 'nolo',\n 'surpass',\n 'escalate',\n 'testimony',\n 'codicils',\n 'defendant',\n 'upturns',\n 'noncompetitive',\n 'notarial',\n 'collusive',\n 'despite',\n 'prevention',\n 'penalize',\n 'underperform',\n 'unknown',\n 'calamities',\n 'thereunder',\n 'legislation',\n 'closure',\n 'nonfiduciary',\n 'optionee',\n 'inconclusive',\n 'arbitrator',\n 'dependence',\n 'dysfunctions',\n 'lose',\n 'unfavorability',\n 'shutdowns',\n 'hereto',\n 'lowest',\n 'harmful',\n 'miscalculate',\n 'undeliverable',\n 'fluctuation',\n 'fluctuations',\n 'contraction',\n 'regulative',\n 'disrupt',\n 'defeases',\n 'dampen',\n 'reprorated',\n 'cancel',\n 'stable',\n 'arrest',\n 'revocations',\n 'dependance',\n 'duly',\n 'unstayed',\n 'unjustifiably',\n 'negatively',\n 'dysfunctional',\n 'nonterminable',\n 'inspiration',\n 'inaccuracy',\n 'punishments',\n 'stipulate',\n 'disallowances',\n 'writedowns',\n 'cyberattack',\n 'complain',\n 'legalization',\n 'impasses',\n 'redefaults',\n 'guilty',\n 'detrimental',\n 'somewhere',\n 'suspicious',\n 'ascendant',\n 'contend',\n 'dismissals',\n 'rescissions',\n 'disavowal',\n 'nonforfeitable',\n 'inimical',\n 'roughly',\n 'deadlocks',\n 'unreported',\n 'overcharge',\n 'defacement',\n 'inadvisability',\n 'reject',\n 'thenceforward',\n 'unusual',\n 'layoff',\n 'incidence',\n 'indefiniteness',\n 'alteration',\n 'aforesaid',\n 'incorrectly',\n 'shrinkages',\n 'controversial',\n 'rebuttably',\n 'excellence',\n 'vibrant',\n 'deceit',\n 'worst',\n 'nonjudicially',\n 'hinder',\n 'argument',\n 'recourses',\n 'unsuccessful',\n 'legislations',\n 'irreparably',\n 'mischaracterization',\n 'monopolistic',\n 'susceptibility',\n 'abusive',\n 'tenantability',\n 'violative',\n 'cut',\n 'proficiently',\n 'anomaly',\n 'smoothly',\n 'unsuspected',\n 'distortions',\n 'enthusiasm',\n 'nullities',\n 'pose',\n 'immateriality',\n 'slander',\n 'deficits',\n 'pleasantly',\n 'indefinitely',\n 'inequitably',\n 'confuse',\n 'conflict',\n 'appellants',\n 'variability',\n 'bad',\n 'unconstitutionally',\n 'demolition',\n 'unsuccessfully',\n 'ascendancy',\n 'unparalleled',\n 'mediate',\n 'falsely',\n 'whereupon',\n 'escrowing',\n 'aggravations',\n 'abeyances',\n 'embargo',\n 'understatements',\n 'uncertain',\n 'thereon',\n 'distraction',\n 'provisoes',\n 'untested',\n 'unfair',\n 'adversarial',\n 'speculate',\n 'adjournment',\n 'frustrate',\n 'legality',\n 'dangerously',\n 'void',\n 'unrest',\n 'disorderly',\n 'miscalculation',\n 'offeree',\n 'disasters',\n 'facie',\n 'achievement',\n 'enhance',\n 'forfeitability',\n 'commit',\n 'disgorgements',\n 'disproportionate',\n 'moreover',\n 'possibility',\n 'incidences',\n 'underpay',\n 'forfeiture',\n 'reparation',\n 'slower',\n 'turmoil',\n 'mislabeling',\n 'crossclaim',\n 'strict',\n 'egregious',\n 'hardship',\n 'unliquidated',\n 'conveyance',\n 'harshly',\n 'unpredicted',\n 'stabilization',\n 'nonpayments',\n 'evasive',\n 'untruth',\n 'herewithin',\n 'thereinafter',\n 'tortiously',\n 'dishonestly',\n 'embezzle',\n 'insurrection',\n 'fail',\n 'incapacitate',\n 'whatever',\n 'drop',\n 'discontinuances',\n 'incompetency',\n 'conservatorships',\n 'contraventions',\n 'closeouts',\n 'disgorgement',\n 'thereat',\n 'immature',\n 'disloyalty',\n 'attainments',\n 'defamatory',\n 'expropriation',\n 'disassociation',\n 'misinform',\n 'foreclosures',\n 'undesirable',\n 'dissenters',\n 'tolerate',\n 'unacceptably',\n 'forfeit',\n 'favorably',\n 'writedown',\n 'untrusted',\n 'hereinbefore',\n 'intermittent',\n 'retrocessionaires',\n 'pervasiveness',\n 'unfriendly',\n 'unenforceable',\n 'mislead',\n 'maliciously',\n 'requirement',\n 'nonjudicial',\n 'fraudulent',\n 'acquirors',\n 'riskiest',\n 'catastrophic',\n 'disagreements',\n 'negative',\n 'rejection',\n 'discredit',\n 'underfunded',\n 'unannounced',\n 'predict',\n 'criminalize',\n 'untruthfulness',\n 'predictive',\n 'inaccurately',\n 'enable',\n 'overbuilt',\n 'compliment',\n 'meritorious',\n 'accomplishment',\n 'onerous',\n 'disqualification',\n 'unfavourable',\n 'surety',\n 'noncontributory',\n 'obstructions',\n 'delinquent',\n 'sometimes',\n 'justifiable',\n 'unsaleable',\n 'redact',\n 'adjudge',\n 'dissatisfy',\n 'litigation',\n 'retribution',\n 'settlement',\n 'lack',\n 'spectacular',\n 'restatements',\n 'misunderstand',\n 'illegally',\n 'distribute',\n 'traumatic',\n 'novo',\n 'codicil',\n 'unaccounted',\n 'risky',\n 'slowest',\n 'drawbacks',\n 'sudden',\n 'depose',\n 'legalize',\n 'catastrophes',\n 'downsize',\n 'win',\n 'disagree',\n 'lapse',\n 'anticipation',\n 'gratuitous',\n 'enthusiastically',\n 'unknowingly',\n 'divestitures',\n 'unlawfully',\n 'opportunities',\n 'inattention',\n 'resignations',\n 'premiere',\n 'injury',\n 'hereof',\n 'arbitrarily',\n 'refiled',\n 'inconsistencies',\n 'discrepancies',\n 'mediations',\n 'disloyally',\n 'deposition',\n 'impositions',\n 'unwarranted',\n 'willful',\n 'insurrections',\n 'weaker',\n 'interfere',\n 'opportunity',\n 'threaten',\n 'attractiveness',\n 'bailees',\n 'choate',\n 'crossroad',\n 'misapplication',\n 'disadvantageous',\n 'abdication',\n 'abnormality',\n 'indecency',\n 'nullification',\n 'rebound',\n 'misjudgment',\n 'punitive',\n 'beneficially',\n 'debarment',\n 'noncontractual',\n 'injurious',\n 'thenceforth',\n 'unlicensed',\n 'noncompliance',\n 'boost',\n 'beneficial',\n 'noncancellable',\n 'inaccessible',\n 'delegatee',\n 'violations',\n 'poor',\n 'cutback',\n 'unsuited',\n 'unfortunately',\n 'undisputed',\n 'positively',\n 'misrepresent',\n 'unrecoverable',\n 'drawback',\n 'remised',\n 'dictate',\n 'solvency',\n 'unlawful',\n 'constitutions',\n 'counterfeit',\n 'deadweight',\n 'theretofor',\n 'retrocede',\n 'unsalable',\n 'deterrents',\n 'dependant',\n 'unfeasible',\n 'involuntarily',\n 'clarification',\n 'inequities',\n 'summons',\n 'defease',\n 'uncorrected',\n 'vendees',\n 'inevitable',\n 'inexperienced',\n 'therewith',\n 'persist',\n 'divest',\n 'indorse',\n 'grievances',\n 'contradictory',\n 'insist',\n 'reparations',\n 'prosper',\n 'highest',\n 'lag',\n 'jurors',\n 'unconfirmed',\n 'unconscionably',\n 'evade',\n 'confinement',\n 'subclauses',\n 'predatory',\n 'injunctions',\n 'standstills',\n 'unremediated',\n 'expropriate',\n 'exceptional',\n 'recoupable',\n 'whensoever',\n 'restriction',\n 'hostility',\n 'uncover',\n 'rebuttal',\n 'whereof',\n 'countersuits',\n 'thereafter',\n 'difficulty',\n 'harass',\n 'directive',\n 'assertions',\n 'recourse',\n 'indecent',\n 'exclusiveness',\n 'interferences',\n 'escheatment',\n 'confiscations',\n 'catastrophically',\n 'contingently',\n 'disavow',\n 'taint',\n 'tend',\n 'droughts',\n 'alliances',\n 'absolve',\n 'unnecessary',\n 'recklessness',\n 'fictitious',\n 'denigrate',\n 'wrongdoings',\n 'devastation',\n 'unsurpassed',\n 'covenant',\n 'popular',\n 'provisos',\n 'conveniens',\n 'undercut',\n 'mislabelled',\n 'delegatable',\n 'demotion',\n 'rebuttals',\n 'crossroads',\n 'tremendously',\n 'escheated',\n 'perhaps',\n 'disapprove',\n 'defeasances',\n 'unreasonable',\n 'perfectly',\n 'disapproval',\n 'alterations',\n 'retaliate',\n 'inadequate',\n 'unable',\n 'arrearage',\n 'subpoena',\n 'untenable',\n 'wrong',\n 'irregular',\n 'abovementioned',\n 'acquiesce',\n 'deviation',\n 'conspiracies',\n 'delegees',\n 'invalidate',\n 'fin',\n 'complainants',\n 'misapply',\n 'reassignments',\n 'may',\n 'negligence',\n 'petitioners',\n 'stabilizations',\n 'anticompetitive',\n 'extracorporeal',\n 'deprecation',\n 'rata',\n 'jurisdictions',\n 'admissibility',\n 'bona',\n 'vaguenesses',\n 'writeoffs',\n 'indefinite',\n 'wilful',\n 'interference',\n 'chattels',\n 'intrusion',\n 'divestiture',\n 'preamendment',\n 'charitable',\n 'unpredictably',\n 'spectacularly',\n 'egregiously',\n 'conducive',\n 'distortion',\n 'unwritten',\n 'consent',\n 'abide',\n 'pledgor',\n 'imprecision',\n 'liquidate',\n 'unreasonableness',\n 'disinterestedness',\n 'corruption',\n 'displace',\n 'clawbacks',\n 'penalty',\n 'unsuitability',\n 'obligatory',\n 'remand',\n 'solve',\n 'misclassification',\n 'downturn',\n 'nonpayment',\n 'refile',\n 'offerees',\n 'reluctance',\n 'pledgee',\n 'flaw',\n 'setback',\n 'greatly',\n 'proficient',\n 'confession',\n 'writeoff',\n 'beautifully',\n 'bar',\n 'fugitive',\n 'exceedance',\n 'prohibition',\n 'inactivation',\n 'litigator',\n 'inappropriately',\n 'adjudicator',\n 'disturbance',\n 'deny',\n 'erroneously',\n 'weakest',\n 'lie',\n 'precipitous',\n 'diligently',\n 'disqualifications',\n 'undefeased',\n 'incompetents',\n 'unemployment',\n 'weak',\n 'tort',\n 'satisfactorily',\n 'deviations',\n 'unremedied',\n 'writ',\n 'objectionably',\n 'delinquencies',\n 'nonbreaching',\n 'worthy',\n 'abrogation',\n 'detrimentally',\n 'calamity',\n 'offend',\n 'unavailability',\n 'refusals',\n 'advancement',\n 'unto',\n 'stagnation',\n 'appellees',\n 'friendly',\n 'frustrations',\n 'suspicions',\n 'presumably',\n 'impressive',\n 'irrevocably',\n 'bailiffs',\n 'dangers',\n 'underperformance',\n 'oversupply',\n 'refiles',\n 'falsity',\n 'restraint',\n 'insolvent',\n 'inventors',\n 'obsolete',\n 'suspicion',\n 'disassociate',\n 'scrutiny',\n 'subtrust',\n 'proactive',\n 'probationers',\n 'absences',\n 'subtrusts',\n 'standstill',\n 'criticize',\n 'diminish',\n 'strongest',\n 'stronger',\n 'hereinabove',\n 'exclusive',\n 'whereby',\n 'complimentary',\n 'probations',\n 'courtroom',\n 'contestability',\n 'collaboration',\n 'irreversible',\n 'approximations',\n 'denial',\n 'contravention',\n 'purport',\n 'conciliations',\n 'interposition',\n 'petitioner',\n 'vendee',\n 'dishonor',\n 'attrition',\n 'dispossess',\n 'cyberbullying',\n 'falsify',\n 'petition',\n 'improve',\n 'indemnities',\n 'unsold',\n 'disappearances',\n 'litigations',\n 'postponements',\n 'uncollectable',\n 'exploitations',\n 'lawsuits',\n 'unseasonable',\n 'fantastic',\n 'conditional',\n 'recall',\n 'involuntary',\n 'lockouts',\n 'anywise',\n 'misinterpretation',\n 'incontestable',\n 'undesired',\n 'disinterestedly',\n 'imprudently',\n 'malpractice',\n 'nuisances',\n 'dishonest',\n 'misconduct',\n 'nonperforming',\n 'criminal',\n 'judiciary',\n 'compel',\n 'assertable',\n 'unemployed',\n 'problematical',\n 'chargeoffs',\n 'innovativeness',\n 'indemnitors',\n 'jurist',\n 'punishable',\n 'disaffirm',\n 'unwanted',\n 'dismiss',\n 'obscenity',\n 'disappointments',\n 'purportedly',\n 'appointor',\n 'rejections',\n 'bailment',\n 'mandatory',\n 'regulations',\n 'aggravate',\n 'arbitrary',\n 'conclusive',\n 'misplace',\n 'subclause',\n 'defeasement',\n 'complications',\n 'inconvenience',\n 'nearly',\n 'unreliable',\n 'dependable',\n 'aftermaths',\n 'ineligibility',\n 'abandonment',\n 'invalid',\n 'lawfulness',\n 'monopolize',\n 'unqualified',\n 'dismal',\n 'ineffective',\n 'rumor',\n 'interrogatories',\n 'severally',\n 'demolitions',\n 'disappearance',\n 'justices',\n 'personam',\n 'variance',\n 'arrearages',\n 'must',\n 'unavoidable',\n 'oversupplied',\n 'regulator',\n 'stressful',\n 'invalidity',\n 'confrontation',\n 'prestigious',\n 'exclusives',\n 'suffer',\n 'sluggish',\n 'violent',\n 'speculatively',\n 'denials',\n 'ineffectively',\n 'defalcation',\n 'rationalize',\n 'termination',\n 'illicit',\n 'inadvertent',\n 'unappealed',\n 'overbuilds',\n 'disqualify',\n 'ill',\n 'overages',\n 'conspire',\n 'appear',\n 'wrongfully',\n 'escrows',\n 'protest',\n 'cautious',\n 'unsettle',\n 'hide',\n 'degradations',\n 'harassment',\n 'forbearance',\n 'severable',\n 'contention',\n 'unprofitability',\n 'loss',\n 'contingency',\n 'pleas',\n 'enhancement',\n 'invalidation',\n 'scandalous',\n 'erratic',\n 'undischarged',\n 'quit',\n 'bailout',\n 'eviction',\n 'preliminary',\n 'derogatory',\n 'acquittals',\n 'crimes',\n 'inadvisable',\n 'recoupment',\n 'offences',\n 'herefrom',\n 'renouncements',\n 'insubordination',\n 'failure',\n 'arbitrational',\n 'winners',\n 'willfulness',\n 'uncontrollable',\n 'bankruptcy',\n 'interruptions',\n 'divestments',\n 'grievance',\n 'reregulation',\n 'aggravation',\n 'criminally',\n 'noninfringement',\n 'protract',\n 'evasion',\n 'encroach',\n 'misappropriations',\n 'unappealable',\n 'juris',\n 'disappointment',\n 'ideal',\n 'adulterate',\n 'innovative',\n 'problematic',\n 'dissolution',\n 'downtimes',\n 'better',\n 'nonconformity',\n 'seldomly',\n 'correction',\n 'denigration',\n 'underestimation',\n 'serious',\n 'overproduce',\n 'unexpectedly',\n 'oppositions',\n 'exculpatory',\n 'advantageously',\n 'retaliations',\n 'whatsoever',\n 'delinquently',\n 'unequivocal',\n 'cybercriminals',\n 'dispossessory',\n 'unfit',\n 'delay',\n 'indemnifiable',\n 'dependability',\n 'caution',\n 'sue',\n 'insufficient',\n 'demurrers',\n 'vary',\n 'disincentives',\n 'exacerbation',\n 'degradation',\n 'creativeness',\n 'amendments',\n 'distract',\n 'improbability',\n 'conciliate',\n 'whomsoever',\n 'decedent',\n 'acquittal',\n 'manipulative',\n 'prediction',\n 'disruptive',\n 'outmode',\n 'creatively',\n 'prejudicial',\n 'deleterious',\n 'frivolous',\n 'undisclosed',\n 'inconsistent',\n 'markdowns',\n 'deficiency',\n 'definitely',\n 'unaware',\n 'definitively',\n 'imprisonment',\n 'inactivations',\n 'refusal',\n 'insofar',\n 'retroceded',\n 'unreconciled',\n 'abandon',\n 'manipulation',\n 'favorite',\n 'violation',\n 'incompetent',\n 'deficit',\n 'whereabouts',\n 'defalcations',\n 'facto',\n 'trouble',\n 'decree',\n 'impediment',\n 'unequivocally',\n 'annulment',\n 'calamitous',\n 'assignations',\n 'bankruptcies',\n 'riskiness',\n 'exaggerate',\n 'drastically',\n 'unsatisfied',\n 'excel',\n 'uncollectible',\n 'counterclaim',\n 'dissenter',\n 'intimidation',\n 'hereby',\n 'breakthrough',\n 'wherewith',\n 'barriers',\n 'subrogation',\n 'lawmakers',\n 'verdicts',\n 'fault',\n 'overrun',\n 'inconsistency',\n 'prorata',\n 'subparagraphs',\n 'statutorily',\n 'assumable',\n 'unencumber',\n 'substandard',\n 'interrogations',\n 'irreconcilable',\n 'perpetration',\n 'ban',\n 'transparency',\n 'illegality',\n 'reassignment',\n 'stringent',\n 'bribe',\n 'subleasee',\n 'deceitful',\n 'liquidator',\n 'unquantifiable',\n 'repledged',\n 'rectification',\n 'unmerchantable',\n 'incident',\n 'preset',\n 'cautiousness',\n 'requirements',\n 'severability',\n 'whereunder',\n 'allegations',\n 'bottleneck',\n 'proactively',\n 'litigate',\n 'dependencies',\n 'optimistic',\n 'devolve',\n 'versatile',\n 'pending',\n 'arbitrative',\n 'legalizations',\n 'duress',\n 'irrevocable',\n 'attractive',\n 'innovate',\n 'resolve',\n 'exculpate',\n 'dishonorable',\n 'unconstitutional',\n 'interpositions',\n 'misdemeanors',\n 'please',\n 'regain',\n 'culpably',\n 'indemnity',\n 'stoppage',\n 'falsification',\n 'acclaim',\n 'breakthroughs',\n 'enforceably',\n 'herefor',\n 'nonforfeitability',\n 'protraction',\n 'undue',\n 'indemnitor',\n 'restatement',\n 'unsound',\n 'docket',\n 'possible',\n 'sometime',\n 'refiling',\n 'injunctive',\n 'discontinuations',\n 'encouragement',\n 'litigiousness',\n 'prosecution',\n 'object',\n 'rebuttable',\n 'divestment',\n 'adversities',\n 'renounce',\n 'constructively',\n 'censure',\n 'lawful',\n 'incredibly',\n ...]"
     },
     "execution_count": 10,
     "metadata": {},
     "output_type": "execute_result"
    }
   ],
   "source": [
    "lemmatised_words_distinct"
   ],
   "metadata": {
    "collapsed": false,
    "ExecuteTime": {
     "start_time": "2023-08-05T16:01:30.299832Z",
     "end_time": "2023-08-05T16:01:30.320959Z"
    }
   }
  },
  {
   "cell_type": "code",
   "execution_count": 11,
   "outputs": [],
   "source": [
    "df = pd.DataFrame({'word': lemmatised_words_distinct})\n",
    "df.to_csv('LMD-distinct-words.csv', index=False)"
   ],
   "metadata": {
    "collapsed": false,
    "ExecuteTime": {
     "start_time": "2023-08-05T16:01:37.756031Z",
     "end_time": "2023-08-05T16:01:37.765857Z"
    }
   }
  },
  {
   "cell_type": "code",
   "execution_count": null,
   "outputs": [],
   "source": [],
   "metadata": {
    "collapsed": false
   }
  }
 ],
 "metadata": {
  "kernelspec": {
   "display_name": "Python 3",
   "language": "python",
   "name": "python3"
  },
  "language_info": {
   "codemirror_mode": {
    "name": "ipython",
    "version": 2
   },
   "file_extension": ".py",
   "mimetype": "text/x-python",
   "name": "python",
   "nbconvert_exporter": "python",
   "pygments_lexer": "ipython2",
   "version": "2.7.6"
  }
 },
 "nbformat": 4,
 "nbformat_minor": 0
}
